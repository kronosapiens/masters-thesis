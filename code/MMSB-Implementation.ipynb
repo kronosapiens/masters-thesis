{
 "cells": [
  {
   "cell_type": "markdown",
   "metadata": {},
   "source": [
    "## MMSB: Implementation"
   ]
  },
  {
   "cell_type": "code",
   "execution_count": null,
   "metadata": {
    "collapsed": false
   },
   "outputs": [],
   "source": [
    "from datetime import datetime\n",
    "\n",
    "from IPython.core.debugger import Tracer\n",
    "import matplotlib\n",
    "import matplotlib.pyplot as plt\n",
    "import pandas as pd\n",
    "import numpy as np\n",
    "from scipy.special import digamma, gammaln\n",
    "\n",
    "%matplotlib inline\n",
    "matplotlib.style.use('ggplot')\n",
    "tracer = Tracer()\n",
    "\n",
    "import warnings\n",
    "warnings.filterwarnings('error')"
   ]
  },
  {
   "cell_type": "code",
   "execution_count": null,
   "metadata": {
    "collapsed": true
   },
   "outputs": [],
   "source": [
    "# utils.py\n",
    "\n",
    "def gen_data(B, V, N, alpha=0.1):\n",
    "    assert B.shape[0] == B.shape[1]\n",
    "    K = B.shape[0]\n",
    "    alpha_vec = [alpha for _ in xrange(K)]\n",
    "    \n",
    "    pi = np.zeros((V, K))\n",
    "    X = np.zeros((N, 3), dtype=int)\n",
    "    for p in xrange(V):\n",
    "        pi[p] = np.random.dirichlet(alpha_vec)\n",
    "    \n",
    "    for n in xrange(N):\n",
    "        p = q = np.random.randint(V)\n",
    "        while p == q:\n",
    "            q = np.random.randint(V)\n",
    "        \n",
    "        p, q = sorted([p, q])\n",
    "        g = np.random.choice(range(K), p=pi[p])\n",
    "        h = np.random.choice(range(K), p=pi[q])\n",
    "        y = np.random.binomial(1, p=B[g,h])\n",
    "        X[n,:] = np.array([p,q,y])\n",
    "        \n",
    "    return X, pi\n",
    "\n",
    "def make_B(K, probs=[.2]):\n",
    "    B = np.eye(K) / 2. # 0.5 on diagonal\n",
    "    for g in xrange(B.shape[0]):\n",
    "        for h in xrange(g): # h < g, lower triangle\n",
    "            B[h,g] = np.random.choice(probs)\n",
    "            B[g,h] = 1 - B[h,g]\n",
    "    return B\n",
    "\n",
    "def get_interactions(X, V):\n",
    "    I = np.zeros((V, V), dtype=int)\n",
    "    for p, q, v in X:\n",
    "        if v:\n",
    "            I[p,q] += 1\n",
    "        else:\n",
    "            I[q,p] += 1\n",
    "            \n",
    "    for p in xrange(V):\n",
    "        for q in xrange(p):\n",
    "            if I[p,q] > I[q,p]:\n",
    "                I[p,q] = 1\n",
    "                I[q,p] = 0\n",
    "            else:\n",
    "                I[p,q] = 0\n",
    "                I[q,p] = 1\n",
    "    return I"
   ]
  },
  {
   "cell_type": "code",
   "execution_count": null,
   "metadata": {
    "collapsed": false
   },
   "outputs": [],
   "source": [
    "# mmsb.py\n",
    "\n",
    "def train_mmsb(X, K, n_iter=300, print_i=False):\n",
    "    \"\"\"X is an Nx3 matrix. Each row has the format:\n",
    "    [smallIndex, bigIndex, bool(smallIndex -> bigIndex)]\n",
    "    \"\"\"\n",
    "    V = max(X[:,1]) + 1\n",
    "    N = X.shape[0] # Number of interactions\n",
    "\n",
    "    ### Hyperparameters\n",
    "\n",
    "    alpha = 0.1 # Sparse prior\n",
    "    \n",
    "    ### Variational parameters\n",
    "\n",
    "    # pi ~ dir(gamma) -- per-item prototype distribution\n",
    "    gamma = np.zeros((K,V)) + (2. * N) / K\n",
    "    \n",
    "    # z_pq ~ cat(phi_p) -- per-interaction prototype distribution\n",
    "    phi_pq = np.zeros((K,N)) + 1. / K\n",
    "    phi_qp = np.zeros((K,N)) + 1. / K\n",
    "\n",
    "    # Interaction parameter matrix\n",
    "    B = np.abs(np.random.random((K,K)))\n",
    "    # B = np.zeros((K,K)) + 0.5 # Makes deterministic\n",
    "    \n",
    "    # Misc constants\n",
    "    win_idx = X[:,2] == 1 # p/g -> q/h\n",
    "    loss_idx = X[:,2] == 0 # q/h -> p/g\n",
    "\n",
    "    def stretch_gamma(gamma, which):\n",
    "        sgamma = np.zeros((N,K))\n",
    "        p_idx = X[:,0] if which == 'pq' else X[:,1]\n",
    "        for p in xrange(V):\n",
    "            sgamma[p_idx == p] = gamma[:,p]\n",
    "        sgamma = np.swapaxes(sgamma, 0, 1) # K N\n",
    "        return sgamma\n",
    "    \n",
    "    def get_F():\n",
    "        F = np.zeros((N, K, K)) + B # Broadcast to tensor, N G H\n",
    "        F[loss_idx] = 1 - F[loss_idx] # Fngh = 1 - Fngh if Yn == 0\n",
    "        F = np.log(F)\n",
    "        return F\n",
    "    \n",
    "    def get_PHI():\n",
    "        PHI_pq = np.zeros((K,K,N)) + phi_pq # Broadcast to tensor, H G N\n",
    "        PHI_qp = np.zeros((K,K,N)) + phi_qp # Broadcast to tensor, G H N\n",
    "        PHI_pq = np.swapaxes(PHI_pq, 0, 1) # G H N\n",
    "        PHI = PHI_pq * PHI_qp # G H N\n",
    "        return PHI\n",
    "    \n",
    "    def get_a():\n",
    "        a = digamma(gamma) - digamma(gamma.sum(axis=0)) # # E[ln pi], K V\n",
    "        return a\n",
    "    \n",
    "    def normalize(tensor): # Log-sum-exp trick\n",
    "        xmax = tensor.max(axis=0) # Max across prototypes\n",
    "        sum_exp = np.exp(tensor - xmax).sum(axis=0)\n",
    "        normalizer = xmax + np.log(sum_exp) # Normalize over prototypes    \n",
    "        tensor = np.exp(tensor - normalizer) # Exponentiate\n",
    "        return tensor\n",
    "    \n",
    "    def update_B(): # Prototype interaction parameters\n",
    "        PHI = get_PHI() # G H N\n",
    "        PHI_rotate = np.swapaxes(PHI, 0, 1) # H G N\n",
    "        num = (PHI[:,:,win_idx]).sum(axis=2) + PHI_rotate[:,:,loss_idx].sum(axis=2)\n",
    "        denom = (PHI + PHI_rotate).sum(axis=2)\n",
    "        B = num / denom\n",
    "        return B\n",
    "\n",
    "    def update_gamma(): # per-item prototype distribution\n",
    "        gamma = np.zeros((K,V)) + alpha\n",
    "        for p in xrange(V):\n",
    "            pq_idx = X[:,0] == p\n",
    "            qp_idx = X[:,1] == p\n",
    "            gamma[:,p] += phi_pq[:,pq_idx].sum(axis=1) # Sum rows (interactions)\n",
    "            gamma[:,p] += phi_qp[:,qp_idx].sum(axis=1) # Sum rows (interactions)\n",
    "        return gamma\n",
    "\n",
    "    def update_phi(which): # per-interaction prototype distribution\n",
    "        a = get_a() # K V\n",
    "        a = stretch_gamma(a, which) # K N\n",
    "\n",
    "        F = get_F() # N G H (Note: G, H = K)\n",
    "        \n",
    "        if which == 'pq':\n",
    "            PHI = np.zeros((K, K, N)) + phi_qp # Broadcast to tensor, G H N\n",
    "        else: # qp\n",
    "            PHI = np.zeros((K, K, N)) + phi_pq # Broadcast to tensor, H G N\n",
    "\n",
    "        F = np.swapaxes(F, 0, 2) # H G N\n",
    "        if which == 'pq':\n",
    "            F = np.swapaxes(F, 0, 1) # G H N\n",
    "            \n",
    "        phi = (PHI * F).sum(axis=1) # K N (Sum H for pq, G for qp)\n",
    "        phi = phi + a\n",
    "        phi = normalize(phi)\n",
    "        \n",
    "        return phi\n",
    "\n",
    "    def calc_elbo():\n",
    "        elbo = 0\n",
    "        \n",
    "        a = get_a() # E[ln pi], K V\n",
    "\n",
    "        # data likelihood\n",
    "        PHI = get_PHI() # G H N\n",
    "        F = get_F() # N G H\n",
    "        F = np.swapaxes(F, 0, 2) # H G N\n",
    "        F = np.swapaxes(F, 0, 1) # G H N\n",
    "        elbo += (PHI * F).sum()\n",
    "\n",
    "        # per-interaction prototype instantiation p - q (N)\n",
    "        a_pq = stretch_gamma(a, 'pq') # K N\n",
    "        a_qp = stretch_gamma(a, 'qp') # K N\n",
    "        dummy_phi_pq = np.where(phi_pq > 0, phi_pq, 10**-100) # Avoid np.log(0)\n",
    "        dummy_phi_qp = np.where(phi_qp > 0, phi_qp, 10**-100)\n",
    "        elbo += (phi_pq * a_pq).sum() + (phi_qp * a_qp).sum()\n",
    "        elbo -= (phi_pq * np.log(dummy_phi_pq)).sum()\n",
    "        elbo -= (phi_qp * np.log(dummy_phi_qp)).sum()\n",
    "        \n",
    "        # prototypes p - q (V)\n",
    "        elbo += (V * gammaln(K * alpha)) - gammaln(gamma.sum(axis=0)).sum()\n",
    "        elbo -= (V * K * gammaln(alpha)) - gammaln(gamma).sum()\n",
    "        elbo += ((alpha - gamma) * a).sum()\n",
    "\n",
    "        return elbo\n",
    "\n",
    "    elbos = []\n",
    "    start = datetime.now()\n",
    "    for i in xrange(n_iter): # Nested CAVI\n",
    "        if print_i:\n",
    "            print i\n",
    "        phi_pq = np.zeros((K,N)) + 1. / K\n",
    "        phi_qp = np.zeros((K,N)) + 1. / K\n",
    "        for j in xrange(5):\n",
    "                phi_pq = update_phi('pq')\n",
    "                phi_qp = update_phi('qp')\n",
    "        gamma = update_gamma()\n",
    "        B = update_B()\n",
    "        elbos.append(calc_elbo())\n",
    "    print datetime.now() - start\n",
    "    \n",
    "    gamma /= gamma.sum(axis=0) # Normalize\n",
    "    \n",
    "    return gamma, phi_pq, phi_qp, B, elbos"
   ]
  },
  {
   "cell_type": "code",
   "execution_count": null,
   "metadata": {
    "collapsed": false
   },
   "outputs": [],
   "source": [
    "K = 4\n",
    "V = 100\n",
    "N = 10000\n",
    "B_ = make_B(K, probs=[.1])\n",
    "X, pi = gen_data(B_, V, N, alpha=0.05)"
   ]
  },
  {
   "cell_type": "code",
   "execution_count": null,
   "metadata": {
    "collapsed": false
   },
   "outputs": [],
   "source": [
    "gamma, phi_pq, phi_qp, B, elbos = train_mmsb(X, K, 500)\n",
    "pd.Series(elbos).plot(figsize=[12,4])\n",
    "max(elbos), elbos[-1]"
   ]
  },
  {
   "cell_type": "markdown",
   "metadata": {},
   "source": [
    "# Interaction matrix"
   ]
  },
  {
   "cell_type": "code",
   "execution_count": null,
   "metadata": {
    "collapsed": false
   },
   "outputs": [],
   "source": [
    "I = pd.DataFrame(get_interactions(X, V))\n",
    "ptypes = pd.DataFrame(gamma).idxmax()\n",
    "plt.pcolor(I.ix[ptypes.sort_values().index], cmap='Blues')"
   ]
  },
  {
   "cell_type": "markdown",
   "metadata": {},
   "source": [
    "# Pi (prototype distributions)"
   ]
  },
  {
   "cell_type": "code",
   "execution_count": null,
   "metadata": {
    "collapsed": false
   },
   "outputs": [],
   "source": [
    "pd.DataFrame(pi).T.plot(kind='bar', cmap='Accent', figsize=[14,4])"
   ]
  },
  {
   "cell_type": "code",
   "execution_count": null,
   "metadata": {
    "collapsed": false
   },
   "outputs": [],
   "source": [
    "pd.DataFrame(gamma).plot(kind='bar', cmap='Accent', figsize=[14,4])"
   ]
  },
  {
   "cell_type": "markdown",
   "metadata": {},
   "source": [
    "# B (interaction probabilities)"
   ]
  },
  {
   "cell_type": "code",
   "execution_count": null,
   "metadata": {
    "collapsed": false
   },
   "outputs": [],
   "source": [
    "pd.DataFrame(B).round(6)"
   ]
  }
 ],
 "metadata": {
  "kernelspec": {
   "display_name": "Python 2",
   "language": "python",
   "name": "python2"
  },
  "language_info": {
   "codemirror_mode": {
    "name": "ipython",
    "version": 2
   },
   "file_extension": ".py",
   "mimetype": "text/x-python",
   "name": "python",
   "nbconvert_exporter": "python",
   "pygments_lexer": "ipython2",
   "version": "2.7.12"
  }
 },
 "nbformat": 4,
 "nbformat_minor": 0
}
