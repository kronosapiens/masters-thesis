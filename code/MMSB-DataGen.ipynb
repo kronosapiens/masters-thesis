{
 "cells": [
  {
   "cell_type": "markdown",
   "metadata": {},
   "source": [
    "# MMSB: Data Generation"
   ]
  },
  {
   "cell_type": "code",
   "execution_count": 1,
   "metadata": {
    "collapsed": false
   },
   "outputs": [],
   "source": [
    "from datetime import datetime\n",
    "\n",
    "import matplotlib\n",
    "import matplotlib.pyplot as plt\n",
    "import pandas as pd\n",
    "import numpy as np\n",
    "\n",
    "import mmsb\n",
    "import utils\n",
    "\n",
    "%matplotlib inline\n",
    "matplotlib.style.use('ggplot')\n",
    "\n",
    "from IPython.core.debugger import Tracer\n",
    "tracer = Tracer()\n",
    "\n",
    "import warnings\n",
    "warnings.filterwarnings('error')"
   ]
  },
  {
   "cell_type": "code",
   "execution_count": 26,
   "metadata": {
    "collapsed": true
   },
   "outputs": [],
   "source": [
    "def gen_data(B, V, N, alpha=0.1):\n",
    "    assert B.shape[0] == B.shape[1]\n",
    "    K = B.shape[0]\n",
    "    alpha_vec = [alpha for _ in xrange(K)]\n",
    "    \n",
    "    pi = np.zeros((V, K))\n",
    "    X = np.zeros((N, 3), dtype=int)\n",
    "    for p in xrange(V):\n",
    "        pi[p] = np.random.dirichlet(alpha_vec)\n",
    "    \n",
    "    for n in xrange(N):\n",
    "        p = q = np.random.randint(V)\n",
    "        while p == q:\n",
    "            q = np.random.randint(V)\n",
    "        \n",
    "        p, q = sorted([p, q])\n",
    "        g = np.random.choice(range(K), p=pi[p])\n",
    "        h = np.random.choice(range(K), p=pi[q])\n",
    "#         y = np.random.binomial(1, p=B[g,h])\n",
    "        y = np.random.binomial(1, p=0.5)\n",
    "        X[n,:] = np.array([p,q,y])\n",
    "        \n",
    "    return X, pi"
   ]
  },
  {
   "cell_type": "code",
   "execution_count": 40,
   "metadata": {
    "collapsed": true
   },
   "outputs": [],
   "source": [
    "def get_interactions(X, V):\n",
    "    I = np.zeros((V, V), dtype=int)\n",
    "    for p, q, v in X:\n",
    "        if v:\n",
    "            I[p,q] += 1\n",
    "        else:\n",
    "            I[q,p] += 1\n",
    "\n",
    "    for p in xrange(V):\n",
    "        for q in xrange(p):\n",
    "            if I[p,q] > I[q,p]:\n",
    "                I[p,q] = 1\n",
    "                I[q,p] = 0\n",
    "            elif I[p,q] < I[q,p]:\n",
    "                I[p,q] = 0\n",
    "                I[q,p] = 1\n",
    "            else: I[q,p] = I[p,q] = 0.5\n",
    "    return I"
   ]
  },
  {
   "cell_type": "code",
   "execution_count": 27,
   "metadata": {
    "collapsed": false
   },
   "outputs": [],
   "source": [
    "K = 3\n",
    "V = 100\n",
    "N = 1000\n",
    "B_ = utils.make_B(K, probs=[0.1])\n",
    "X, pi = gen_data(B_, V, N, alpha=0.1)"
   ]
  },
  {
   "cell_type": "code",
   "execution_count": 41,
   "metadata": {
    "collapsed": false
   },
   "outputs": [
    {
     "data": {
      "text/plain": [
       "<matplotlib.collections.PolyCollection at 0x11e04f250>"
      ]
     },
     "execution_count": 41,
     "metadata": {},
     "output_type": "execute_result"
    },
    {
     "data": {
      "image/png": "[encoded data removed]",
      "text/plain": [
       "<matplotlib.figure.Figure at 0x11de9ca90>"
      ]
     },
     "metadata": {},
     "output_type": "display_data"
    }
   ],
   "source": [
    "I = pd.DataFrame(get_interactions(X, V))\n",
    "plt.pcolor(I, cmap='Blues')"
   ]
  },
  {
   "cell_type": "code",
   "execution_count": 39,
   "metadata": {
    "collapsed": false
   },
   "outputs": [
    {
     "data": {
      "text/plain": [
       "array([[0, 0, 0, ..., 0, 0, 0],\n",
       "       [0, 0, 0, ..., 0, 0, 0],\n",
       "       [0, 0, 0, ..., 0, 1, 2],\n",
       "       ..., \n",
       "       [0, 0, 0, ..., 0, 0, 0],\n",
       "       [1, 0, 0, ..., 0, 0, 0],\n",
       "       [0, 0, 0, ..., 0, 0, 0]])"
      ]
     },
     "execution_count": 39,
     "metadata": {},
     "output_type": "execute_result"
    }
   ],
   "source": [
    "get_interactions(X, V)"
   ]
  },
  {
   "cell_type": "code",
   "execution_count": 30,
   "metadata": {
    "collapsed": false
   },
   "outputs": [
    {
     "data": {
      "text/plain": [
       "<matplotlib.collections.PolyCollection at 0x11c1b7490>"
      ]
     },
     "execution_count": 30,
     "metadata": {},
     "output_type": "execute_result"
    },
    {
     "data": {
      "image/png": "[encoded data removed]",
      "text/plain": [
       "<matplotlib.figure.Figure at 0x11a2f1bd0>"
      ]
     },
     "metadata": {},
     "output_type": "display_data"
    }
   ],
   "source": [
    "plt.pcolor(np.round(np.random.random((100,100))), cmap='Blues')"
   ]
  },
  {
   "cell_type": "code",
   "execution_count": null,
   "metadata": {
    "collapsed": false
   },
   "outputs": [],
   "source": [
    "gamma, phi_pq, phi_qp, B, elbos = mmsb.train_mmsb(X, V, K, n_iter=300)\n",
    "pd.Series(elbos).plot(figsize=[12,4])\n",
    "max(elbos), elbos[-1]"
   ]
  },
  {
   "cell_type": "markdown",
   "metadata": {},
   "source": [
    "## Pi (prototype distributions)"
   ]
  },
  {
   "cell_type": "code",
   "execution_count": null,
   "metadata": {
    "collapsed": false
   },
   "outputs": [],
   "source": [
    "pd.DataFrame(pi).T.plot(kind='bar', cmap='Accent', figsize=[14,4])"
   ]
  },
  {
   "cell_type": "code",
   "execution_count": null,
   "metadata": {
    "collapsed": false
   },
   "outputs": [],
   "source": [
    "pd.DataFrame(gamma).plot(kind='bar', cmap='Accent', figsize=[14,4])"
   ]
  },
  {
   "cell_type": "markdown",
   "metadata": {},
   "source": [
    "### B (interaction probabilities)"
   ]
  },
  {
   "cell_type": "code",
   "execution_count": null,
   "metadata": {
    "collapsed": false
   },
   "outputs": [],
   "source": [
    "pd.DataFrame(B).round(6)"
   ]
  },
  {
   "cell_type": "markdown",
   "metadata": {},
   "source": [
    "## Simulation II: Medium graph"
   ]
  },
  {
   "cell_type": "code",
   "execution_count": null,
   "metadata": {
    "collapsed": false
   },
   "outputs": [],
   "source": [
    "K = 4\n",
    "V = 100\n",
    "N = 10000\n",
    "B_ = utils.make_B(K, probs=[.1])\n",
    "X, pi = utils.gen_data(B_, V, N, alpha=0.05)"
   ]
  },
  {
   "cell_type": "code",
   "execution_count": null,
   "metadata": {
    "collapsed": false
   },
   "outputs": [],
   "source": [
    "gamma, phi_pq, phi_qp, B, elbos = mmsb.train_mmsb(X, V, K, n_iter=300)\n",
    "pd.Series(elbos).plot(figsize=[12,4])\n",
    "max(elbos), elbos[-1]"
   ]
  },
  {
   "cell_type": "markdown",
   "metadata": {},
   "source": [
    "### Interaction matrix"
   ]
  },
  {
   "cell_type": "code",
   "execution_count": null,
   "metadata": {
    "collapsed": false
   },
   "outputs": [],
   "source": [
    "I = pd.DataFrame(utils.get_interactions(X, V))\n",
    "ptypes = pd.DataFrame(gamma).idxmax()\n",
    "plt.pcolor(I.ix[ptypes.sort_values().index], cmap='Blues')"
   ]
  },
  {
   "cell_type": "markdown",
   "metadata": {},
   "source": [
    "## Simulation III: Large graph"
   ]
  },
  {
   "cell_type": "code",
   "execution_count": null,
   "metadata": {
    "collapsed": false
   },
   "outputs": [],
   "source": [
    "K = 10\n",
    "V = 300\n",
    "N = 10000\n",
    "B_ = utils.make_B(K, probs=[.1])\n",
    "X, pi = utils.gen_data(B_, V, N, alpha=0.05)"
   ]
  },
  {
   "cell_type": "code",
   "execution_count": null,
   "metadata": {
    "collapsed": false
   },
   "outputs": [],
   "source": [
    "gamma, phi_pq, phi_qp, B, elbos = mmsb.train_mmsb(X, V, K, n_iter=300)\n",
    "pd.Series(elbos).plot(figsize=[12,4])\n",
    "max(elbos), elbos[-1]"
   ]
  },
  {
   "cell_type": "markdown",
   "metadata": {},
   "source": [
    "### Interaction matrix"
   ]
  },
  {
   "cell_type": "code",
   "execution_count": null,
   "metadata": {
    "collapsed": false
   },
   "outputs": [],
   "source": [
    "I = pd.DataFrame(utils.get_interactions(X, V))\n",
    "ptypes = pd.DataFrame(gamma).idxmax()\n",
    "plt.pcolor(I.ix[ptypes.sort_values().index], cmap='Blues')"
   ]
  },
  {
   "cell_type": "code",
   "execution_count": null,
   "metadata": {
    "collapsed": false
   },
   "outputs": [],
   "source": [
    "plt.pcolor(I.ix[np.random.permutation(I.index)], cmap='Blues')"
   ]
  },
  {
   "cell_type": "code",
   "execution_count": null,
   "metadata": {
    "collapsed": false
   },
   "outputs": [],
   "source": [
    "plt.pcolor(I, cmap='Blues')"
   ]
  },
  {
   "cell_type": "code",
   "execution_count": null,
   "metadata": {
    "collapsed": true
   },
   "outputs": [],
   "source": []
  }
 ],
 "metadata": {
  "kernelspec": {
   "display_name": "Python 2",
   "language": "python",
   "name": "python2"
  },
  "language_info": {
   "codemirror_mode": {
    "name": "ipython",
    "version": 2
   },
   "file_extension": ".py",
   "mimetype": "text/x-python",
   "name": "python",
   "nbconvert_exporter": "python",
   "pygments_lexer": "ipython2",
   "version": "2.7.12"
  }
 },
 "nbformat": 4,
 "nbformat_minor": 0
}
