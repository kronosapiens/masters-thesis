{
 "cells": [
  {
   "cell_type": "code",
   "execution_count": 1,
   "metadata": {
    "collapsed": true
   },
   "outputs": [],
   "source": [
    "import numpy as np"
   ]
  },
  {
   "cell_type": "code",
   "execution_count": 2,
   "metadata": {
    "collapsed": false
   },
   "outputs": [
    {
     "data": {
      "text/plain": [
       "array([ 1. ,  0.5,  0. ])"
      ]
     },
     "execution_count": 2,
     "metadata": {},
     "output_type": "execute_result"
    }
   ],
   "source": [
    "M = np.array([\n",
    "        [1,0,0],\n",
    "        [.5,.5,0],\n",
    "        [.5,.5,0]])\n",
    "val, vec = np.linalg.eig(M.T)\n",
    "val"
   ]
  },
  {
   "cell_type": "code",
   "execution_count": 3,
   "metadata": {
    "collapsed": false
   },
   "outputs": [
    {
     "data": {
      "text/plain": [
       "array([ 0.25+0.4330127j,  0.25-0.4330127j,  1.00+0.j       ])"
      ]
     },
     "execution_count": 3,
     "metadata": {},
     "output_type": "execute_result"
    }
   ],
   "source": [
    "M = np.array([\n",
    "        [.5,0,.5],\n",
    "        [.5,.5,0],\n",
    "        [0,.5,.5]])\n",
    "val, vec = np.linalg.eig(M.T)\n",
    "val"
   ]
  },
  {
   "cell_type": "code",
   "execution_count": 4,
   "metadata": {
    "collapsed": false
   },
   "outputs": [
    {
     "data": {
      "text/plain": [
       "array([[-0.28867513+0.5j, -0.28867513-0.5j, -0.57735027+0.j ],\n",
       "       [-0.28867513-0.5j, -0.28867513+0.5j, -0.57735027+0.j ],\n",
       "       [ 0.57735027+0.j ,  0.57735027-0.j , -0.57735027+0.j ]])"
      ]
     },
     "execution_count": 4,
     "metadata": {},
     "output_type": "execute_result"
    }
   ],
   "source": [
    "vec"
   ]
  },
  {
   "cell_type": "code",
   "execution_count": 6,
   "metadata": {
    "collapsed": false
   },
   "outputs": [
    {
     "data": {
      "text/plain": [
       "array([ 0.33333333,  0.33333333,  0.33333333])"
      ]
     },
     "execution_count": 6,
     "metadata": {},
     "output_type": "execute_result"
    }
   ],
   "source": [
    "x = np.zeros(3) + 1./3\n",
    "x"
   ]
  },
  {
   "cell_type": "code",
   "execution_count": 7,
   "metadata": {
    "collapsed": false
   },
   "outputs": [
    {
     "data": {
      "text/plain": [
       "array([ 0.33333333,  0.33333333,  0.33333333])"
      ]
     },
     "execution_count": 7,
     "metadata": {},
     "output_type": "execute_result"
    }
   ],
   "source": [
    "x.T.dot(M)"
   ]
  },
  {
   "cell_type": "code",
   "execution_count": 15,
   "metadata": {
    "collapsed": false
   },
   "outputs": [
    {
     "data": {
      "text/plain": [
       "array([ 1.,  0.,  0.])"
      ]
     },
     "execution_count": 15,
     "metadata": {},
     "output_type": "execute_result"
    }
   ],
   "source": [
    "x = np.zeros(3)\n",
    "x[0] = 1\n",
    "x"
   ]
  },
  {
   "cell_type": "code",
   "execution_count": 16,
   "metadata": {
    "collapsed": false
   },
   "outputs": [
    {
     "data": {
      "text/plain": [
       "array([ 0.5,  0. ,  0.5])"
      ]
     },
     "execution_count": 16,
     "metadata": {},
     "output_type": "execute_result"
    }
   ],
   "source": [
    "x.T.dot(M)"
   ]
  },
  {
   "cell_type": "code",
   "execution_count": 17,
   "metadata": {
    "collapsed": false
   },
   "outputs": [
    {
     "data": {
      "text/plain": [
       "array([ 0.25,  0.25,  0.5 ])"
      ]
     },
     "execution_count": 17,
     "metadata": {},
     "output_type": "execute_result"
    }
   ],
   "source": [
    "x.T.dot(M).T.dot(M)"
   ]
  },
  {
   "cell_type": "code",
   "execution_count": 18,
   "metadata": {
    "collapsed": false
   },
   "outputs": [
    {
     "data": {
      "text/plain": [
       "array([ 0.25 ,  0.375,  0.375])"
      ]
     },
     "execution_count": 18,
     "metadata": {},
     "output_type": "execute_result"
    }
   ],
   "source": [
    "x.T.dot(M).T.dot(M).T.dot(M)"
   ]
  },
  {
   "cell_type": "code",
   "execution_count": 38,
   "metadata": {
    "collapsed": false
   },
   "outputs": [
    {
     "name": "stdout",
     "output_type": "stream",
     "text": [
      "[ 1.  0.  0.]\n",
      "[ 0.75  0.25  0.  ]\n",
      "[ 0.5625  0.3125  0.125 ]\n",
      "[ 0.515625  0.296875  0.1875  ]\n",
      "[ 0.52734375  0.27734375  0.1953125 ]\n",
      "[ 0.54199219  0.27050781  0.1875    ]\n",
      "[ 0.54711914  0.27075195  0.18212891]\n",
      "[ 0.54693604  0.27215576  0.1809082 ]\n",
      "[ 0.54588318  0.27281189  0.18130493]\n",
      "[ 0.54539108  0.27287674  0.18173218]\n"
     ]
    },
    {
     "data": {
      "text/plain": [
       "array([ 0.54534245,  0.27278614,  0.18187141])"
      ]
     },
     "execution_count": 38,
     "metadata": {},
     "output_type": "execute_result"
    }
   ],
   "source": [
    "def power(x, M, n=10):\n",
    "    for _ in xrange(n):\n",
    "        print x\n",
    "        x = x.T.dot(M)\n",
    "    return x\n",
    "        \n",
    "power(x, M)"
   ]
  },
  {
   "cell_type": "code",
   "execution_count": 28,
   "metadata": {
    "collapsed": false
   },
   "outputs": [
    {
     "data": {
      "text/plain": [
       "array([ 0.25,  1.  ,  0.25])"
      ]
     },
     "execution_count": 28,
     "metadata": {},
     "output_type": "execute_result"
    }
   ],
   "source": [
    "M = np.array([\n",
    "        [.5,.25,.25],\n",
    "        [.25,.5,.25],\n",
    "        [.25,.25,.5]])\n",
    "val, vec = np.linalg.eig(M.T)\n",
    "val"
   ]
  },
  {
   "cell_type": "code",
   "execution_count": 31,
   "metadata": {
    "collapsed": false
   },
   "outputs": [
    {
     "data": {
      "text/plain": [
       "array([[-0.81649658,  0.57735027,  0.381008  ],\n",
       "       [ 0.40824829,  0.57735027, -0.81590361],\n",
       "       [ 0.40824829,  0.57735027,  0.43489561]])"
      ]
     },
     "execution_count": 31,
     "metadata": {},
     "output_type": "execute_result"
    }
   ],
   "source": [
    "vec"
   ]
  },
  {
   "cell_type": "code",
   "execution_count": 29,
   "metadata": {
    "collapsed": false
   },
   "outputs": [
    {
     "data": {
      "text/plain": [
       "array([ 1.,  0.,  0.])"
      ]
     },
     "execution_count": 29,
     "metadata": {},
     "output_type": "execute_result"
    }
   ],
   "source": [
    "x"
   ]
  },
  {
   "cell_type": "code",
   "execution_count": 30,
   "metadata": {
    "collapsed": false
   },
   "outputs": [
    {
     "name": "stdout",
     "output_type": "stream",
     "text": [
      "[ 1.  0.  0.]\n",
      "[ 0.5   0.25  0.25]\n",
      "[ 0.375   0.3125  0.3125]\n",
      "[ 0.34375   0.328125  0.328125]\n",
      "[ 0.3359375   0.33203125  0.33203125]\n",
      "[ 0.33398438  0.33300781  0.33300781]\n",
      "[ 0.33349609  0.33325195  0.33325195]\n",
      "[ 0.33337402  0.33331299  0.33331299]\n",
      "[ 0.33334351  0.33332825  0.33332825]\n",
      "[ 0.33333588  0.33333206  0.33333206]\n"
     ]
    }
   ],
   "source": [
    "power(x, M)"
   ]
  },
  {
   "cell_type": "code",
   "execution_count": 32,
   "metadata": {
    "collapsed": false
   },
   "outputs": [
    {
     "data": {
      "text/plain": [
       "array([ 1.00+0.j        ,  0.25+0.35355339j,  0.25-0.35355339j])"
      ]
     },
     "execution_count": 32,
     "metadata": {},
     "output_type": "execute_result"
    }
   ],
   "source": [
    "M = np.array([\n",
    "        [.75,.25,0],\n",
    "        [0,.5,.5],\n",
    "        [.75,0,.25]])\n",
    "val, vec = np.linalg.eig(M.T)\n",
    "val"
   ]
  },
  {
   "cell_type": "code",
   "execution_count": 33,
   "metadata": {
    "collapsed": false
   },
   "outputs": [
    {
     "data": {
      "text/plain": [
       "array([[-0.85714286+0.j        ,  0.70710678+0.j        ,  0.70710678-0.j        ],\n",
       "       [-0.42857143+0.j        , -0.23570226-0.33333333j,\n",
       "        -0.23570226+0.33333333j],\n",
       "       [-0.28571429+0.j        , -0.47140452+0.33333333j,\n",
       "        -0.47140452-0.33333333j]])"
      ]
     },
     "execution_count": 33,
     "metadata": {},
     "output_type": "execute_result"
    }
   ],
   "source": [
    "vec"
   ]
  },
  {
   "cell_type": "code",
   "execution_count": 46,
   "metadata": {
    "collapsed": false
   },
   "outputs": [
    {
     "name": "stdout",
     "output_type": "stream",
     "text": [
      "[ 1.  0.  0.]\n",
      "[ 0.75  0.25  0.  ]\n",
      "[ 0.5625  0.3125  0.125 ]\n",
      "[ 0.515625  0.296875  0.1875  ]\n",
      "[ 0.52734375  0.27734375  0.1953125 ]\n",
      "[ 0.54199219  0.27050781  0.1875    ]\n",
      "[ 0.54711914  0.27075195  0.18212891]\n",
      "[ 0.54693604  0.27215576  0.1809082 ]\n",
      "[ 0.54588318  0.27281189  0.18130493]\n",
      "[ 0.54539108  0.27287674  0.18173218]\n"
     ]
    }
   ],
   "source": [
    "v = power(x, M)"
   ]
  },
  {
   "cell_type": "code",
   "execution_count": 48,
   "metadata": {
    "collapsed": false
   },
   "outputs": [
    {
     "data": {
      "text/plain": [
       "array([ 1.63602734,  0.81835842,  0.54561424])"
      ]
     },
     "execution_count": 48,
     "metadata": {},
     "output_type": "execute_result"
    }
   ],
   "source": [
    "v * 3"
   ]
  },
  {
   "cell_type": "code",
   "execution_count": 44,
   "metadata": {
    "collapsed": false
   },
   "outputs": [
    {
     "data": {
      "text/plain": [
       "array([-0.85714286+0.j, -0.42857143+0.j, -0.28571429+0.j])"
      ]
     },
     "execution_count": 44,
     "metadata": {},
     "output_type": "execute_result"
    }
   ],
   "source": [
    "v = vec[:,0]\n",
    "v"
   ]
  },
  {
   "cell_type": "code",
   "execution_count": 45,
   "metadata": {
    "collapsed": false
   },
   "outputs": [
    {
     "data": {
      "text/plain": [
       "array([ 0.54545455-0.j,  0.27272727-0.j,  0.18181818-0.j])"
      ]
     },
     "execution_count": 45,
     "metadata": {},
     "output_type": "execute_result"
    }
   ],
   "source": [
    "v / v.sum()"
   ]
  },
  {
   "cell_type": "code",
   "execution_count": null,
   "metadata": {
    "collapsed": true
   },
   "outputs": [],
   "source": []
  }
 ],
 "metadata": {
  "kernelspec": {
   "display_name": "Python 2",
   "language": "python",
   "name": "python2"
  },
  "language_info": {
   "codemirror_mode": {
    "name": "ipython",
    "version": 2
   },
   "file_extension": ".py",
   "mimetype": "text/x-python",
   "name": "python",
   "nbconvert_exporter": "python",
   "pygments_lexer": "ipython2",
   "version": "2.7.12"
  }
 },
 "nbformat": 4,
 "nbformat_minor": 0
}
