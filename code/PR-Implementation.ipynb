{
 "cells": [
  {
   "cell_type": "markdown",
   "metadata": {},
   "source": [
    "## PR: Implementation"
   ]
  },
  {
   "cell_type": "code",
   "execution_count": 1,
   "metadata": {
    "collapsed": false
   },
   "outputs": [],
   "source": [
    "from datetime import datetime\n",
    "\n",
    "from IPython.core.debugger import Tracer\n",
    "import matplotlib\n",
    "import matplotlib.pyplot as plt\n",
    "import pandas as pd\n",
    "import numpy as np\n",
    "\n",
    "import utils\n",
    "\n",
    "%matplotlib inline\n",
    "matplotlib.style.use('ggplot')\n",
    "tracer = Tracer()\n",
    "\n",
    "import warnings\n",
    "warnings.filterwarnings('error')"
   ]
  },
  {
   "cell_type": "code",
   "execution_count": 2,
   "metadata": {
    "collapsed": false
   },
   "outputs": [],
   "source": [
    "V = 10\n",
    "B = 0.9\n",
    "N = 10000\n",
    "\n",
    "def gen_data_pr(V, B, N):\n",
    "    X = np.zeros((N, 3), dtype=int)\n",
    "    for n in xrange(N):\n",
    "        p = q = np.random.randint(V)\n",
    "        while p == q:\n",
    "            q = np.random.randint(V)\n",
    "        p, q = sorted([p, q])\n",
    "        y = np.random.binomial(1, B)\n",
    "        X[n,:] = np.array([p,q,y])\n",
    "    return X\n",
    "\n",
    "X = gen_data_pr(V, B, N)"
   ]
  },
  {
   "cell_type": "code",
   "execution_count": 3,
   "metadata": {
    "collapsed": false
   },
   "outputs": [
    {
     "data": {
      "text/plain": [
       "array([[ 0.08143652,  0.10976227,  0.10116338,  0.12544259,  0.08598887,\n",
       "         0.10622155,  0.09711684,  0.09357613,  0.1016692 ,  0.09762266],\n",
       "       [ 0.00938272,  0.18716049,  0.0962963 ,  0.09333333,  0.10716049,\n",
       "         0.09679012,  0.10567901,  0.1091358 ,  0.10024691,  0.09481481],\n",
       "       [ 0.00943865,  0.01341282,  0.27968207,  0.09538003,  0.09538003,\n",
       "         0.10879285,  0.10332837,  0.09836066,  0.0958768 ,  0.10034774],\n",
       "       [ 0.00876339,  0.01071081,  0.00827653,  0.37828627,  0.0993184 ,\n",
       "         0.10321324,  0.09834469,  0.08714703,  0.09834469,  0.10759494],\n",
       "       [ 0.00729167,  0.00989583,  0.01458333,  0.01302083,  0.45208333,\n",
       "         0.1015625 ,  0.1046875 ,  0.0984375 ,  0.10208333,  0.09635417],\n",
       "       [ 0.01085348,  0.00888012,  0.01381352,  0.0123335 ,  0.00641342,\n",
       "         0.55352738,  0.100148  ,  0.09422792,  0.09817464,  0.10162802],\n",
       "       [ 0.0079602 ,  0.00945274,  0.01044776,  0.01393035,  0.00845771,\n",
       "         0.01094527,  0.64278607,  0.1039801 ,  0.10199005,  0.09004975],\n",
       "       [ 0.00860324,  0.00961538,  0.01265182,  0.01467611,  0.00759109,\n",
       "         0.00961538,  0.01366397,  0.71761134,  0.10981781,  0.09615385],\n",
       "       [ 0.01083744,  0.00985222,  0.0137931 ,  0.00788177,  0.00935961,\n",
       "         0.01428571,  0.01083744,  0.01182266,  0.80541872,  0.10591133],\n",
       "       [ 0.00711382,  0.00914634,  0.01067073,  0.01270325,  0.01067073,\n",
       "         0.0101626 ,  0.01168699,  0.01117886,  0.00965447,  0.9070122 ]])"
      ]
     },
     "execution_count": 3,
     "metadata": {},
     "output_type": "execute_result"
    }
   ],
   "source": [
    "def get_R_nrm(R, d=None):\n",
    "    V = R.shape[0]\n",
    "    R = R.astype(float)\n",
    "    R += np.eye(V) * R.sum(axis=0) # Add self-edge equal to sum of victories\n",
    "    Rt = R.T\n",
    "    idx = Rt.sum(axis=0) > 0\n",
    "    Rt[:,idx] /= Rt[:,idx].sum(axis=0)\n",
    "    R_nrm = Rt.T\n",
    "    \n",
    "    if d:\n",
    "        assert d > 0 and d < 1\n",
    "        R_nrm *= d\n",
    "        R_nrm += (1 - d) / V\n",
    "        \n",
    "    return R_nrm\n",
    "\n",
    "R = utils.get_interactions(X)\n",
    "R_nrm = get_R_nrm(R)\n",
    "R_nrm"
   ]
  },
  {
   "cell_type": "code",
   "execution_count": 35,
   "metadata": {
    "collapsed": false
   },
   "outputs": [
    {
     "data": {
      "text/plain": [
       "9    0.533782\n",
       "8    0.163765\n",
       "7    0.114080\n",
       "6    0.049188\n",
       "5    0.039585\n",
       "4    0.029866\n",
       "3    0.028770\n",
       "2    0.023326\n",
       "0    0.011068\n",
       "1    0.006571\n",
       "dtype: float64"
      ]
     },
     "execution_count": 35,
     "metadata": {},
     "output_type": "execute_result"
    }
   ],
   "source": [
    "def power_method(R_nrm, threshold=0.001, print_x=False, print_k=False):\n",
    "    V = R_nrm.shape[0]\n",
    "    x = np.zeros(V) + 1. / V\n",
    "    k = 0\n",
    "    while True:\n",
    "        prev = x\n",
    "        if print_x:\n",
    "            print x\n",
    "        x = x.dot(R_nrm)\n",
    "        if np.linalg.norm((x - prev)) < threshold:\n",
    "            break\n",
    "        k += 1\n",
    "    if print_k:\n",
    "        print k\n",
    "    return pd.Series(x).sort_values(ascending=False)\n",
    "\n",
    "power_method(R_nrm)"
   ]
  },
  {
   "cell_type": "code",
   "execution_count": 5,
   "metadata": {
    "collapsed": false
   },
   "outputs": [
    {
     "data": {
      "text/plain": [
       "9    0.518901\n",
       "8    0.183614\n",
       "7    0.097802\n",
       "6    0.064655\n",
       "5    0.042723\n",
       "4    0.027646\n",
       "3    0.024644\n",
       "2    0.018462\n",
       "1    0.012613\n",
       "0    0.008939\n",
       "dtype: float64"
      ]
     },
     "execution_count": 5,
     "metadata": {},
     "output_type": "execute_result"
    }
   ],
   "source": [
    "def np_method(R_nrm):\n",
    "    eigval, eigvec = np.linalg.eig(R_nrm.T)\n",
    "    eigval = pd.Series(eigval)\n",
    "    ev = pd.Series(eigvec[:,eigval.idxmax()])\n",
    "    return (ev / ev.sum()).sort_values(ascending=False) # Normalize to simplex\n",
    "\n",
    "np_method(R_nrm)"
   ]
  },
  {
   "cell_type": "code",
   "execution_count": 6,
   "metadata": {
    "collapsed": false
   },
   "outputs": [
    {
     "data": {
      "text/plain": [
       "9    0.533782\n",
       "8    0.163765\n",
       "7    0.114080\n",
       "6    0.049188\n",
       "5    0.039585\n",
       "4    0.029866\n",
       "3    0.028770\n",
       "2    0.023326\n",
       "0    0.011068\n",
       "1    0.006571\n",
       "dtype: float64"
      ]
     },
     "execution_count": 6,
     "metadata": {},
     "output_type": "execute_result"
    }
   ],
   "source": [
    "V = 10\n",
    "B = 0.9\n",
    "N = 1000\n",
    "X = gen_data_pr(V, B, N)\n",
    "R = utils.get_interactions(X)\n",
    "R_nrm = get_R_nrm(R)\n",
    "pw_out = power_method(R_nrm)\n",
    "np_out = np_method(R_nrm)\n",
    "pw_out"
   ]
  },
  {
   "cell_type": "code",
   "execution_count": 7,
   "metadata": {
    "collapsed": false
   },
   "outputs": [
    {
     "data": {
      "text/plain": [
       "2"
      ]
     },
     "execution_count": 7,
     "metadata": {},
     "output_type": "execute_result"
    }
   ],
   "source": [
    "def get_error(ordering):\n",
    "    V = len(ordering)\n",
    "    return sum(np.abs(ordering.index - np.arange(V)[::-1]))\n",
    "\n",
    "get_error(pw_out)"
   ]
  },
  {
   "cell_type": "markdown",
   "metadata": {},
   "source": [
    "## Eigenvectors of various graphs"
   ]
  },
  {
   "cell_type": "code",
   "execution_count": null,
   "metadata": {
    "collapsed": false
   },
   "outputs": [],
   "source": [
    "R = np.array([\n",
    "        [0, 0, 1, 0],\n",
    "        [1, 0, 0, 0],\n",
    "        [0, 1, 0, 1],\n",
    "        [1, 0, 0, 0]])\n",
    "R_nrm = get_R_nrm(R)\n",
    "power_method(R_nrm)"
   ]
  },
  {
   "cell_type": "code",
   "execution_count": null,
   "metadata": {
    "collapsed": false
   },
   "outputs": [],
   "source": [
    "R = np.array([\n",
    "        [0, 0, 1, 0],\n",
    "        [1, 0, 0, 0],\n",
    "        [0, 1, 0, 1],\n",
    "        [1, 1, 0, 0]])\n",
    "R_nrm = get_R_nrm(R)\n",
    "power_method(R_nrm)"
   ]
  },
  {
   "cell_type": "code",
   "execution_count": null,
   "metadata": {
    "collapsed": false
   },
   "outputs": [],
   "source": [
    "R = np.array([\n",
    "        [0, 0, 1, 0],\n",
    "        [1, 0, 0, 0],\n",
    "        [0, 1, 0, 0],\n",
    "        [1, 1, 1, 0]])\n",
    "R_nrm = get_R_nrm(R)\n",
    "power_method(R_nrm)"
   ]
  },
  {
   "cell_type": "code",
   "execution_count": null,
   "metadata": {
    "collapsed": false
   },
   "outputs": [],
   "source": [
    "R = np.array([\n",
    "        [0, 0, 0, 0],\n",
    "        [1, 0, 1, 0],\n",
    "        [1, 0, 0, 1],\n",
    "        [1, 1, 0, 0]])\n",
    "R_nrm = get_R_nrm(R)\n",
    "power_method(R_nrm)"
   ]
  },
  {
   "cell_type": "markdown",
   "metadata": {},
   "source": [
    "## Simulations\n",
    "\n",
    "- Power method\n",
    "- Error = .9, .7\n",
    "- N = 10, 100, 1000, 10000\n",
    "- V = 100"
   ]
  },
  {
   "cell_type": "code",
   "execution_count": 51,
   "metadata": {
    "collapsed": false
   },
   "outputs": [
    {
     "data": {
      "text/plain": [
       "3956"
      ]
     },
     "execution_count": 51,
     "metadata": {},
     "output_type": "execute_result"
    }
   ],
   "source": [
    "V = 100\n",
    "B = .9\n",
    "N = 10\n",
    "\n",
    "def run_experiment(V, B, N):\n",
    "    X = gen_data_pr(V, B, N)\n",
    "    R = utils.get_interactions(X)\n",
    "    R_nrm = get_R_nrm(R)\n",
    "    return get_error(power_method(R_nrm))\n",
    "    \n",
    "run_experiment(V, B, N)"
   ]
  },
  {
   "cell_type": "code",
   "execution_count": 52,
   "metadata": {
    "collapsed": false
   },
   "outputs": [
    {
     "data": {
      "text/plain": [
       "[4208.3999999999996,\n",
       " 2506.8000000000002,\n",
       " 1663.5999999999999,\n",
       " 1300.8,\n",
       " 1053.5999999999999,\n",
       " 832.0,\n",
       " 609.20000000000005]"
      ]
     },
     "execution_count": 52,
     "metadata": {},
     "output_type": "execute_result"
    }
   ],
   "source": [
    "V = 100\n",
    "B = .9 \n",
    "\n",
    "POINTS = [10, 100, 500, 1000, 2500, 5000, 10000]\n",
    "\n",
    "def run_trial(V, B):\n",
    "    errors = []\n",
    "    for N in POINTS:\n",
    "        results = [run_experiment(V, B, N) for _ in xrange(5)]\n",
    "        errors.append(sum(results) / float(len(results)))\n",
    "#     plt.plot(points, errors)\n",
    "    return errors\n",
    "\n",
    "run_trial(V, B)"
   ]
  },
  {
   "cell_type": "markdown",
   "metadata": {},
   "source": [
    "## Trials"
   ]
  },
  {
   "cell_type": "code",
   "execution_count": 53,
   "metadata": {
    "collapsed": true
   },
   "outputs": [],
   "source": [
    "B_vals = [1, .9, .7]"
   ]
  },
  {
   "cell_type": "code",
   "execution_count": 54,
   "metadata": {
    "collapsed": false
   },
   "outputs": [
    {
     "data": {
      "text/plain": [
       "<matplotlib.axes._subplots.AxesSubplot at 0x10e0ee990>"
      ]
     },
     "execution_count": 54,
     "metadata": {},
     "output_type": "execute_result"
    },
    {
     "data": {
      "image/png": "[encoded data removed]",
      "text/plain": [
       "<matplotlib.figure.Figure at 0x10e101250>"
      ]
     },
     "metadata": {},
     "output_type": "display_data"
    }
   ],
   "source": [
    "results = {}\n",
    "V = 100\n",
    "for B in B_vals:\n",
    "    results[B] = run_trial(V, B)\n",
    "results = pd.DataFrame.from_dict(results)\n",
    "results.index = POINTS\n",
    "results.plot(title='Spearman footrule, V={}'.format(V))"
   ]
  },
  {
   "cell_type": "code",
   "execution_count": 55,
   "metadata": {
    "collapsed": false
   },
   "outputs": [
    {
     "data": {
      "text/plain": [
       "<matplotlib.axes._subplots.AxesSubplot at 0x10e101890>"
      ]
     },
     "execution_count": 55,
     "metadata": {},
     "output_type": "execute_result"
    },
    {
     "data": {
      "image/png": "[encoded data removed]",
      "text/plain": [
       "<matplotlib.figure.Figure at 0x10e2d6e90>"
      ]
     },
     "metadata": {},
     "output_type": "display_data"
    }
   ],
   "source": [
    "results = {}\n",
    "V = 1000\n",
    "for B in B_vals:\n",
    "    results[B] = run_trial(V, B)\n",
    "results = pd.DataFrame.from_dict(results)\n",
    "results.index = POINTS\n",
    "results.plot(title='Spearman footrule, V={}'.format(V))"
   ]
  },
  {
   "cell_type": "markdown",
   "metadata": {},
   "source": [
    "## Convergence times"
   ]
  },
  {
   "cell_type": "code",
   "execution_count": 60,
   "metadata": {
    "collapsed": false
   },
   "outputs": [
    {
     "data": {
      "text/plain": [
       "[2, 4, 8, 16, 32, 64, 128, 256, 512, 1024]"
      ]
     },
     "execution_count": 60,
     "metadata": {},
     "output_type": "execute_result"
    }
   ],
   "source": [
    "def make_tril_R(n):\n",
    "    return np.tril(np.ones((n,n))) - np.eye(n)\n",
    "\n",
    "POINTS = [2**i for i in xrange(1,11)]\n",
    "POINTS"
   ]
  },
  {
   "cell_type": "code",
   "execution_count": 61,
   "metadata": {
    "collapsed": false
   },
   "outputs": [
    {
     "name": "stdout",
     "output_type": "stream",
     "text": [
      "15\n"
     ]
    }
   ],
   "source": [
    "def test_k(n, threshold):\n",
    "    R = make_tril_R(n)\n",
    "    R_nrm = get_R_nrm(R)\n",
    "    power_method(R_nrm, threshold=threshold, print_x=False, print_k=True)\n",
    "    \n",
    "test_k(4, 0.001)"
   ]
  },
  {
   "cell_type": "code",
   "execution_count": 62,
   "metadata": {
    "collapsed": false
   },
   "outputs": [
    {
     "name": "stdout",
     "output_type": "stream",
     "text": [
      "1\n",
      "15\n",
      "34\n",
      "65\n",
      "115\n",
      "191\n",
      "293\n",
      "392\n",
      "386\n",
      "238\n"
     ]
    }
   ],
   "source": [
    "for n in POINTS:\n",
    "    test_k(n, 0.001)"
   ]
  },
  {
   "cell_type": "code",
   "execution_count": 63,
   "metadata": {
    "collapsed": false
   },
   "outputs": [
    {
     "data": {
      "text/plain": [
       "<matplotlib.axes._subplots.AxesSubplot at 0x10e4381d0>"
      ]
     },
     "execution_count": 63,
     "metadata": {},
     "output_type": "execute_result"
    },
    {
     "data": {
      "image/png": "[encoded data removed]",
      "text/plain": [
       "<matplotlib.figure.Figure at 0x10db315d0>"
      ]
     },
     "metadata": {},
     "output_type": "display_data"
    }
   ],
   "source": [
    "results = pd.Series([\n",
    "1,\n",
    "15,\n",
    "34,\n",
    "65,\n",
    "115,\n",
    "191,\n",
    "293,\n",
    "392,\n",
    "386,\n",
    "238,\n",
    "])\n",
    "results.index = POINTS\n",
    "results.plot(title='Iterations to convergence, threshold=0.001')"
   ]
  },
  {
   "cell_type": "code",
   "execution_count": 44,
   "metadata": {
    "collapsed": false
   },
   "outputs": [
    {
     "name": "stdout",
     "output_type": "stream",
     "text": [
      "1\n",
      "21\n",
      "49\n",
      "99\n",
      "186\n",
      "338\n",
      "595\n",
      "1017\n",
      "1676\n",
      "2612\n"
     ]
    }
   ],
   "source": [
    "for n in POINTS:\n",
    "    test_k(n, 0.0001)"
   ]
  },
  {
   "cell_type": "code",
   "execution_count": 64,
   "metadata": {
    "collapsed": false
   },
   "outputs": [
    {
     "data": {
      "text/plain": [
       "<matplotlib.axes._subplots.AxesSubplot at 0x10e277c90>"
      ]
     },
     "execution_count": 64,
     "metadata": {},
     "output_type": "execute_result"
    },
    {
     "data": {
      "image/png": "[encoded data removed]",
      "text/plain": [
       "<matplotlib.figure.Figure at 0x10e52e410>"
      ]
     },
     "metadata": {},
     "output_type": "display_data"
    }
   ],
   "source": [
    "results = pd.Series([\n",
    "1,\n",
    "21,\n",
    "49,\n",
    "99,\n",
    "186,\n",
    "338,\n",
    "595,\n",
    "1017,\n",
    "1676,\n",
    "2612\n",
    "])\n",
    "results.index = POINTS\n",
    "results.plot(title='Iterations to convergence, threshold=0.0001')"
   ]
  },
  {
   "cell_type": "code",
   "execution_count": null,
   "metadata": {
    "collapsed": true
   },
   "outputs": [],
   "source": []
  }
 ],
 "metadata": {
  "kernelspec": {
   "display_name": "Python 2",
   "language": "python",
   "name": "python2"
  },
  "language_info": {
   "codemirror_mode": {
    "name": "ipython",
    "version": 2
   },
   "file_extension": ".py",
   "mimetype": "text/x-python",
   "name": "python",
   "nbconvert_exporter": "python",
   "pygments_lexer": "ipython2",
   "version": "2.7.12"
  }
 },
 "nbformat": 4,
 "nbformat_minor": 0
}
