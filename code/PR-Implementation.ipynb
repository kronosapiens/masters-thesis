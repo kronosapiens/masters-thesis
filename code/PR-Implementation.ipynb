{
 "cells": [
  {
   "cell_type": "markdown",
   "metadata": {},
   "source": [
    "## PR: Implementation"
   ]
  },
  {
   "cell_type": "code",
   "execution_count": 78,
   "metadata": {
    "collapsed": false
   },
   "outputs": [],
   "source": [
    "from datetime import datetime\n",
    "\n",
    "from IPython.core.debugger import Tracer\n",
    "import matplotlib\n",
    "import matplotlib.pyplot as plt\n",
    "import pandas as pd\n",
    "import numpy as np\n",
    "\n",
    "import utils\n",
    "\n",
    "%matplotlib inline\n",
    "matplotlib.style.use('ggplot')\n",
    "tracer = Tracer()\n",
    "\n",
    "import warnings\n",
    "warnings.filterwarnings('error')"
   ]
  },
  {
   "cell_type": "code",
   "execution_count": 79,
   "metadata": {
    "collapsed": false
   },
   "outputs": [],
   "source": [
    "V = 10\n",
    "B = 0.9\n",
    "N = 10000\n",
    "\n",
    "def gen_data_pr(V, B, N):\n",
    "    X = np.zeros((N, 3), dtype=int)\n",
    "    for n in xrange(N):\n",
    "        p = q = np.random.randint(V)\n",
    "        while p == q:\n",
    "            q = np.random.randint(V)\n",
    "        p, q = sorted([p, q])\n",
    "        y = np.random.binomial(1, B)\n",
    "        X[n,:] = np.array([p,q,y])\n",
    "    return X\n",
    "\n",
    "X = gen_data_pr(V, B, N)"
   ]
  },
  {
   "cell_type": "code",
   "execution_count": 227,
   "metadata": {
    "collapsed": false
   },
   "outputs": [
    {
     "data": {
      "text/plain": [
       "array([[ 0.11981567,  0.0921659 ,  0.09677419,  0.07834101,  0.09677419,\n",
       "         0.10599078,  0.10599078,  0.09677419,  0.10138249,  0.10599078],\n",
       "       [ 0.00917431,  0.16972477,  0.10550459,  0.05963303,  0.14678899,\n",
       "         0.07798165,  0.10091743,  0.12385321,  0.11009174,  0.09633028],\n",
       "       [ 0.00520833,  0.03125   ,  0.296875  ,  0.09375   ,  0.08854167,\n",
       "         0.09895833,  0.06770833,  0.09375   ,  0.13541667,  0.08854167],\n",
       "       [ 0.02272727,  0.        ,  0.        ,  0.34090909,  0.11363636,\n",
       "         0.10227273,  0.13068182,  0.11363636,  0.0625    ,  0.11363636],\n",
       "       [ 0.0199005 ,  0.        ,  0.00995025,  0.00995025,  0.49751244,\n",
       "         0.08955224,  0.08955224,  0.08955224,  0.08457711,  0.10945274],\n",
       "       [ 0.00515464,  0.01546392,  0.00515464,  0.01030928,  0.01030928,\n",
       "         0.50515464,  0.12371134,  0.08762887,  0.12371134,  0.11340206],\n",
       "       [ 0.02762431,  0.01104972,  0.00552486,  0.        ,  0.01104972,\n",
       "         0.        ,  0.71270718,  0.06077348,  0.10497238,  0.06629834],\n",
       "       [ 0.01025641,  0.00512821,  0.01025641,  0.01025641,  0.01025641,\n",
       "         0.01025641,  0.01538462,  0.71794872,  0.07692308,  0.13333333],\n",
       "       [ 0.02347418,  0.01408451,  0.01408451,  0.01408451,  0.01877934,\n",
       "         0.        ,  0.00938967,  0.01408451,  0.75117371,  0.14084507],\n",
       "       [ 0.00938967,  0.00938967,  0.01877934,  0.01408451,  0.        ,\n",
       "         0.00469484,  0.00469484,  0.02347418,  0.00938967,  0.90610329]])"
      ]
     },
     "execution_count": 227,
     "metadata": {},
     "output_type": "execute_result"
    }
   ],
   "source": [
    "def get_R_nrm(X, d=None):\n",
    "    V = max(X[:,1]) + 1\n",
    "    R = utils.get_interactions(X).astype(float)\n",
    "    R += np.eye(V) * R.sum(axis=0) # Add self-edge equal to sum of victories\n",
    "    Rt = R.T\n",
    "    idx = Rt.sum(axis=0) > 0\n",
    "    Rt[:,idx] /= Rt[:,idx].sum(axis=0)\n",
    "    R_nrm = Rt.T\n",
    "    \n",
    "    if d:\n",
    "        assert d > 0 and d < 1\n",
    "        R_nrm *= d\n",
    "        R_nrm += (1 - d) / V\n",
    "        \n",
    "    return R_nrm\n",
    "\n",
    "R_nrm = get_R_nrm(X)\n",
    "R_nrm"
   ]
  },
  {
   "cell_type": "code",
   "execution_count": 228,
   "metadata": {
    "collapsed": false
   },
   "outputs": [
    {
     "data": {
      "text/plain": [
       "9    0.555738\n",
       "8    0.137001\n",
       "7    0.112428\n",
       "6    0.065942\n",
       "5    0.027247\n",
       "4    0.025761\n",
       "2    0.024303\n",
       "3    0.023757\n",
       "0    0.014600\n",
       "1    0.013224\n",
       "dtype: float64"
      ]
     },
     "execution_count": 228,
     "metadata": {},
     "output_type": "execute_result"
    }
   ],
   "source": [
    "def power_method(R_nrm):\n",
    "    V = R_nrm.shape[0]\n",
    "    x = np.zeros(V) + 1. / V\n",
    "    prev = x\n",
    "    while True:\n",
    "        prev = x\n",
    "        x = x.dot(R_nrm)\n",
    "        if np.linalg.norm((x - prev)) < 0.0001:\n",
    "            break\n",
    "    return pd.Series(x).sort_values(ascending=False)\n",
    "\n",
    "power_method(R_nrm)"
   ]
  },
  {
   "cell_type": "code",
   "execution_count": 229,
   "metadata": {
    "collapsed": false
   },
   "outputs": [
    {
     "data": {
      "text/plain": [
       "9     (0.556004104522-0j)\n",
       "8     (0.136819849331-0j)\n",
       "7     (0.112408460981-0j)\n",
       "6    (0.0658980317922-0j)\n",
       "5     (0.027244408273-0j)\n",
       "4    (0.0257447580201-0j)\n",
       "2    (0.0243050408312-0j)\n",
       "3    (0.0237577502466-0j)\n",
       "0    (0.0145950544083-0j)\n",
       "1     (0.013222541595-0j)\n",
       "dtype: complex128"
      ]
     },
     "execution_count": 229,
     "metadata": {},
     "output_type": "execute_result"
    }
   ],
   "source": [
    "def np_method(R_nrm):\n",
    "    eigval, eigvec = np.linalg.eig(R_nrm.T)\n",
    "    eigval = pd.Series(eigval)\n",
    "    ev = pd.Series(eigvec[:,eigval.idxmax()])\n",
    "    return (ev / ev.sum()).sort_values(ascending=False) # Normalize to simplex\n",
    "\n",
    "np_method(R_nrm)"
   ]
  },
  {
   "cell_type": "code",
   "execution_count": 284,
   "metadata": {
    "collapsed": false
   },
   "outputs": [
    {
     "data": {
      "text/plain": [
       "9    0.673137\n",
       "8    0.108305\n",
       "7    0.049856\n",
       "6    0.044578\n",
       "3    0.029041\n",
       "5    0.026522\n",
       "4    0.024715\n",
       "2    0.018050\n",
       "1    0.015088\n",
       "0    0.010707\n",
       "dtype: float64"
      ]
     },
     "execution_count": 284,
     "metadata": {},
     "output_type": "execute_result"
    }
   ],
   "source": [
    "V = 10\n",
    "B = 0.9\n",
    "N = 1000\n",
    "X = gen_data_pr(V, B, N)\n",
    "R_nrm = get_R_nrm(X)\n",
    "pw_out = power_method(R_nrm)\n",
    "np_out = np_method(R_nrm)\n",
    "pw_out"
   ]
  },
  {
   "cell_type": "code",
   "execution_count": 303,
   "metadata": {
    "collapsed": false
   },
   "outputs": [
    {
     "data": {
      "text/plain": [
       "4"
      ]
     },
     "execution_count": 303,
     "metadata": {},
     "output_type": "execute_result"
    }
   ],
   "source": [
    "def get_error(ordering):\n",
    "    V = len(ordering)\n",
    "#     return sum(np.abs(ordering.index**2 - np.arange(V)[::-1]**2))\n",
    "    return sum(np.abs(ordering.index - np.arange(V)[::-1]))\n",
    "\n",
    "get_error(pw_out)"
   ]
  },
  {
   "cell_type": "markdown",
   "metadata": {},
   "source": [
    "## Simulations\n",
    "\n",
    "- Power method\n",
    "- Error = .9, .7\n",
    "- N = 10, 100, 1000, 10000\n",
    "- V = 100"
   ]
  },
  {
   "cell_type": "code",
   "execution_count": 292,
   "metadata": {
    "collapsed": false
   },
   "outputs": [
    {
     "data": {
      "text/plain": [
       "416618"
      ]
     },
     "execution_count": 292,
     "metadata": {},
     "output_type": "execute_result"
    }
   ],
   "source": [
    "V = 100\n",
    "B = .9\n",
    "N = 10\n",
    "\n",
    "def run_experiment(V, B, N):\n",
    "    X = gen_data_pr(V, B, N)\n",
    "    R_nrm = get_R_nrm(X)\n",
    "    return get_error(power_method(R_nrm))\n",
    "    \n",
    "run_experiment(V, B, N)"
   ]
  },
  {
   "cell_type": "code",
   "execution_count": 293,
   "metadata": {
    "collapsed": false
   },
   "outputs": [
    {
     "data": {
      "text/plain": [
       "[351874.40000000002,\n",
       " 233768.79999999999,\n",
       " 152197.60000000001,\n",
       " 117412.39999999999,\n",
       " 87016.800000000003,\n",
       " 62883.199999999997,\n",
       " 42932.400000000001]"
      ]
     },
     "execution_count": 293,
     "metadata": {},
     "output_type": "execute_result"
    }
   ],
   "source": [
    "V = 100\n",
    "B = .9 \n",
    "\n",
    "POINTS = [10, 100, 500, 1000, 2500, 5000, 10000]\n",
    "\n",
    "def run_trial(V, B):\n",
    "    errors = []\n",
    "    for N in POINTS:\n",
    "        results = [run_experiment(V, B, N) for _ in xrange(5)]\n",
    "        errors.append(sum(results) / float(len(results)))\n",
    "#     plt.plot(points, errors)\n",
    "    return errors\n",
    "\n",
    "run_trial(V, B)"
   ]
  },
  {
   "cell_type": "markdown",
   "metadata": {},
   "source": [
    "## Trials"
   ]
  },
  {
   "cell_type": "code",
   "execution_count": 304,
   "metadata": {
    "collapsed": true
   },
   "outputs": [],
   "source": [
    "B_vals = [1, .9, .7]"
   ]
  },
  {
   "cell_type": "code",
   "execution_count": 316,
   "metadata": {
    "collapsed": false
   },
   "outputs": [
    {
     "data": {
      "text/plain": [
       "<matplotlib.axes._subplots.AxesSubplot at 0x116abc810>"
      ]
     },
     "execution_count": 316,
     "metadata": {},
     "output_type": "execute_result"
    },
    {
     "data": {
      "image/png": "[encoded data removed]",
      "text/plain": [
       "<matplotlib.figure.Figure at 0x116ad0850>"
      ]
     },
     "metadata": {},
     "output_type": "display_data"
    }
   ],
   "source": [
    "results = {}\n",
    "V = 10\n",
    "for B in B_vals:\n",
    "    results[B] = run_trial(V, B)\n",
    "results = pd.DataFrame.from_dict(results)\n",
    "results.index = POINTS\n",
    "results.plot(title='Spearman footrule, V={}'.format(V))"
   ]
  },
  {
   "cell_type": "code",
   "execution_count": 319,
   "metadata": {
    "collapsed": false
   },
   "outputs": [
    {
     "data": {
      "text/plain": [
       "<matplotlib.axes._subplots.AxesSubplot at 0x11aeb4ed0>"
      ]
     },
     "execution_count": 319,
     "metadata": {},
     "output_type": "execute_result"
    },
    {
     "data": {
      "image/png": "[encoded data removed]",
      "text/plain": [
       "<matplotlib.figure.Figure at 0x11aead550>"
      ]
     },
     "metadata": {},
     "output_type": "display_data"
    }
   ],
   "source": [
    "results = {}\n",
    "V = 100\n",
    "for B in B_vals:\n",
    "    results[B] = run_trial(V, B)\n",
    "results = pd.DataFrame.from_dict(results)\n",
    "results.index = POINTS\n",
    "results.plot(title='Spearman footrule, V={}'.format(V))"
   ]
  },
  {
   "cell_type": "code",
   "execution_count": 314,
   "metadata": {
    "collapsed": false
   },
   "outputs": [
    {
     "data": {
      "text/plain": [
       "<matplotlib.axes._subplots.AxesSubplot at 0x1163f0690>"
      ]
     },
     "execution_count": 314,
     "metadata": {},
     "output_type": "execute_result"
    },
    {
     "data": {
      "image/png": "[encoded data removed]",
      "text/plain": [
       "<matplotlib.figure.Figure at 0x1165f2e10>"
      ]
     },
     "metadata": {},
     "output_type": "display_data"
    }
   ],
   "source": [
    "results = {}\n",
    "V = 1000\n",
    "for B in B_vals:\n",
    "    results[B] = run_trial(V, B)\n",
    "results = pd.DataFrame.from_dict(results)\n",
    "results.index = POINTS\n",
    "results.plot(title='Spearman footrule, V={}'.format(V))"
   ]
  },
  {
   "cell_type": "code",
   "execution_count": null,
   "metadata": {
    "collapsed": true
   },
   "outputs": [],
   "source": []
  }
 ],
 "metadata": {
  "kernelspec": {
   "display_name": "Python 2",
   "language": "python",
   "name": "python2"
  }
 },
 "nbformat": 4,
 "nbformat_minor": 0
}
