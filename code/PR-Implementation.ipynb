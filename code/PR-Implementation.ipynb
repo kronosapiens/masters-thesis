{
 "cells": [
  {
   "cell_type": "markdown",
   "metadata": {},
   "source": [
    "## PR: Implementation"
   ]
  },
  {
   "cell_type": "code",
   "execution_count": 1,
   "metadata": {
    "collapsed": false
   },
   "outputs": [],
   "source": [
    "from datetime import datetime\n",
    "\n",
    "from IPython.core.debugger import Tracer\n",
    "import matplotlib\n",
    "import matplotlib.pyplot as plt\n",
    "import pandas as pd\n",
    "import numpy as np\n",
    "\n",
    "import utils\n",
    "\n",
    "%matplotlib inline\n",
    "matplotlib.style.use('ggplot')\n",
    "tracer = Tracer()\n",
    "\n",
    "import warnings\n",
    "warnings.filterwarnings('error')"
   ]
  },
  {
   "cell_type": "code",
   "execution_count": 11,
   "metadata": {
    "collapsed": false
   },
   "outputs": [],
   "source": [
    "V = 10\n",
    "B = 0.9\n",
    "N = 10000\n",
    "\n",
    "def gen_data_pr(V, B, N):\n",
    "    X = np.zeros((N, 3), dtype=int)\n",
    "    for n in xrange(N):\n",
    "        p = q = np.random.randint(V)\n",
    "        while p == q:\n",
    "            q = np.random.randint(V)\n",
    "        p, q = sorted([p, q])\n",
    "        y = np.random.binomial(1, B)\n",
    "        X[n,:] = np.array([p,q,y])\n",
    "    return X\n",
    "\n",
    "X = gen_data_pr(V, B, N)"
   ]
  },
  {
   "cell_type": "code",
   "execution_count": 29,
   "metadata": {
    "collapsed": false
   },
   "outputs": [],
   "source": [
    "def get_R_nrm(X):\n",
    "    V = max(X[:,1]) + 1\n",
    "    R = utils.get_interactions(X).astype(float)\n",
    "    R += np.eye(V) * R.sum(axis=0) # Add self-edge equal to sum of victories\n",
    "    return (R.T / R.T.sum(axis=0)).T\n",
    "\n",
    "R_nrm = get_R_nrm(X)"
   ]
  },
  {
   "cell_type": "code",
   "execution_count": 92,
   "metadata": {
    "collapsed": false
   },
   "outputs": [
    {
     "data": {
      "text/plain": [
       "9    0.488453\n",
       "8    0.189298\n",
       "7    0.105823\n",
       "6    0.066797\n",
       "5    0.041658\n",
       "4    0.033279\n",
       "3    0.025864\n",
       "2    0.019651\n",
       "1    0.016036\n",
       "0    0.013139\n",
       "dtype: float64"
      ]
     },
     "execution_count": 92,
     "metadata": {},
     "output_type": "execute_result"
    }
   ],
   "source": [
    "def power_method(R_nrm):\n",
    "    V = R_nrm.shape[0]\n",
    "    x = np.zeros(V) + 1. / V\n",
    "    prev = x\n",
    "    while True:\n",
    "        prev = x\n",
    "        x = x.dot(R_nrm)\n",
    "        if np.linalg.norm((x - prev)) < 0.0001:\n",
    "            break\n",
    "    return pd.Series(x).sort_values(ascending=False)\n",
    "\n",
    "power_method(R_nrm)"
   ]
  },
  {
   "cell_type": "code",
   "execution_count": 39,
   "metadata": {
    "collapsed": false
   },
   "outputs": [
    {
     "data": {
      "text/plain": [
       "9    0.488736\n",
       "8    0.189026\n",
       "7    0.105814\n",
       "6    0.066797\n",
       "5    0.041659\n",
       "4    0.033278\n",
       "3    0.025865\n",
       "2    0.019649\n",
       "1    0.016038\n",
       "0    0.013139\n",
       "dtype: float64"
      ]
     },
     "execution_count": 39,
     "metadata": {},
     "output_type": "execute_result"
    }
   ],
   "source": [
    "def np_method(R_nrm):\n",
    "    eigval, eigvec = np.linalg.eig(R_nrm.T)\n",
    "    eigval = pd.Series(eigval)\n",
    "    ev = pd.Series(eigvec[:,eigval.idxmax()])\n",
    "    return (ev / ev.sum()).sort_values(ascending=False) # Normalize to simplex\n",
    "\n",
    "np_method(R_nrm)"
   ]
  },
  {
   "cell_type": "code",
   "execution_count": 87,
   "metadata": {
    "collapsed": false
   },
   "outputs": [
    {
     "data": {
      "text/html": [
       "<div>\n",
       "<table border=\"1\" class=\"dataframe\">\n",
       "  <thead>\n",
       "    <tr style=\"text-align: right;\">\n",
       "      <th></th>\n",
       "      <th>0</th>\n",
       "      <th>1</th>\n",
       "    </tr>\n",
       "  </thead>\n",
       "  <tbody>\n",
       "    <tr>\n",
       "      <th>9</th>\n",
       "      <td>(0.495516191074+0j)</td>\n",
       "      <td>(0.495697971406+0j)</td>\n",
       "    </tr>\n",
       "    <tr>\n",
       "      <th>8</th>\n",
       "      <td>(0.182143873369+0j)</td>\n",
       "      <td>(0.181916701279+0j)</td>\n",
       "    </tr>\n",
       "    <tr>\n",
       "      <th>7</th>\n",
       "      <td>(0.0895628471125+0j)</td>\n",
       "      <td>(0.089580441027+0j)</td>\n",
       "    </tr>\n",
       "    <tr>\n",
       "      <th>6</th>\n",
       "      <td>(0.0618146007593+0j)</td>\n",
       "      <td>(0.0618206980753+0j)</td>\n",
       "    </tr>\n",
       "    <tr>\n",
       "      <th>5</th>\n",
       "      <td>(0.051995572626+0j)</td>\n",
       "      <td>(0.0519982329345+0j)</td>\n",
       "    </tr>\n",
       "    <tr>\n",
       "      <th>3</th>\n",
       "      <td>(0.028921145955+0j)</td>\n",
       "      <td>(0.0289223425322+0j)</td>\n",
       "    </tr>\n",
       "    <tr>\n",
       "      <th>1</th>\n",
       "      <td>(0.0277961967184+0j)</td>\n",
       "      <td>(0.0278006237555+0j)</td>\n",
       "    </tr>\n",
       "    <tr>\n",
       "      <th>4</th>\n",
       "      <td>(0.0274325675971+0j)</td>\n",
       "      <td>(0.0274408901277+0j)</td>\n",
       "    </tr>\n",
       "    <tr>\n",
       "      <th>0</th>\n",
       "      <td>(0.0191637061386+0j)</td>\n",
       "      <td>(0.0191681998678+0j)</td>\n",
       "    </tr>\n",
       "    <tr>\n",
       "      <th>2</th>\n",
       "      <td>(0.0156532986505+0j)</td>\n",
       "      <td>(0.0156538989947+0j)</td>\n",
       "    </tr>\n",
       "  </tbody>\n",
       "</table>\n",
       "</div>"
      ],
      "text/plain": [
       "                      0                     1\n",
       "9   (0.495516191074+0j)   (0.495697971406+0j)\n",
       "8   (0.182143873369+0j)   (0.181916701279+0j)\n",
       "7  (0.0895628471125+0j)   (0.089580441027+0j)\n",
       "6  (0.0618146007593+0j)  (0.0618206980753+0j)\n",
       "5   (0.051995572626+0j)  (0.0519982329345+0j)\n",
       "3   (0.028921145955+0j)  (0.0289223425322+0j)\n",
       "1  (0.0277961967184+0j)  (0.0278006237555+0j)\n",
       "4  (0.0274325675971+0j)  (0.0274408901277+0j)\n",
       "0  (0.0191637061386+0j)  (0.0191681998678+0j)\n",
       "2  (0.0156532986505+0j)  (0.0156538989947+0j)"
      ]
     },
     "execution_count": 87,
     "metadata": {},
     "output_type": "execute_result"
    }
   ],
   "source": [
    "def order_items(X, how='power'):\n",
    "    R_nrm = get_R_nrm(X)\n",
    "    if how == 'power':\n",
    "        return power_method(R_nrm)\n",
    "    else:\n",
    "        return np_method(R_nrm)\n",
    "    \n",
    "V = 10\n",
    "B = 0.9\n",
    "N = 1000\n",
    "X = gen_data_pr(V, B, N)\n",
    "out = pd.DataFrame([order_items(X, how='power'), order_items(X, how='np')]).T\n",
    "out"
   ]
  },
  {
   "cell_type": "code",
   "execution_count": 88,
   "metadata": {
    "collapsed": false
   },
   "outputs": [
    {
     "data": {
      "text/plain": [
       "8"
      ]
     },
     "execution_count": 88,
     "metadata": {},
     "output_type": "execute_result"
    }
   ],
   "source": [
    "def get_error(ordering):\n",
    "    V = len(ordering)\n",
    "    return sum(np.abs(out.index - np.arange(V)[::-1]))\n",
    "\n",
    "get_error(out)"
   ]
  },
  {
   "cell_type": "code",
   "execution_count": null,
   "metadata": {
    "collapsed": true
   },
   "outputs": [],
   "source": []
  }
 ],
 "metadata": {
  "kernelspec": {
   "display_name": "Python 2",
   "language": "python",
   "name": "python2"
  },
  "language_info": {
   "codemirror_mode": {
    "name": "ipython",
    "version": 2
   },
   "file_extension": ".py",
   "mimetype": "text/x-python",
   "name": "python",
   "nbconvert_exporter": "python",
   "pygments_lexer": "ipython2",
   "version": "2.7.12"
  }
 },
 "nbformat": 4,
 "nbformat_minor": 0
}
