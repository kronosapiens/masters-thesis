{
 "cells": [
  {
   "cell_type": "markdown",
   "metadata": {},
   "source": [
    "## PR: Implementation"
   ]
  },
  {
   "cell_type": "code",
   "execution_count": 78,
   "metadata": {
    "collapsed": false
   },
   "outputs": [],
   "source": [
    "from datetime import datetime\n",
    "\n",
    "from IPython.core.debugger import Tracer\n",
    "import matplotlib\n",
    "import matplotlib.pyplot as plt\n",
    "import pandas as pd\n",
    "import numpy as np\n",
    "\n",
    "import utils\n",
    "\n",
    "%matplotlib inline\n",
    "matplotlib.style.use('ggplot')\n",
    "tracer = Tracer()\n",
    "\n",
    "import warnings\n",
    "warnings.filterwarnings('error')"
   ]
  },
  {
   "cell_type": "code",
   "execution_count": 79,
   "metadata": {
    "collapsed": false
   },
   "outputs": [],
   "source": [
    "V = 10\n",
    "B = 0.9\n",
    "N = 10000\n",
    "\n",
    "def gen_data_pr(V, B, N):\n",
    "    X = np.zeros((N, 3), dtype=int)\n",
    "    for n in xrange(N):\n",
    "        p = q = np.random.randint(V)\n",
    "        while p == q:\n",
    "            q = np.random.randint(V)\n",
    "        p, q = sorted([p, q])\n",
    "        y = np.random.binomial(1, B)\n",
    "        X[n,:] = np.array([p,q,y])\n",
    "    return X\n",
    "\n",
    "X = gen_data_pr(V, B, N)"
   ]
  },
  {
   "cell_type": "code",
   "execution_count": 320,
   "metadata": {
    "collapsed": false
   },
   "outputs": [
    {
     "data": {
      "text/plain": [
       "array([[ 0.08910891,  0.07920792,  0.15346535,  0.10891089,  0.08415842,\n",
       "         0.0990099 ,  0.10891089,  0.08415842,  0.07920792,  0.11386139],\n",
       "       [ 0.        ,  0.18357488,  0.13043478,  0.07729469,  0.0821256 ,\n",
       "         0.09661836,  0.10628019,  0.10144928,  0.11594203,  0.10628019],\n",
       "       [ 0.        ,  0.00840336,  0.30252101,  0.09243697,  0.08403361,\n",
       "         0.07563025,  0.08823529,  0.09663866,  0.10084034,  0.1512605 ],\n",
       "       [ 0.02631579,  0.01578947,  0.01052632,  0.38421053,  0.1       ,\n",
       "         0.12631579,  0.10526316,  0.06842105,  0.08421053,  0.07894737],\n",
       "       [ 0.        ,  0.0060241 ,  0.02409639,  0.01204819,  0.5       ,\n",
       "         0.09036145,  0.08433735,  0.06024096,  0.09036145,  0.13253012],\n",
       "       [ 0.01      ,  0.01      ,  0.01      ,  0.005     ,  0.005     ,\n",
       "         0.52      ,  0.12      ,  0.075     ,  0.1       ,  0.145     ],\n",
       "       [ 0.025     ,  0.02      ,  0.005     ,  0.01      ,  0.01      ,\n",
       "         0.01      ,  0.63      ,  0.075     ,  0.125     ,  0.09      ],\n",
       "       [ 0.01149425,  0.01724138,  0.        ,  0.02298851,  0.02298851,\n",
       "         0.00574713,  0.00574713,  0.68390805,  0.06896552,  0.16091954],\n",
       "       [ 0.01020408,  0.0255102 ,  0.01530612,  0.        ,  0.01020408,\n",
       "         0.02040816,  0.00510204,  0.0255102 ,  0.78061224,  0.10714286],\n",
       "       [ 0.00881057,  0.00881057,  0.00881057,  0.01762115,  0.00440529,\n",
       "         0.        ,  0.00440529,  0.        ,  0.00440529,  0.94273128]])"
      ]
     },
     "execution_count": 320,
     "metadata": {},
     "output_type": "execute_result"
    }
   ],
   "source": [
    "def get_R_nrm(R, d=None):\n",
    "    V = R.shape[0]\n",
    "    R = R.astype(float)\n",
    "    R += np.eye(V) * R.sum(axis=0) # Add self-edge equal to sum of victories\n",
    "    Rt = R.T\n",
    "    idx = Rt.sum(axis=0) > 0\n",
    "    Rt[:,idx] /= Rt[:,idx].sum(axis=0)\n",
    "    R_nrm = Rt.T\n",
    "    \n",
    "    if d:\n",
    "        assert d > 0 and d < 1\n",
    "        R_nrm *= d\n",
    "        R_nrm += (1 - d) / V\n",
    "        \n",
    "    return R_nrm\n",
    "\n",
    "R = utils.get_interactions(X)\n",
    "R_nrm = get_R_nrm(R)\n",
    "R_nrm"
   ]
  },
  {
   "cell_type": "code",
   "execution_count": 228,
   "metadata": {
    "collapsed": false
   },
   "outputs": [
    {
     "data": {
      "text/plain": [
       "9    0.555738\n",
       "8    0.137001\n",
       "7    0.112428\n",
       "6    0.065942\n",
       "5    0.027247\n",
       "4    0.025761\n",
       "2    0.024303\n",
       "3    0.023757\n",
       "0    0.014600\n",
       "1    0.013224\n",
       "dtype: float64"
      ]
     },
     "execution_count": 228,
     "metadata": {},
     "output_type": "execute_result"
    }
   ],
   "source": [
    "def power_method(R_nrm):\n",
    "    V = R_nrm.shape[0]\n",
    "    x = np.zeros(V) + 1. / V\n",
    "    prev = x\n",
    "    while True:\n",
    "        prev = x\n",
    "        x = x.dot(R_nrm)\n",
    "        if np.linalg.norm((x - prev)) < 0.0001:\n",
    "            break\n",
    "    return pd.Series(x).sort_values(ascending=False)\n",
    "\n",
    "power_method(R_nrm)"
   ]
  },
  {
   "cell_type": "code",
   "execution_count": 229,
   "metadata": {
    "collapsed": false
   },
   "outputs": [
    {
     "data": {
      "text/plain": [
       "9     (0.556004104522-0j)\n",
       "8     (0.136819849331-0j)\n",
       "7     (0.112408460981-0j)\n",
       "6    (0.0658980317922-0j)\n",
       "5     (0.027244408273-0j)\n",
       "4    (0.0257447580201-0j)\n",
       "2    (0.0243050408312-0j)\n",
       "3    (0.0237577502466-0j)\n",
       "0    (0.0145950544083-0j)\n",
       "1     (0.013222541595-0j)\n",
       "dtype: complex128"
      ]
     },
     "execution_count": 229,
     "metadata": {},
     "output_type": "execute_result"
    }
   ],
   "source": [
    "def np_method(R_nrm):\n",
    "    eigval, eigvec = np.linalg.eig(R_nrm.T)\n",
    "    eigval = pd.Series(eigval)\n",
    "    ev = pd.Series(eigvec[:,eigval.idxmax()])\n",
    "    return (ev / ev.sum()).sort_values(ascending=False) # Normalize to simplex\n",
    "\n",
    "np_method(R_nrm)"
   ]
  },
  {
   "cell_type": "code",
   "execution_count": 321,
   "metadata": {
    "collapsed": false
   },
   "outputs": [
    {
     "data": {
      "text/plain": [
       "9    0.522430\n",
       "8    0.165861\n",
       "7    0.111014\n",
       "6    0.064652\n",
       "5    0.039440\n",
       "4    0.032520\n",
       "3    0.021263\n",
       "0    0.014633\n",
       "1    0.014225\n",
       "2    0.013963\n",
       "dtype: float64"
      ]
     },
     "execution_count": 321,
     "metadata": {},
     "output_type": "execute_result"
    }
   ],
   "source": [
    "V = 10\n",
    "B = 0.9\n",
    "N = 1000\n",
    "X = gen_data_pr(V, B, N)\n",
    "R = utils.get_interactions(X)\n",
    "R_nrm = get_R_nrm(R)\n",
    "pw_out = power_method(R_nrm)\n",
    "np_out = np_method(R_nrm)\n",
    "pw_out"
   ]
  },
  {
   "cell_type": "code",
   "execution_count": 303,
   "metadata": {
    "collapsed": false
   },
   "outputs": [
    {
     "data": {
      "text/plain": [
       "4"
      ]
     },
     "execution_count": 303,
     "metadata": {},
     "output_type": "execute_result"
    }
   ],
   "source": [
    "def get_error(ordering):\n",
    "    V = len(ordering)\n",
    "    return sum(np.abs(ordering.index - np.arange(V)[::-1]))\n",
    "\n",
    "get_error(pw_out)"
   ]
  },
  {
   "cell_type": "markdown",
   "metadata": {},
   "source": [
    "## Eigenvectors of various graphs"
   ]
  },
  {
   "cell_type": "code",
   "execution_count": 325,
   "metadata": {
    "collapsed": false
   },
   "outputs": [
    {
     "data": {
      "text/plain": [
       "0    0.461514\n",
       "2    0.230780\n",
       "3    0.153853\n",
       "1    0.153853\n",
       "dtype: float64"
      ]
     },
     "execution_count": 325,
     "metadata": {},
     "output_type": "execute_result"
    }
   ],
   "source": [
    "R = np.array([\n",
    "        [0, 0, 1, 0],\n",
    "        [1, 0, 0, 0],\n",
    "        [0, 1, 0, 1],\n",
    "        [1, 0, 0, 0]])\n",
    "R_nrm = get_R_nrm(R)\n",
    "power_method(R_nrm)"
   ]
  },
  {
   "cell_type": "code",
   "execution_count": 326,
   "metadata": {
    "collapsed": false
   },
   "outputs": [
    {
     "data": {
      "text/plain": [
       "0    0.400018\n",
       "1    0.300036\n",
       "2    0.199964\n",
       "3    0.099982\n",
       "dtype: float64"
      ]
     },
     "execution_count": 326,
     "metadata": {},
     "output_type": "execute_result"
    }
   ],
   "source": [
    "R = np.array([\n",
    "        [0, 0, 1, 0],\n",
    "        [1, 0, 0, 0],\n",
    "        [0, 1, 0, 1],\n",
    "        [1, 1, 0, 0]])\n",
    "R_nrm = get_R_nrm(R)\n",
    "power_method(R_nrm)"
   ]
  },
  {
   "cell_type": "code",
   "execution_count": 327,
   "metadata": {
    "collapsed": false
   },
   "outputs": [
    {
     "data": {
      "text/plain": [
       "2    0.333333\n",
       "1    0.333333\n",
       "0    0.333333\n",
       "3    0.000000\n",
       "dtype: float64"
      ]
     },
     "execution_count": 327,
     "metadata": {},
     "output_type": "execute_result"
    }
   ],
   "source": [
    "R = np.array([\n",
    "        [0, 0, 1, 0],\n",
    "        [1, 0, 0, 0],\n",
    "        [0, 1, 0, 0],\n",
    "        [1, 1, 1, 0]])\n",
    "R_nrm = get_R_nrm(R)\n",
    "power_method(R_nrm)"
   ]
  },
  {
   "cell_type": "code",
   "execution_count": 329,
   "metadata": {
    "collapsed": false
   },
   "outputs": [
    {
     "data": {
      "text/plain": [
       "0    0.99985\n",
       "3    0.00005\n",
       "2    0.00005\n",
       "1    0.00005\n",
       "dtype: float64"
      ]
     },
     "execution_count": 329,
     "metadata": {},
     "output_type": "execute_result"
    }
   ],
   "source": [
    "R = np.array([\n",
    "        [0, 0, 0, 0],\n",
    "        [1, 0, 1, 0],\n",
    "        [1, 0, 0, 1],\n",
    "        [1, 1, 0, 0]])\n",
    "R_nrm = get_R_nrm(R)\n",
    "power_method(R_nrm)"
   ]
  },
  {
   "cell_type": "markdown",
   "metadata": {},
   "source": [
    "## Simulations\n",
    "\n",
    "- Power method\n",
    "- Error = .9, .7\n",
    "- N = 10, 100, 1000, 10000\n",
    "- V = 100"
   ]
  },
  {
   "cell_type": "code",
   "execution_count": 322,
   "metadata": {
    "collapsed": false
   },
   "outputs": [
    {
     "data": {
      "text/plain": [
       "4380"
      ]
     },
     "execution_count": 322,
     "metadata": {},
     "output_type": "execute_result"
    }
   ],
   "source": [
    "V = 100\n",
    "B = .9\n",
    "N = 10\n",
    "\n",
    "def run_experiment(V, B, N):\n",
    "    X = gen_data_pr(V, B, N)\n",
    "    R = utils.get_interactions(X)\n",
    "    R_nrm = get_R_nrm(R)\n",
    "    return get_error(power_method(R_nrm))\n",
    "    \n",
    "run_experiment(V, B, N)"
   ]
  },
  {
   "cell_type": "code",
   "execution_count": 293,
   "metadata": {
    "collapsed": false
   },
   "outputs": [
    {
     "data": {
      "text/plain": [
       "[351874.40000000002,\n",
       " 233768.79999999999,\n",
       " 152197.60000000001,\n",
       " 117412.39999999999,\n",
       " 87016.800000000003,\n",
       " 62883.199999999997,\n",
       " 42932.400000000001]"
      ]
     },
     "execution_count": 293,
     "metadata": {},
     "output_type": "execute_result"
    }
   ],
   "source": [
    "V = 100\n",
    "B = .9 \n",
    "\n",
    "POINTS = [10, 100, 500, 1000, 2500, 5000, 10000]\n",
    "\n",
    "def run_trial(V, B):\n",
    "    errors = []\n",
    "    for N in POINTS:\n",
    "        results = [run_experiment(V, B, N) for _ in xrange(5)]\n",
    "        errors.append(sum(results) / float(len(results)))\n",
    "#     plt.plot(points, errors)\n",
    "    return errors\n",
    "\n",
    "run_trial(V, B)"
   ]
  },
  {
   "cell_type": "markdown",
   "metadata": {},
   "source": [
    "## Trials"
   ]
  },
  {
   "cell_type": "code",
   "execution_count": 304,
   "metadata": {
    "collapsed": true
   },
   "outputs": [],
   "source": [
    "B_vals = [1, .9, .7]"
   ]
  },
  {
   "cell_type": "code",
   "execution_count": 319,
   "metadata": {
    "collapsed": false
   },
   "outputs": [
    {
     "data": {
      "text/plain": [
       "<matplotlib.axes._subplots.AxesSubplot at 0x11aeb4ed0>"
      ]
     },
     "execution_count": 319,
     "metadata": {},
     "output_type": "execute_result"
    },
    {
     "data": {
      "image/png": "[encoded data removed]",
      "text/plain": [
       "<matplotlib.figure.Figure at 0x11aead550>"
      ]
     },
     "metadata": {},
     "output_type": "display_data"
    }
   ],
   "source": [
    "results = {}\n",
    "V = 100\n",
    "for B in B_vals:\n",
    "    results[B] = run_trial(V, B)\n",
    "results = pd.DataFrame.from_dict(results)\n",
    "results.index = POINTS\n",
    "results.plot(title='Spearman footrule, V={}'.format(V))"
   ]
  },
  {
   "cell_type": "code",
   "execution_count": 314,
   "metadata": {
    "collapsed": false
   },
   "outputs": [
    {
     "data": {
      "text/plain": [
       "<matplotlib.axes._subplots.AxesSubplot at 0x1163f0690>"
      ]
     },
     "execution_count": 314,
     "metadata": {},
     "output_type": "execute_result"
    },
    {
     "data": {
      "image/png": "[encoded data removed]",
      "text/plain": [
       "<matplotlib.figure.Figure at 0x1165f2e10>"
      ]
     },
     "metadata": {},
     "output_type": "display_data"
    }
   ],
   "source": [
    "results = {}\n",
    "V = 1000\n",
    "for B in B_vals:\n",
    "    results[B] = run_trial(V, B)\n",
    "results = pd.DataFrame.from_dict(results)\n",
    "results.index = POINTS\n",
    "results.plot(title='Spearman footrule, V={}'.format(V))"
   ]
  },
  {
   "cell_type": "code",
   "execution_count": null,
   "metadata": {
    "collapsed": true
   },
   "outputs": [],
   "source": []
  }
 ],
 "metadata": {
  "kernelspec": {
   "display_name": "Python 2",
   "language": "python",
   "name": "python2"
  }
 },
 "nbformat": 4,
 "nbformat_minor": 0
}
