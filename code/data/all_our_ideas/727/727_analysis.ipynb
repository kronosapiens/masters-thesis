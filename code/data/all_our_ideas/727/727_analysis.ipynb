{
 "cells": [
  {
   "cell_type": "markdown",
   "metadata": {},
   "source": [
    "# Analysis of survey 727 (Politics survey)"
   ]
  },
  {
   "cell_type": "code",
   "execution_count": 1,
   "metadata": {
    "collapsed": false
   },
   "outputs": [],
   "source": [
    "import matplotlib\n",
    "import pandas as pd\n",
    "\n",
    "pd.options.display.max_columns = 50\n",
    "\n",
    "%matplotlib inline"
   ]
  },
  {
   "cell_type": "code",
   "execution_count": 2,
   "metadata": {
    "collapsed": false
   },
   "outputs": [],
   "source": [
    "ideas = pd.read_csv('wikisurvey_727_ideas_2014-04-05T18_21_17Z.csv')\n",
    "votes = pd.read_csv('wikisurvey_727_votes_2014-04-05T18_21_13Z.csv')"
   ]
  },
  {
   "cell_type": "code",
   "execution_count": 3,
   "metadata": {
    "collapsed": false
   },
   "outputs": [
    {
     "data": {
      "text/html": [
       "<div>\n",
       "<table border=\"1\" class=\"dataframe\">\n",
       "  <thead>\n",
       "    <tr style=\"text-align: right;\">\n",
       "      <th></th>\n",
       "      <th>Wikisurvey ID</th>\n",
       "      <th>Idea ID</th>\n",
       "      <th>Idea Text</th>\n",
       "      <th>Wins</th>\n",
       "      <th>Losses</th>\n",
       "      <th>Times involved in Cant Decide</th>\n",
       "      <th>Score</th>\n",
       "      <th>User Submitted</th>\n",
       "      <th>Session ID</th>\n",
       "      <th>Created at</th>\n",
       "      <th>Last Activity</th>\n",
       "      <th>Active</th>\n",
       "      <th>Appearances on Left</th>\n",
       "      <th>Appearances on Right</th>\n",
       "      <th>Info</th>\n",
       "    </tr>\n",
       "  </thead>\n",
       "  <tbody>\n",
       "    <tr>\n",
       "      <th>0</th>\n",
       "      <td>727</td>\n",
       "      <td>26153</td>\n",
       "      <td>Rep. Charlie Rangel</td>\n",
       "      <td>2360</td>\n",
       "      <td>646</td>\n",
       "      <td>76</td>\n",
       "      <td>78.4907</td>\n",
       "      <td>False</td>\n",
       "      <td>99422</td>\n",
       "      <td>2010-11-24 21:23:58 UTC</td>\n",
       "      <td>2011-10-30 03:12:39 UTC</td>\n",
       "      <td>True</td>\n",
       "      <td>2108</td>\n",
       "      <td>2107</td>\n",
       "      <td>NaN</td>\n",
       "    </tr>\n",
       "  </tbody>\n",
       "</table>\n",
       "</div>"
      ],
      "text/plain": [
       "   Wikisurvey ID  Idea ID            Idea Text  Wins  Losses  \\\n",
       "0            727    26153  Rep. Charlie Rangel  2360     646   \n",
       "\n",
       "   Times involved in Cant Decide    Score User Submitted  Session ID  \\\n",
       "0                             76  78.4907          False       99422   \n",
       "\n",
       "                Created at            Last Activity Active  \\\n",
       "0  2010-11-24 21:23:58 UTC  2011-10-30 03:12:39 UTC   True   \n",
       "\n",
       "   Appearances on Left  Appearances on Right  Info  \n",
       "0                 2108                  2107   NaN  "
      ]
     },
     "execution_count": 3,
     "metadata": {},
     "output_type": "execute_result"
    }
   ],
   "source": [
    "ideas.head(1)"
   ]
  },
  {
   "cell_type": "code",
   "execution_count": 4,
   "metadata": {
    "collapsed": false
   },
   "outputs": [
    {
     "data": {
      "text/plain": [
       "666"
      ]
     },
     "execution_count": 4,
     "metadata": {},
     "output_type": "execute_result"
    }
   ],
   "source": [
    "len(ideas)"
   ]
  },
  {
   "cell_type": "code",
   "execution_count": 5,
   "metadata": {
    "collapsed": false
   },
   "outputs": [
    {
     "data": {
      "text/plain": [
       "76632"
      ]
     },
     "execution_count": 5,
     "metadata": {},
     "output_type": "execute_result"
    }
   ],
   "source": [
    "len(votes)"
   ]
  },
  {
   "cell_type": "code",
   "execution_count": 6,
   "metadata": {
    "collapsed": false
   },
   "outputs": [
    {
     "data": {
      "text/html": [
       "<div>\n",
       "<table border=\"1\" class=\"dataframe\">\n",
       "  <thead>\n",
       "    <tr style=\"text-align: right;\">\n",
       "      <th></th>\n",
       "      <th>Vote ID</th>\n",
       "      <th>Session ID</th>\n",
       "      <th>Wikisurvey ID</th>\n",
       "      <th>Winner ID</th>\n",
       "      <th>Winner Text</th>\n",
       "      <th>Loser ID</th>\n",
       "      <th>Loser Text</th>\n",
       "      <th>Prompt ID</th>\n",
       "      <th>Appearance ID</th>\n",
       "      <th>Left Choice ID</th>\n",
       "      <th>Right Choice ID</th>\n",
       "      <th>Created at</th>\n",
       "      <th>Updated at</th>\n",
       "      <th>Response Time (s)</th>\n",
       "      <th>Missing Response Time Explanation</th>\n",
       "      <th>Valid</th>\n",
       "      <th>Hashed IP Address</th>\n",
       "      <th>URL Alias</th>\n",
       "      <th>User Agent</th>\n",
       "      <th>Referrer</th>\n",
       "      <th>Widget</th>\n",
       "      <th>Info</th>\n",
       "    </tr>\n",
       "  </thead>\n",
       "  <tbody>\n",
       "    <tr>\n",
       "      <th>0</th>\n",
       "      <td>367738</td>\n",
       "      <td>99440</td>\n",
       "      <td>727</td>\n",
       "      <td>26147</td>\n",
       "      <td>Organized labor</td>\n",
       "      <td>26162</td>\n",
       "      <td>Rep. Kendrick Meek</td>\n",
       "      <td>5231609</td>\n",
       "      <td>506534.0</td>\n",
       "      <td>26162</td>\n",
       "      <td>26147</td>\n",
       "      <td>2010-11-24 22:08:13 UTC</td>\n",
       "      <td>2010-11-24 22:08:13 UTC</td>\n",
       "      <td>9.101</td>\n",
       "      <td>NaN</td>\n",
       "      <td>True</td>\n",
       "      <td>a1edf431db337a38948276a3331cd3b3</td>\n",
       "      <td>worstyear</td>\n",
       "      <td>Mozilla/5.0 (Windows; U; Windows NT 5.1; en-US...</td>\n",
       "      <td>http://spspreview.digitalink.com/wp-srv/intera...</td>\n",
       "      <td>True</td>\n",
       "      <td>NaN</td>\n",
       "    </tr>\n",
       "  </tbody>\n",
       "</table>\n",
       "</div>"
      ],
      "text/plain": [
       "   Vote ID  Session ID  Wikisurvey ID  Winner ID      Winner Text  Loser ID  \\\n",
       "0   367738       99440            727      26147  Organized labor     26162   \n",
       "\n",
       "           Loser Text  Prompt ID  Appearance ID  Left Choice ID  \\\n",
       "0  Rep. Kendrick Meek    5231609       506534.0           26162   \n",
       "\n",
       "   Right Choice ID               Created at               Updated at  \\\n",
       "0            26147  2010-11-24 22:08:13 UTC  2010-11-24 22:08:13 UTC   \n",
       "\n",
       "   Response Time (s) Missing Response Time Explanation Valid  \\\n",
       "0              9.101                               NaN  True   \n",
       "\n",
       "                  Hashed IP Address  URL Alias  \\\n",
       "0  a1edf431db337a38948276a3331cd3b3  worstyear   \n",
       "\n",
       "                                          User Agent  \\\n",
       "0  Mozilla/5.0 (Windows; U; Windows NT 5.1; en-US...   \n",
       "\n",
       "                                            Referrer Widget  Info  \n",
       "0  http://spspreview.digitalink.com/wp-srv/intera...   True   NaN  "
      ]
     },
     "execution_count": 6,
     "metadata": {},
     "output_type": "execute_result"
    }
   ],
   "source": [
    "votes.head(1)"
   ]
  },
  {
   "cell_type": "code",
   "execution_count": 7,
   "metadata": {
    "collapsed": false
   },
   "outputs": [
    {
     "data": {
      "text/plain": [
       "14671"
      ]
     },
     "execution_count": 7,
     "metadata": {},
     "output_type": "execute_result"
    }
   ],
   "source": [
    "len(votes['Session ID'].unique())"
   ]
  },
  {
   "cell_type": "code",
   "execution_count": 8,
   "metadata": {
    "collapsed": false
   },
   "outputs": [
    {
     "data": {
      "text/plain": [
       "4116"
      ]
     },
     "execution_count": 8,
     "metadata": {},
     "output_type": "execute_result"
    }
   ],
   "source": [
    "len(votes['Hashed IP Address'].unique())"
   ]
  },
  {
   "cell_type": "code",
   "execution_count": 9,
   "metadata": {
    "collapsed": false
   },
   "outputs": [
    {
     "data": {
      "text/plain": [
       "67"
      ]
     },
     "execution_count": 9,
     "metadata": {},
     "output_type": "execute_result"
    }
   ],
   "source": [
    "len(votes['Winner ID'].unique())"
   ]
  },
  {
   "cell_type": "code",
   "execution_count": 10,
   "metadata": {
    "collapsed": false
   },
   "outputs": [
    {
     "data": {
      "text/plain": [
       "67"
      ]
     },
     "execution_count": 10,
     "metadata": {},
     "output_type": "execute_result"
    }
   ],
   "source": [
    "len(votes['Loser ID'].unique())"
   ]
  },
  {
   "cell_type": "code",
   "execution_count": 13,
   "metadata": {
    "collapsed": false
   },
   "outputs": [
    {
     "data": {
      "text/plain": [
       "<matplotlib.axes._subplots.AxesSubplot at 0x111dad310>"
      ]
     },
     "execution_count": 13,
     "metadata": {},
     "output_type": "execute_result"
    },
    {
     "data": {
      "image/png": "[encoded data removed]",
      "text/plain": [
       "<matplotlib.figure.Figure at 0x10e600190>"
      ]
     },
     "metadata": {},
     "output_type": "display_data"
    }
   ],
   "source": [
    "votes.groupby('Hashed IP Address').count()['Vote ID'].hist(bins=50)"
   ]
  },
  {
   "cell_type": "code",
   "execution_count": 15,
   "metadata": {
    "collapsed": false
   },
   "outputs": [
    {
     "data": {
      "text/plain": [
       "<matplotlib.axes._subplots.AxesSubplot at 0x10e728b90>"
      ]
     },
     "execution_count": 15,
     "metadata": {},
     "output_type": "execute_result"
    },
    {
     "data": {
      "image/png": "[encoded data removed]",
      "text/plain": [
       "<matplotlib.figure.Figure at 0x10e891450>"
      ]
     },
     "metadata": {},
     "output_type": "display_data"
    }
   ],
   "source": [
    "votes.groupby('Session ID').count()['Vote ID'].hist(bins=50)"
   ]
  },
  {
   "cell_type": "code",
   "execution_count": 17,
   "metadata": {
    "collapsed": false
   },
   "outputs": [
    {
     "data": {
      "text/html": [
       "<div>\n",
       "<table border=\"1\" class=\"dataframe\">\n",
       "  <thead>\n",
       "    <tr style=\"text-align: right;\">\n",
       "      <th></th>\n",
       "      <th>Winner ID</th>\n",
       "      <th>Loser ID</th>\n",
       "      <th>Hashed IP Address</th>\n",
       "    </tr>\n",
       "  </thead>\n",
       "  <tbody>\n",
       "    <tr>\n",
       "      <th>0</th>\n",
       "      <td>26147</td>\n",
       "      <td>26162</td>\n",
       "      <td>a1edf431db337a38948276a3331cd3b3</td>\n",
       "    </tr>\n",
       "    <tr>\n",
       "      <th>1</th>\n",
       "      <td>26158</td>\n",
       "      <td>26147</td>\n",
       "      <td>a1edf431db337a38948276a3331cd3b3</td>\n",
       "    </tr>\n",
       "    <tr>\n",
       "      <th>2</th>\n",
       "      <td>26164</td>\n",
       "      <td>26149</td>\n",
       "      <td>a1edf431db337a38948276a3331cd3b3</td>\n",
       "    </tr>\n",
       "    <tr>\n",
       "      <th>3</th>\n",
       "      <td>26157</td>\n",
       "      <td>26143</td>\n",
       "      <td>a1edf431db337a38948276a3331cd3b3</td>\n",
       "    </tr>\n",
       "    <tr>\n",
       "      <th>4</th>\n",
       "      <td>26147</td>\n",
       "      <td>26151</td>\n",
       "      <td>a1edf431db337a38948276a3331cd3b3</td>\n",
       "    </tr>\n",
       "  </tbody>\n",
       "</table>\n",
       "</div>"
      ],
      "text/plain": [
       "   Winner ID  Loser ID                 Hashed IP Address\n",
       "0      26147     26162  a1edf431db337a38948276a3331cd3b3\n",
       "1      26158     26147  a1edf431db337a38948276a3331cd3b3\n",
       "2      26164     26149  a1edf431db337a38948276a3331cd3b3\n",
       "3      26157     26143  a1edf431db337a38948276a3331cd3b3\n",
       "4      26147     26151  a1edf431db337a38948276a3331cd3b3"
      ]
     },
     "execution_count": 17,
     "metadata": {},
     "output_type": "execute_result"
    }
   ],
   "source": [
    "data = votes[['Winner ID', 'Loser ID', 'Hashed IP Address']].copy()\n",
    "data.head()"
   ]
  },
  {
   "cell_type": "code",
   "execution_count": 18,
   "metadata": {
    "collapsed": false
   },
   "outputs": [
    {
     "data": {
      "text/html": [
       "<div>\n",
       "<table border=\"1\" class=\"dataframe\">\n",
       "  <thead>\n",
       "    <tr style=\"text-align: right;\">\n",
       "      <th></th>\n",
       "      <th>Winner ID</th>\n",
       "      <th>Loser ID</th>\n",
       "      <th>Hashed IP Address</th>\n",
       "      <th>value</th>\n",
       "    </tr>\n",
       "  </thead>\n",
       "  <tbody>\n",
       "    <tr>\n",
       "      <th>0</th>\n",
       "      <td>26147</td>\n",
       "      <td>26162</td>\n",
       "      <td>a1edf431db337a38948276a3331cd3b3</td>\n",
       "      <td>0</td>\n",
       "    </tr>\n",
       "    <tr>\n",
       "      <th>1</th>\n",
       "      <td>26158</td>\n",
       "      <td>26147</td>\n",
       "      <td>a1edf431db337a38948276a3331cd3b3</td>\n",
       "      <td>1</td>\n",
       "    </tr>\n",
       "    <tr>\n",
       "      <th>2</th>\n",
       "      <td>26164</td>\n",
       "      <td>26149</td>\n",
       "      <td>a1edf431db337a38948276a3331cd3b3</td>\n",
       "      <td>1</td>\n",
       "    </tr>\n",
       "    <tr>\n",
       "      <th>3</th>\n",
       "      <td>26157</td>\n",
       "      <td>26143</td>\n",
       "      <td>a1edf431db337a38948276a3331cd3b3</td>\n",
       "      <td>1</td>\n",
       "    </tr>\n",
       "    <tr>\n",
       "      <th>4</th>\n",
       "      <td>26147</td>\n",
       "      <td>26151</td>\n",
       "      <td>a1edf431db337a38948276a3331cd3b3</td>\n",
       "      <td>0</td>\n",
       "    </tr>\n",
       "  </tbody>\n",
       "</table>\n",
       "</div>"
      ],
      "text/plain": [
       "   Winner ID  Loser ID                 Hashed IP Address  value\n",
       "0      26147     26162  a1edf431db337a38948276a3331cd3b3      0\n",
       "1      26158     26147  a1edf431db337a38948276a3331cd3b3      1\n",
       "2      26164     26149  a1edf431db337a38948276a3331cd3b3      1\n",
       "3      26157     26143  a1edf431db337a38948276a3331cd3b3      1\n",
       "4      26147     26151  a1edf431db337a38948276a3331cd3b3      0"
      ]
     },
     "execution_count": 18,
     "metadata": {},
     "output_type": "execute_result"
    }
   ],
   "source": [
    "data['value'] = (data['Winner ID'] > data['Loser ID']).apply(int)\n",
    "data.head()"
   ]
  },
  {
   "cell_type": "code",
   "execution_count": 19,
   "metadata": {
    "collapsed": false
   },
   "outputs": [
    {
     "data": {
      "text/html": [
       "<div>\n",
       "<table border=\"1\" class=\"dataframe\">\n",
       "  <thead>\n",
       "    <tr style=\"text-align: right;\">\n",
       "      <th></th>\n",
       "      <th>Winner ID</th>\n",
       "      <th>Loser ID</th>\n",
       "      <th>Hashed IP Address</th>\n",
       "      <th>value</th>\n",
       "      <th>bigIndex</th>\n",
       "      <th>smallIndex</th>\n",
       "    </tr>\n",
       "  </thead>\n",
       "  <tbody>\n",
       "    <tr>\n",
       "      <th>0</th>\n",
       "      <td>26147</td>\n",
       "      <td>26162</td>\n",
       "      <td>a1edf431db337a38948276a3331cd3b3</td>\n",
       "      <td>0</td>\n",
       "      <td>26162</td>\n",
       "      <td>26147</td>\n",
       "    </tr>\n",
       "    <tr>\n",
       "      <th>1</th>\n",
       "      <td>26158</td>\n",
       "      <td>26147</td>\n",
       "      <td>a1edf431db337a38948276a3331cd3b3</td>\n",
       "      <td>1</td>\n",
       "      <td>26158</td>\n",
       "      <td>26147</td>\n",
       "    </tr>\n",
       "    <tr>\n",
       "      <th>2</th>\n",
       "      <td>26164</td>\n",
       "      <td>26149</td>\n",
       "      <td>a1edf431db337a38948276a3331cd3b3</td>\n",
       "      <td>1</td>\n",
       "      <td>26164</td>\n",
       "      <td>26149</td>\n",
       "    </tr>\n",
       "    <tr>\n",
       "      <th>3</th>\n",
       "      <td>26157</td>\n",
       "      <td>26143</td>\n",
       "      <td>a1edf431db337a38948276a3331cd3b3</td>\n",
       "      <td>1</td>\n",
       "      <td>26157</td>\n",
       "      <td>26143</td>\n",
       "    </tr>\n",
       "    <tr>\n",
       "      <th>4</th>\n",
       "      <td>26147</td>\n",
       "      <td>26151</td>\n",
       "      <td>a1edf431db337a38948276a3331cd3b3</td>\n",
       "      <td>0</td>\n",
       "      <td>26151</td>\n",
       "      <td>26147</td>\n",
       "    </tr>\n",
       "  </tbody>\n",
       "</table>\n",
       "</div>"
      ],
      "text/plain": [
       "   Winner ID  Loser ID                 Hashed IP Address  value  bigIndex  \\\n",
       "0      26147     26162  a1edf431db337a38948276a3331cd3b3      0     26162   \n",
       "1      26158     26147  a1edf431db337a38948276a3331cd3b3      1     26158   \n",
       "2      26164     26149  a1edf431db337a38948276a3331cd3b3      1     26164   \n",
       "3      26157     26143  a1edf431db337a38948276a3331cd3b3      1     26157   \n",
       "4      26147     26151  a1edf431db337a38948276a3331cd3b3      0     26151   \n",
       "\n",
       "   smallIndex  \n",
       "0       26147  \n",
       "1       26147  \n",
       "2       26149  \n",
       "3       26143  \n",
       "4       26147  "
      ]
     },
     "execution_count": 19,
     "metadata": {},
     "output_type": "execute_result"
    }
   ],
   "source": [
    "data['bigIndex'] = data[['Winner ID', 'Loser ID']].apply(max, axis=1)\n",
    "data['smallIndex'] = data[['Winner ID', 'Loser ID']].apply(min, axis=1)\n",
    "data.head()"
   ]
  },
  {
   "cell_type": "code",
   "execution_count": 20,
   "metadata": {
    "collapsed": false
   },
   "outputs": [],
   "source": [
    "data['userId'] = data['Hashed IP Address']"
   ]
  },
  {
   "cell_type": "code",
   "execution_count": 21,
   "metadata": {
    "collapsed": false
   },
   "outputs": [],
   "source": [
    "# data['smallIndex'] -= data['smallIndex'].min()\n",
    "# data['bigIndex'] -= data['bigIndex'].min()"
   ]
  },
  {
   "cell_type": "code",
   "execution_count": 22,
   "metadata": {
    "collapsed": false
   },
   "outputs": [],
   "source": [
    "item_map = {}\n",
    "for i, item_id in enumerate(ideas['Idea ID'].sort_values()): \n",
    "    item_map[item_id] = i\n",
    "    \n",
    "text_map = {}\n",
    "id_to_text = ideas.set_index('Idea ID')['Idea Text']\n",
    "for i, item_id in enumerate(ideas['Idea ID']):\n",
    "    text_map[i] = id_to_text[item_id]"
   ]
  },
  {
   "cell_type": "code",
   "execution_count": 23,
   "metadata": {
    "collapsed": false
   },
   "outputs": [],
   "source": [
    "pd.DataFrame.from_dict(item_map, orient='index').to_csv('727_item_map.csv', header=False)"
   ]
  },
  {
   "cell_type": "code",
   "execution_count": 24,
   "metadata": {
    "collapsed": false
   },
   "outputs": [],
   "source": [
    "pd.DataFrame.from_dict(text_map, orient='index').to_csv('727_text_map.csv', header=False)"
   ]
  },
  {
   "cell_type": "code",
   "execution_count": 25,
   "metadata": {
    "collapsed": false
   },
   "outputs": [],
   "source": [
    "for item in item_map:\n",
    "    data.loc[data['smallIndex'] == item, 'smallIndex'] = item_map[item]\n",
    "    data.loc[data['bigIndex'] == item, 'bigIndex'] = item_map[item]"
   ]
  },
  {
   "cell_type": "code",
   "execution_count": 26,
   "metadata": {
    "collapsed": false
   },
   "outputs": [
    {
     "data": {
      "text/html": [
       "<div>\n",
       "<table border=\"1\" class=\"dataframe\">\n",
       "  <thead>\n",
       "    <tr style=\"text-align: right;\">\n",
       "      <th></th>\n",
       "      <th>Winner ID</th>\n",
       "      <th>Loser ID</th>\n",
       "      <th>Hashed IP Address</th>\n",
       "      <th>value</th>\n",
       "      <th>bigIndex</th>\n",
       "      <th>smallIndex</th>\n",
       "      <th>userId</th>\n",
       "    </tr>\n",
       "  </thead>\n",
       "  <tbody>\n",
       "    <tr>\n",
       "      <th>0</th>\n",
       "      <td>26147</td>\n",
       "      <td>26162</td>\n",
       "      <td>a1edf431db337a38948276a3331cd3b3</td>\n",
       "      <td>0</td>\n",
       "      <td>19</td>\n",
       "      <td>4</td>\n",
       "      <td>a1edf431db337a38948276a3331cd3b3</td>\n",
       "    </tr>\n",
       "    <tr>\n",
       "      <th>1</th>\n",
       "      <td>26158</td>\n",
       "      <td>26147</td>\n",
       "      <td>a1edf431db337a38948276a3331cd3b3</td>\n",
       "      <td>1</td>\n",
       "      <td>15</td>\n",
       "      <td>4</td>\n",
       "      <td>a1edf431db337a38948276a3331cd3b3</td>\n",
       "    </tr>\n",
       "    <tr>\n",
       "      <th>2</th>\n",
       "      <td>26164</td>\n",
       "      <td>26149</td>\n",
       "      <td>a1edf431db337a38948276a3331cd3b3</td>\n",
       "      <td>1</td>\n",
       "      <td>21</td>\n",
       "      <td>6</td>\n",
       "      <td>a1edf431db337a38948276a3331cd3b3</td>\n",
       "    </tr>\n",
       "    <tr>\n",
       "      <th>3</th>\n",
       "      <td>26157</td>\n",
       "      <td>26143</td>\n",
       "      <td>a1edf431db337a38948276a3331cd3b3</td>\n",
       "      <td>1</td>\n",
       "      <td>14</td>\n",
       "      <td>0</td>\n",
       "      <td>a1edf431db337a38948276a3331cd3b3</td>\n",
       "    </tr>\n",
       "    <tr>\n",
       "      <th>4</th>\n",
       "      <td>26147</td>\n",
       "      <td>26151</td>\n",
       "      <td>a1edf431db337a38948276a3331cd3b3</td>\n",
       "      <td>0</td>\n",
       "      <td>8</td>\n",
       "      <td>4</td>\n",
       "      <td>a1edf431db337a38948276a3331cd3b3</td>\n",
       "    </tr>\n",
       "  </tbody>\n",
       "</table>\n",
       "</div>"
      ],
      "text/plain": [
       "   Winner ID  Loser ID                 Hashed IP Address  value  bigIndex  \\\n",
       "0      26147     26162  a1edf431db337a38948276a3331cd3b3      0        19   \n",
       "1      26158     26147  a1edf431db337a38948276a3331cd3b3      1        15   \n",
       "2      26164     26149  a1edf431db337a38948276a3331cd3b3      1        21   \n",
       "3      26157     26143  a1edf431db337a38948276a3331cd3b3      1        14   \n",
       "4      26147     26151  a1edf431db337a38948276a3331cd3b3      0         8   \n",
       "\n",
       "   smallIndex                            userId  \n",
       "0           4  a1edf431db337a38948276a3331cd3b3  \n",
       "1           4  a1edf431db337a38948276a3331cd3b3  \n",
       "2           6  a1edf431db337a38948276a3331cd3b3  \n",
       "3           0  a1edf431db337a38948276a3331cd3b3  \n",
       "4           4  a1edf431db337a38948276a3331cd3b3  "
      ]
     },
     "execution_count": 26,
     "metadata": {},
     "output_type": "execute_result"
    }
   ],
   "source": [
    "data.head()"
   ]
  },
  {
   "cell_type": "code",
   "execution_count": 28,
   "metadata": {
    "collapsed": false
   },
   "outputs": [
    {
     "data": {
      "text/html": [
       "<div>\n",
       "<table border=\"1\" class=\"dataframe\">\n",
       "  <thead>\n",
       "    <tr style=\"text-align: right;\">\n",
       "      <th></th>\n",
       "      <th>0</th>\n",
       "      <th>1</th>\n",
       "      <th>2</th>\n",
       "      <th>3</th>\n",
       "    </tr>\n",
       "  </thead>\n",
       "  <tbody>\n",
       "    <tr>\n",
       "      <th>0</th>\n",
       "      <td>4</td>\n",
       "      <td>19</td>\n",
       "      <td>0</td>\n",
       "      <td>a1edf431db337a38948276a3331cd3b3</td>\n",
       "    </tr>\n",
       "    <tr>\n",
       "      <th>1</th>\n",
       "      <td>4</td>\n",
       "      <td>15</td>\n",
       "      <td>1</td>\n",
       "      <td>a1edf431db337a38948276a3331cd3b3</td>\n",
       "    </tr>\n",
       "    <tr>\n",
       "      <th>2</th>\n",
       "      <td>6</td>\n",
       "      <td>21</td>\n",
       "      <td>1</td>\n",
       "      <td>a1edf431db337a38948276a3331cd3b3</td>\n",
       "    </tr>\n",
       "    <tr>\n",
       "      <th>3</th>\n",
       "      <td>0</td>\n",
       "      <td>14</td>\n",
       "      <td>1</td>\n",
       "      <td>a1edf431db337a38948276a3331cd3b3</td>\n",
       "    </tr>\n",
       "    <tr>\n",
       "      <th>4</th>\n",
       "      <td>4</td>\n",
       "      <td>8</td>\n",
       "      <td>0</td>\n",
       "      <td>a1edf431db337a38948276a3331cd3b3</td>\n",
       "    </tr>\n",
       "    <tr>\n",
       "      <th>5</th>\n",
       "      <td>0</td>\n",
       "      <td>20</td>\n",
       "      <td>0</td>\n",
       "      <td>a1edf431db337a38948276a3331cd3b3</td>\n",
       "    </tr>\n",
       "    <tr>\n",
       "      <th>6</th>\n",
       "      <td>6</td>\n",
       "      <td>16</td>\n",
       "      <td>0</td>\n",
       "      <td>a1edf431db337a38948276a3331cd3b3</td>\n",
       "    </tr>\n",
       "    <tr>\n",
       "      <th>7</th>\n",
       "      <td>10</td>\n",
       "      <td>17</td>\n",
       "      <td>1</td>\n",
       "      <td>a1edf431db337a38948276a3331cd3b3</td>\n",
       "    </tr>\n",
       "    <tr>\n",
       "      <th>8</th>\n",
       "      <td>4</td>\n",
       "      <td>5</td>\n",
       "      <td>0</td>\n",
       "      <td>a1edf431db337a38948276a3331cd3b3</td>\n",
       "    </tr>\n",
       "    <tr>\n",
       "      <th>9</th>\n",
       "      <td>8</td>\n",
       "      <td>9</td>\n",
       "      <td>0</td>\n",
       "      <td>a1edf431db337a38948276a3331cd3b3</td>\n",
       "    </tr>\n",
       "    <tr>\n",
       "      <th>10</th>\n",
       "      <td>7</td>\n",
       "      <td>11</td>\n",
       "      <td>1</td>\n",
       "      <td>ac9c7e84cbc01fe283addf5d2c45e41a</td>\n",
       "    </tr>\n",
       "    <tr>\n",
       "      <th>11</th>\n",
       "      <td>15</td>\n",
       "      <td>21</td>\n",
       "      <td>0</td>\n",
       "      <td>ac9c7e84cbc01fe283addf5d2c45e41a</td>\n",
       "    </tr>\n",
       "    <tr>\n",
       "      <th>12</th>\n",
       "      <td>6</td>\n",
       "      <td>17</td>\n",
       "      <td>1</td>\n",
       "      <td>ac9c7e84cbc01fe283addf5d2c45e41a</td>\n",
       "    </tr>\n",
       "    <tr>\n",
       "      <th>13</th>\n",
       "      <td>15</td>\n",
       "      <td>17</td>\n",
       "      <td>0</td>\n",
       "      <td>ac9c7e84cbc01fe283addf5d2c45e41a</td>\n",
       "    </tr>\n",
       "    <tr>\n",
       "      <th>14</th>\n",
       "      <td>7</td>\n",
       "      <td>10</td>\n",
       "      <td>0</td>\n",
       "      <td>ac9c7e84cbc01fe283addf5d2c45e41a</td>\n",
       "    </tr>\n",
       "    <tr>\n",
       "      <th>15</th>\n",
       "      <td>14</td>\n",
       "      <td>22</td>\n",
       "      <td>1</td>\n",
       "      <td>ac9c7e84cbc01fe283addf5d2c45e41a</td>\n",
       "    </tr>\n",
       "    <tr>\n",
       "      <th>16</th>\n",
       "      <td>13</td>\n",
       "      <td>20</td>\n",
       "      <td>1</td>\n",
       "      <td>ac9c7e84cbc01fe283addf5d2c45e41a</td>\n",
       "    </tr>\n",
       "    <tr>\n",
       "      <th>17</th>\n",
       "      <td>14</td>\n",
       "      <td>17</td>\n",
       "      <td>0</td>\n",
       "      <td>ac9c7e84cbc01fe283addf5d2c45e41a</td>\n",
       "    </tr>\n",
       "    <tr>\n",
       "      <th>18</th>\n",
       "      <td>3</td>\n",
       "      <td>15</td>\n",
       "      <td>0</td>\n",
       "      <td>efadf83714404383e58d349f5e7d84d4</td>\n",
       "    </tr>\n",
       "    <tr>\n",
       "      <th>19</th>\n",
       "      <td>2</td>\n",
       "      <td>3</td>\n",
       "      <td>1</td>\n",
       "      <td>071061a51c1fd430fad8dff03a39f1e0</td>\n",
       "    </tr>\n",
       "    <tr>\n",
       "      <th>20</th>\n",
       "      <td>14</td>\n",
       "      <td>20</td>\n",
       "      <td>0</td>\n",
       "      <td>071061a51c1fd430fad8dff03a39f1e0</td>\n",
       "    </tr>\n",
       "    <tr>\n",
       "      <th>21</th>\n",
       "      <td>15</td>\n",
       "      <td>22</td>\n",
       "      <td>1</td>\n",
       "      <td>071061a51c1fd430fad8dff03a39f1e0</td>\n",
       "    </tr>\n",
       "    <tr>\n",
       "      <th>22</th>\n",
       "      <td>14</td>\n",
       "      <td>20</td>\n",
       "      <td>0</td>\n",
       "      <td>071061a51c1fd430fad8dff03a39f1e0</td>\n",
       "    </tr>\n",
       "    <tr>\n",
       "      <th>23</th>\n",
       "      <td>16</td>\n",
       "      <td>17</td>\n",
       "      <td>1</td>\n",
       "      <td>071061a51c1fd430fad8dff03a39f1e0</td>\n",
       "    </tr>\n",
       "    <tr>\n",
       "      <th>24</th>\n",
       "      <td>5</td>\n",
       "      <td>17</td>\n",
       "      <td>0</td>\n",
       "      <td>071061a51c1fd430fad8dff03a39f1e0</td>\n",
       "    </tr>\n",
       "    <tr>\n",
       "      <th>25</th>\n",
       "      <td>3</td>\n",
       "      <td>9</td>\n",
       "      <td>0</td>\n",
       "      <td>071061a51c1fd430fad8dff03a39f1e0</td>\n",
       "    </tr>\n",
       "    <tr>\n",
       "      <th>26</th>\n",
       "      <td>10</td>\n",
       "      <td>17</td>\n",
       "      <td>0</td>\n",
       "      <td>071061a51c1fd430fad8dff03a39f1e0</td>\n",
       "    </tr>\n",
       "    <tr>\n",
       "      <th>27</th>\n",
       "      <td>1</td>\n",
       "      <td>3</td>\n",
       "      <td>1</td>\n",
       "      <td>071061a51c1fd430fad8dff03a39f1e0</td>\n",
       "    </tr>\n",
       "    <tr>\n",
       "      <th>28</th>\n",
       "      <td>18</td>\n",
       "      <td>22</td>\n",
       "      <td>0</td>\n",
       "      <td>071061a51c1fd430fad8dff03a39f1e0</td>\n",
       "    </tr>\n",
       "    <tr>\n",
       "      <th>29</th>\n",
       "      <td>9</td>\n",
       "      <td>21</td>\n",
       "      <td>0</td>\n",
       "      <td>071061a51c1fd430fad8dff03a39f1e0</td>\n",
       "    </tr>\n",
       "    <tr>\n",
       "      <th>...</th>\n",
       "      <td>...</td>\n",
       "      <td>...</td>\n",
       "      <td>...</td>\n",
       "      <td>...</td>\n",
       "    </tr>\n",
       "    <tr>\n",
       "      <th>76602</th>\n",
       "      <td>3</td>\n",
       "      <td>23</td>\n",
       "      <td>1</td>\n",
       "      <td>5410eb1a837bf12e3d6ddacb47f2f1db</td>\n",
       "    </tr>\n",
       "    <tr>\n",
       "      <th>76603</th>\n",
       "      <td>16</td>\n",
       "      <td>72</td>\n",
       "      <td>1</td>\n",
       "      <td>5410eb1a837bf12e3d6ddacb47f2f1db</td>\n",
       "    </tr>\n",
       "    <tr>\n",
       "      <th>76604</th>\n",
       "      <td>3</td>\n",
       "      <td>9</td>\n",
       "      <td>1</td>\n",
       "      <td>5410eb1a837bf12e3d6ddacb47f2f1db</td>\n",
       "    </tr>\n",
       "    <tr>\n",
       "      <th>76605</th>\n",
       "      <td>17</td>\n",
       "      <td>234</td>\n",
       "      <td>0</td>\n",
       "      <td>5410eb1a837bf12e3d6ddacb47f2f1db</td>\n",
       "    </tr>\n",
       "    <tr>\n",
       "      <th>76606</th>\n",
       "      <td>168</td>\n",
       "      <td>256</td>\n",
       "      <td>0</td>\n",
       "      <td>5410eb1a837bf12e3d6ddacb47f2f1db</td>\n",
       "    </tr>\n",
       "    <tr>\n",
       "      <th>76607</th>\n",
       "      <td>16</td>\n",
       "      <td>144</td>\n",
       "      <td>0</td>\n",
       "      <td>5410eb1a837bf12e3d6ddacb47f2f1db</td>\n",
       "    </tr>\n",
       "    <tr>\n",
       "      <th>76608</th>\n",
       "      <td>8</td>\n",
       "      <td>11</td>\n",
       "      <td>1</td>\n",
       "      <td>5410eb1a837bf12e3d6ddacb47f2f1db</td>\n",
       "    </tr>\n",
       "    <tr>\n",
       "      <th>76609</th>\n",
       "      <td>23</td>\n",
       "      <td>205</td>\n",
       "      <td>1</td>\n",
       "      <td>5410eb1a837bf12e3d6ddacb47f2f1db</td>\n",
       "    </tr>\n",
       "    <tr>\n",
       "      <th>76610</th>\n",
       "      <td>65</td>\n",
       "      <td>113</td>\n",
       "      <td>0</td>\n",
       "      <td>5410eb1a837bf12e3d6ddacb47f2f1db</td>\n",
       "    </tr>\n",
       "    <tr>\n",
       "      <th>76611</th>\n",
       "      <td>61</td>\n",
       "      <td>65</td>\n",
       "      <td>0</td>\n",
       "      <td>5410eb1a837bf12e3d6ddacb47f2f1db</td>\n",
       "    </tr>\n",
       "    <tr>\n",
       "      <th>76612</th>\n",
       "      <td>97</td>\n",
       "      <td>145</td>\n",
       "      <td>0</td>\n",
       "      <td>5410eb1a837bf12e3d6ddacb47f2f1db</td>\n",
       "    </tr>\n",
       "    <tr>\n",
       "      <th>76613</th>\n",
       "      <td>4</td>\n",
       "      <td>29</td>\n",
       "      <td>1</td>\n",
       "      <td>5410eb1a837bf12e3d6ddacb47f2f1db</td>\n",
       "    </tr>\n",
       "    <tr>\n",
       "      <th>76614</th>\n",
       "      <td>65</td>\n",
       "      <td>265</td>\n",
       "      <td>0</td>\n",
       "      <td>5410eb1a837bf12e3d6ddacb47f2f1db</td>\n",
       "    </tr>\n",
       "    <tr>\n",
       "      <th>76615</th>\n",
       "      <td>16</td>\n",
       "      <td>90</td>\n",
       "      <td>1</td>\n",
       "      <td>5410eb1a837bf12e3d6ddacb47f2f1db</td>\n",
       "    </tr>\n",
       "    <tr>\n",
       "      <th>76616</th>\n",
       "      <td>1</td>\n",
       "      <td>97</td>\n",
       "      <td>1</td>\n",
       "      <td>5410eb1a837bf12e3d6ddacb47f2f1db</td>\n",
       "    </tr>\n",
       "    <tr>\n",
       "      <th>76617</th>\n",
       "      <td>3</td>\n",
       "      <td>23</td>\n",
       "      <td>1</td>\n",
       "      <td>5410eb1a837bf12e3d6ddacb47f2f1db</td>\n",
       "    </tr>\n",
       "    <tr>\n",
       "      <th>76618</th>\n",
       "      <td>16</td>\n",
       "      <td>20</td>\n",
       "      <td>1</td>\n",
       "      <td>5410eb1a837bf12e3d6ddacb47f2f1db</td>\n",
       "    </tr>\n",
       "    <tr>\n",
       "      <th>76619</th>\n",
       "      <td>17</td>\n",
       "      <td>121</td>\n",
       "      <td>1</td>\n",
       "      <td>5410eb1a837bf12e3d6ddacb47f2f1db</td>\n",
       "    </tr>\n",
       "    <tr>\n",
       "      <th>76620</th>\n",
       "      <td>0</td>\n",
       "      <td>205</td>\n",
       "      <td>1</td>\n",
       "      <td>5410eb1a837bf12e3d6ddacb47f2f1db</td>\n",
       "    </tr>\n",
       "    <tr>\n",
       "      <th>76621</th>\n",
       "      <td>27</td>\n",
       "      <td>235</td>\n",
       "      <td>0</td>\n",
       "      <td>5410eb1a837bf12e3d6ddacb47f2f1db</td>\n",
       "    </tr>\n",
       "    <tr>\n",
       "      <th>76622</th>\n",
       "      <td>15</td>\n",
       "      <td>256</td>\n",
       "      <td>0</td>\n",
       "      <td>5410eb1a837bf12e3d6ddacb47f2f1db</td>\n",
       "    </tr>\n",
       "    <tr>\n",
       "      <th>76623</th>\n",
       "      <td>21</td>\n",
       "      <td>113</td>\n",
       "      <td>0</td>\n",
       "      <td>5410eb1a837bf12e3d6ddacb47f2f1db</td>\n",
       "    </tr>\n",
       "    <tr>\n",
       "      <th>76624</th>\n",
       "      <td>32</td>\n",
       "      <td>61</td>\n",
       "      <td>1</td>\n",
       "      <td>5410eb1a837bf12e3d6ddacb47f2f1db</td>\n",
       "    </tr>\n",
       "    <tr>\n",
       "      <th>76625</th>\n",
       "      <td>8</td>\n",
       "      <td>28</td>\n",
       "      <td>1</td>\n",
       "      <td>5410eb1a837bf12e3d6ddacb47f2f1db</td>\n",
       "    </tr>\n",
       "    <tr>\n",
       "      <th>76626</th>\n",
       "      <td>11</td>\n",
       "      <td>27</td>\n",
       "      <td>0</td>\n",
       "      <td>5410eb1a837bf12e3d6ddacb47f2f1db</td>\n",
       "    </tr>\n",
       "    <tr>\n",
       "      <th>76627</th>\n",
       "      <td>80</td>\n",
       "      <td>168</td>\n",
       "      <td>1</td>\n",
       "      <td>5410eb1a837bf12e3d6ddacb47f2f1db</td>\n",
       "    </tr>\n",
       "    <tr>\n",
       "      <th>76628</th>\n",
       "      <td>142</td>\n",
       "      <td>168</td>\n",
       "      <td>1</td>\n",
       "      <td>5410eb1a837bf12e3d6ddacb47f2f1db</td>\n",
       "    </tr>\n",
       "    <tr>\n",
       "      <th>76629</th>\n",
       "      <td>28</td>\n",
       "      <td>141</td>\n",
       "      <td>0</td>\n",
       "      <td>5410eb1a837bf12e3d6ddacb47f2f1db</td>\n",
       "    </tr>\n",
       "    <tr>\n",
       "      <th>76630</th>\n",
       "      <td>205</td>\n",
       "      <td>256</td>\n",
       "      <td>0</td>\n",
       "      <td>5410eb1a837bf12e3d6ddacb47f2f1db</td>\n",
       "    </tr>\n",
       "    <tr>\n",
       "      <th>76631</th>\n",
       "      <td>0</td>\n",
       "      <td>16</td>\n",
       "      <td>0</td>\n",
       "      <td>8c60fcc12fd9abe171fcc9a9f3938c8a</td>\n",
       "    </tr>\n",
       "  </tbody>\n",
       "</table>\n",
       "<p>76632 rows × 4 columns</p>\n",
       "</div>"
      ],
      "text/plain": [
       "         0    1  2                                 3\n",
       "0        4   19  0  a1edf431db337a38948276a3331cd3b3\n",
       "1        4   15  1  a1edf431db337a38948276a3331cd3b3\n",
       "2        6   21  1  a1edf431db337a38948276a3331cd3b3\n",
       "3        0   14  1  a1edf431db337a38948276a3331cd3b3\n",
       "4        4    8  0  a1edf431db337a38948276a3331cd3b3\n",
       "5        0   20  0  a1edf431db337a38948276a3331cd3b3\n",
       "6        6   16  0  a1edf431db337a38948276a3331cd3b3\n",
       "7       10   17  1  a1edf431db337a38948276a3331cd3b3\n",
       "8        4    5  0  a1edf431db337a38948276a3331cd3b3\n",
       "9        8    9  0  a1edf431db337a38948276a3331cd3b3\n",
       "10       7   11  1  ac9c7e84cbc01fe283addf5d2c45e41a\n",
       "11      15   21  0  ac9c7e84cbc01fe283addf5d2c45e41a\n",
       "12       6   17  1  ac9c7e84cbc01fe283addf5d2c45e41a\n",
       "13      15   17  0  ac9c7e84cbc01fe283addf5d2c45e41a\n",
       "14       7   10  0  ac9c7e84cbc01fe283addf5d2c45e41a\n",
       "15      14   22  1  ac9c7e84cbc01fe283addf5d2c45e41a\n",
       "16      13   20  1  ac9c7e84cbc01fe283addf5d2c45e41a\n",
       "17      14   17  0  ac9c7e84cbc01fe283addf5d2c45e41a\n",
       "18       3   15  0  efadf83714404383e58d349f5e7d84d4\n",
       "19       2    3  1  071061a51c1fd430fad8dff03a39f1e0\n",
       "20      14   20  0  071061a51c1fd430fad8dff03a39f1e0\n",
       "21      15   22  1  071061a51c1fd430fad8dff03a39f1e0\n",
       "22      14   20  0  071061a51c1fd430fad8dff03a39f1e0\n",
       "23      16   17  1  071061a51c1fd430fad8dff03a39f1e0\n",
       "24       5   17  0  071061a51c1fd430fad8dff03a39f1e0\n",
       "25       3    9  0  071061a51c1fd430fad8dff03a39f1e0\n",
       "26      10   17  0  071061a51c1fd430fad8dff03a39f1e0\n",
       "27       1    3  1  071061a51c1fd430fad8dff03a39f1e0\n",
       "28      18   22  0  071061a51c1fd430fad8dff03a39f1e0\n",
       "29       9   21  0  071061a51c1fd430fad8dff03a39f1e0\n",
       "...    ...  ... ..                               ...\n",
       "76602    3   23  1  5410eb1a837bf12e3d6ddacb47f2f1db\n",
       "76603   16   72  1  5410eb1a837bf12e3d6ddacb47f2f1db\n",
       "76604    3    9  1  5410eb1a837bf12e3d6ddacb47f2f1db\n",
       "76605   17  234  0  5410eb1a837bf12e3d6ddacb47f2f1db\n",
       "76606  168  256  0  5410eb1a837bf12e3d6ddacb47f2f1db\n",
       "76607   16  144  0  5410eb1a837bf12e3d6ddacb47f2f1db\n",
       "76608    8   11  1  5410eb1a837bf12e3d6ddacb47f2f1db\n",
       "76609   23  205  1  5410eb1a837bf12e3d6ddacb47f2f1db\n",
       "76610   65  113  0  5410eb1a837bf12e3d6ddacb47f2f1db\n",
       "76611   61   65  0  5410eb1a837bf12e3d6ddacb47f2f1db\n",
       "76612   97  145  0  5410eb1a837bf12e3d6ddacb47f2f1db\n",
       "76613    4   29  1  5410eb1a837bf12e3d6ddacb47f2f1db\n",
       "76614   65  265  0  5410eb1a837bf12e3d6ddacb47f2f1db\n",
       "76615   16   90  1  5410eb1a837bf12e3d6ddacb47f2f1db\n",
       "76616    1   97  1  5410eb1a837bf12e3d6ddacb47f2f1db\n",
       "76617    3   23  1  5410eb1a837bf12e3d6ddacb47f2f1db\n",
       "76618   16   20  1  5410eb1a837bf12e3d6ddacb47f2f1db\n",
       "76619   17  121  1  5410eb1a837bf12e3d6ddacb47f2f1db\n",
       "76620    0  205  1  5410eb1a837bf12e3d6ddacb47f2f1db\n",
       "76621   27  235  0  5410eb1a837bf12e3d6ddacb47f2f1db\n",
       "76622   15  256  0  5410eb1a837bf12e3d6ddacb47f2f1db\n",
       "76623   21  113  0  5410eb1a837bf12e3d6ddacb47f2f1db\n",
       "76624   32   61  1  5410eb1a837bf12e3d6ddacb47f2f1db\n",
       "76625    8   28  1  5410eb1a837bf12e3d6ddacb47f2f1db\n",
       "76626   11   27  0  5410eb1a837bf12e3d6ddacb47f2f1db\n",
       "76627   80  168  1  5410eb1a837bf12e3d6ddacb47f2f1db\n",
       "76628  142  168  1  5410eb1a837bf12e3d6ddacb47f2f1db\n",
       "76629   28  141  0  5410eb1a837bf12e3d6ddacb47f2f1db\n",
       "76630  205  256  0  5410eb1a837bf12e3d6ddacb47f2f1db\n",
       "76631    0   16  0  8c60fcc12fd9abe171fcc9a9f3938c8a\n",
       "\n",
       "[76632 rows x 4 columns]"
      ]
     },
     "execution_count": 28,
     "metadata": {},
     "output_type": "execute_result"
    }
   ],
   "source": [
    "data[['smallIndex', 'bigIndex', 'value', 'userId']].to_csv('727_dat.csv', index=False, header=False)\n",
    "pd.read_csv('727_dat.csv', header=None)"
   ]
  },
  {
   "cell_type": "code",
   "execution_count": null,
   "metadata": {
    "collapsed": true
   },
   "outputs": [],
   "source": []
  }
 ],
 "metadata": {
  "kernelspec": {
   "display_name": "Python 2",
   "language": "python",
   "name": "python2"
  },
  "language_info": {
   "codemirror_mode": {
    "name": "ipython",
    "version": 2
   },
   "file_extension": ".py",
   "mimetype": "text/x-python",
   "name": "python",
   "nbconvert_exporter": "python",
   "pygments_lexer": "ipython2",
   "version": "2.7.12"
  }
 },
 "nbformat": 4,
 "nbformat_minor": 0
}
