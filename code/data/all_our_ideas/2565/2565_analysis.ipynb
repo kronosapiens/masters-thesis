{
 "cells": [
  {
   "cell_type": "markdown",
   "metadata": {},
   "source": [
    "# Analysis of survey 2565 (Beer survey)"
   ]
  },
  {
   "cell_type": "code",
   "execution_count": 1,
   "metadata": {
    "collapsed": false
   },
   "outputs": [],
   "source": [
    "import matplotlib\n",
    "import pandas as pd\n",
    "\n",
    "pd.options.display.max_columns = 50\n",
    "\n",
    "%matplotlib inline"
   ]
  },
  {
   "cell_type": "code",
   "execution_count": 2,
   "metadata": {
    "collapsed": false
   },
   "outputs": [],
   "source": [
    "ideas = pd.read_csv('wikisurvey_2565_ideas_2016-12-14T20-42-29Z.csv')\n",
    "votes = pd.read_csv('wikisurvey_2565_votes_2016-12-14T20-42-35Z.csv')\n",
    "nonvotes = pd.read_csv('wikisurvey_2565_nonvotes_2016-12-14T20-42-38Z.csv')"
   ]
  },
  {
   "cell_type": "code",
   "execution_count": 3,
   "metadata": {
    "collapsed": false
   },
   "outputs": [
    {
     "data": {
      "text/html": [
       "<div>\n",
       "<table border=\"1\" class=\"dataframe\">\n",
       "  <thead>\n",
       "    <tr style=\"text-align: right;\">\n",
       "      <th></th>\n",
       "      <th>Wikisurvey ID</th>\n",
       "      <th>Idea ID</th>\n",
       "      <th>Idea Text</th>\n",
       "      <th>Wins</th>\n",
       "      <th>Losses</th>\n",
       "      <th>Times involved in Cant Decide</th>\n",
       "      <th>Score</th>\n",
       "      <th>User Submitted</th>\n",
       "      <th>Session ID</th>\n",
       "      <th>Created at</th>\n",
       "      <th>Last Activity</th>\n",
       "      <th>Active</th>\n",
       "      <th>Appearances on Left</th>\n",
       "      <th>Appearances on Right</th>\n",
       "      <th>Info</th>\n",
       "    </tr>\n",
       "  </thead>\n",
       "  <tbody>\n",
       "    <tr>\n",
       "      <th>0</th>\n",
       "      <td>2565</td>\n",
       "      <td>208020</td>\n",
       "      <td>Leffe (belgian blonde ale)</td>\n",
       "      <td>11</td>\n",
       "      <td>1</td>\n",
       "      <td>1</td>\n",
       "      <td>85.7143</td>\n",
       "      <td>True</td>\n",
       "      <td>1429276</td>\n",
       "      <td>2012-07-11 23:22:19 UTC</td>\n",
       "      <td>2012-07-13 01:18:33 UTC</td>\n",
       "      <td>True</td>\n",
       "      <td>10</td>\n",
       "      <td>6</td>\n",
       "      <td>NaN</td>\n",
       "    </tr>\n",
       "  </tbody>\n",
       "</table>\n",
       "</div>"
      ],
      "text/plain": [
       "   Wikisurvey ID  Idea ID                   Idea Text  Wins  Losses  \\\n",
       "0           2565   208020  Leffe (belgian blonde ale)    11       1   \n",
       "\n",
       "   Times involved in Cant Decide    Score User Submitted  Session ID  \\\n",
       "0                              1  85.7143           True     1429276   \n",
       "\n",
       "                Created at            Last Activity Active  \\\n",
       "0  2012-07-11 23:22:19 UTC  2012-07-13 01:18:33 UTC   True   \n",
       "\n",
       "   Appearances on Left  Appearances on Right  Info  \n",
       "0                   10                     6   NaN  "
      ]
     },
     "execution_count": 3,
     "metadata": {},
     "output_type": "execute_result"
    }
   ],
   "source": [
    "ideas.head(1)"
   ]
  },
  {
   "cell_type": "code",
   "execution_count": 4,
   "metadata": {
    "collapsed": false
   },
   "outputs": [
    {
     "data": {
      "text/plain": [
       "27"
      ]
     },
     "execution_count": 4,
     "metadata": {},
     "output_type": "execute_result"
    }
   ],
   "source": [
    "len(ideas)"
   ]
  },
  {
   "cell_type": "code",
   "execution_count": 5,
   "metadata": {
    "collapsed": false
   },
   "outputs": [
    {
     "data": {
      "text/plain": [
       "1468"
      ]
     },
     "execution_count": 5,
     "metadata": {},
     "output_type": "execute_result"
    }
   ],
   "source": [
    "len(votes)"
   ]
  },
  {
   "cell_type": "code",
   "execution_count": 6,
   "metadata": {
    "collapsed": false
   },
   "outputs": [
    {
     "data": {
      "text/html": [
       "<div>\n",
       "<table border=\"1\" class=\"dataframe\">\n",
       "  <thead>\n",
       "    <tr style=\"text-align: right;\">\n",
       "      <th></th>\n",
       "      <th>Vote ID</th>\n",
       "      <th>Session ID</th>\n",
       "      <th>Wikisurvey ID</th>\n",
       "      <th>Winner ID</th>\n",
       "      <th>Winner Text</th>\n",
       "      <th>Loser ID</th>\n",
       "      <th>Loser Text</th>\n",
       "      <th>Prompt ID</th>\n",
       "      <th>Appearance ID</th>\n",
       "      <th>Left Choice ID</th>\n",
       "      <th>Right Choice ID</th>\n",
       "      <th>Created at</th>\n",
       "      <th>Updated at</th>\n",
       "      <th>Response Time (s)</th>\n",
       "      <th>Missing Response Time Explanation</th>\n",
       "      <th>Valid</th>\n",
       "      <th>Hashed IP Address</th>\n",
       "      <th>URL Alias</th>\n",
       "      <th>User Agent</th>\n",
       "      <th>Referrer</th>\n",
       "      <th>Widget</th>\n",
       "      <th>Info</th>\n",
       "    </tr>\n",
       "  </thead>\n",
       "  <tbody>\n",
       "    <tr>\n",
       "      <th>0</th>\n",
       "      <td>3833171</td>\n",
       "      <td>1427790</td>\n",
       "      <td>2565</td>\n",
       "      <td>207870</td>\n",
       "      <td>New Belgium \"Mothership\"</td>\n",
       "      <td>207873</td>\n",
       "      <td>Sierra Nevada \"Summerfest\"</td>\n",
       "      <td>10734722</td>\n",
       "      <td>5595219</td>\n",
       "      <td>207870</td>\n",
       "      <td>207873</td>\n",
       "      <td>2012-07-10 17:08:10 UTC</td>\n",
       "      <td>2012-07-10 17:08:10 UTC</td>\n",
       "      <td>4.386</td>\n",
       "      <td>NaN</td>\n",
       "      <td>True</td>\n",
       "      <td>749d8459047a7c024738d643524b889a</td>\n",
       "      <td>kingmanbeer</td>\n",
       "      <td>Mozilla/5.0 (Macintosh; Intel Mac OS X 10_7_4)...</td>\n",
       "      <td>http://www.allourideas.org/kingmanbeer/admin</td>\n",
       "      <td>False</td>\n",
       "      <td>NaN</td>\n",
       "    </tr>\n",
       "  </tbody>\n",
       "</table>\n",
       "</div>"
      ],
      "text/plain": [
       "   Vote ID  Session ID  Wikisurvey ID  Winner ID               Winner Text  \\\n",
       "0  3833171     1427790           2565     207870  New Belgium \"Mothership\"   \n",
       "\n",
       "   Loser ID                  Loser Text  Prompt ID  Appearance ID  \\\n",
       "0    207873  Sierra Nevada \"Summerfest\"   10734722        5595219   \n",
       "\n",
       "   Left Choice ID  Right Choice ID               Created at  \\\n",
       "0          207870           207873  2012-07-10 17:08:10 UTC   \n",
       "\n",
       "                Updated at  Response Time (s)  \\\n",
       "0  2012-07-10 17:08:10 UTC              4.386   \n",
       "\n",
       "   Missing Response Time Explanation Valid                 Hashed IP Address  \\\n",
       "0                                NaN  True  749d8459047a7c024738d643524b889a   \n",
       "\n",
       "     URL Alias                                         User Agent  \\\n",
       "0  kingmanbeer  Mozilla/5.0 (Macintosh; Intel Mac OS X 10_7_4)...   \n",
       "\n",
       "                                       Referrer Widget  Info  \n",
       "0  http://www.allourideas.org/kingmanbeer/admin  False   NaN  "
      ]
     },
     "execution_count": 6,
     "metadata": {},
     "output_type": "execute_result"
    }
   ],
   "source": [
    "votes.head(1)"
   ]
  },
  {
   "cell_type": "code",
   "execution_count": 7,
   "metadata": {
    "collapsed": false
   },
   "outputs": [
    {
     "data": {
      "text/plain": [
       "34"
      ]
     },
     "execution_count": 7,
     "metadata": {},
     "output_type": "execute_result"
    }
   ],
   "source": [
    "len(votes['Session ID'].unique())"
   ]
  },
  {
   "cell_type": "code",
   "execution_count": 8,
   "metadata": {
    "collapsed": false
   },
   "outputs": [
    {
     "data": {
      "text/plain": [
       "17"
      ]
     },
     "execution_count": 8,
     "metadata": {},
     "output_type": "execute_result"
    }
   ],
   "source": [
    "len(votes['Hashed IP Address'].unique())"
   ]
  },
  {
   "cell_type": "code",
   "execution_count": 9,
   "metadata": {
    "collapsed": false
   },
   "outputs": [
    {
     "data": {
      "text/plain": [
       "27"
      ]
     },
     "execution_count": 9,
     "metadata": {},
     "output_type": "execute_result"
    }
   ],
   "source": [
    "len(votes['Winner ID'].unique())"
   ]
  },
  {
   "cell_type": "code",
   "execution_count": 10,
   "metadata": {
    "collapsed": false
   },
   "outputs": [
    {
     "data": {
      "text/plain": [
       "27"
      ]
     },
     "execution_count": 10,
     "metadata": {},
     "output_type": "execute_result"
    }
   ],
   "source": [
    "len(votes['Loser ID'].unique())"
   ]
  },
  {
   "cell_type": "code",
   "execution_count": 11,
   "metadata": {
    "collapsed": false
   },
   "outputs": [
    {
     "data": {
      "text/plain": [
       "Hashed IP Address\n",
       "0cdd2260af00904baedc94baa0050fd6      25\n",
       "1bc8052fc357986cea6bf530ff4d5d3a    1244\n",
       "2dbd1556adf411f9e7482b3b6e583948       2\n",
       "3088bafd05c8e6bcdf1526976dcf9e73       5\n",
       "30b7051a71c04de302ca70134f9b3b92      23\n",
       "3a5387a6c10e05c7f50c612244300d68       1\n",
       "5c856391c9043cb3fcfe5fd5211746d6      28\n",
       "66c5efe2df6c573bdca5a3da6061a40e      14\n",
       "694111fea88bf644dde84986154e15d1      40\n",
       "749d8459047a7c024738d643524b889a       1\n",
       "a49c4042286d41731acea43e16613517      20\n",
       "ad9061e6631e00074ceef389777695ca       9\n",
       "b24bc7d11b9a91e35ec113f8bde91712       2\n",
       "bb46446679ac2f7a52adb0d674f63a36      22\n",
       "bef10d1c122228929e6c3e6dfeafca21       1\n",
       "f933c71f15dfb64842fd9832e3734ad4       3\n",
       "ffa0334a81819233f6253d1f50c7c3af      28\n",
       "Name: Vote ID, dtype: int64"
      ]
     },
     "execution_count": 11,
     "metadata": {},
     "output_type": "execute_result"
    }
   ],
   "source": [
    "votes.groupby('Hashed IP Address').count()['Vote ID']"
   ]
  },
  {
   "cell_type": "code",
   "execution_count": 12,
   "metadata": {
    "collapsed": false
   },
   "outputs": [
    {
     "data": {
      "text/plain": [
       "Session ID\n",
       "1427790      1\n",
       "1427820      3\n",
       "1427821     25\n",
       "1427832     14\n",
       "1427837     23\n",
       "1427844     28\n",
       "1427897     28\n",
       "1427909     12\n",
       "1427938      2\n",
       "1427981     10\n",
       "1427991      5\n",
       "1427999     40\n",
       "1428000      8\n",
       "1428008      1\n",
       "1428015     10\n",
       "1428029    650\n",
       "1428157     35\n",
       "1428219      9\n",
       "1428233    105\n",
       "1428252     20\n",
       "1428263     24\n",
       "1428328      7\n",
       "1428407      9\n",
       "1428480     50\n",
       "1428482     63\n",
       "1428483     81\n",
       "1429276    126\n",
       "1429315      5\n",
       "1429380     14\n",
       "1429427     13\n",
       "1429443     22\n",
       "1430202     22\n",
       "1430273      1\n",
       "1430878      2\n",
       "Name: Vote ID, dtype: int64"
      ]
     },
     "execution_count": 12,
     "metadata": {},
     "output_type": "execute_result"
    }
   ],
   "source": [
    "votes.groupby('Session ID').count()['Vote ID']"
   ]
  },
  {
   "cell_type": "code",
   "execution_count": 13,
   "metadata": {
    "collapsed": false
   },
   "outputs": [
    {
     "data": {
      "text/plain": [
       "<matplotlib.axes._subplots.AxesSubplot at 0x110fa5dd0>"
      ]
     },
     "execution_count": 13,
     "metadata": {},
     "output_type": "execute_result"
    },
    {
     "data": {
      "image/png": "[encoded data removed]",
      "text/plain": [
       "<matplotlib.figure.Figure at 0x110fa5e10>"
      ]
     },
     "metadata": {},
     "output_type": "display_data"
    }
   ],
   "source": [
    "votes.groupby('Session ID').count()['Vote ID'].hist(bins=50)"
   ]
  },
  {
   "cell_type": "code",
   "execution_count": 14,
   "metadata": {
    "collapsed": false
   },
   "outputs": [
    {
     "data": {
      "text/html": [
       "<div>\n",
       "<table border=\"1\" class=\"dataframe\">\n",
       "  <thead>\n",
       "    <tr style=\"text-align: right;\">\n",
       "      <th></th>\n",
       "      <th>Winner ID</th>\n",
       "      <th>Loser ID</th>\n",
       "      <th>Hashed IP Address</th>\n",
       "    </tr>\n",
       "  </thead>\n",
       "  <tbody>\n",
       "    <tr>\n",
       "      <th>0</th>\n",
       "      <td>207870</td>\n",
       "      <td>207873</td>\n",
       "      <td>749d8459047a7c024738d643524b889a</td>\n",
       "    </tr>\n",
       "    <tr>\n",
       "      <th>1</th>\n",
       "      <td>207879</td>\n",
       "      <td>207888</td>\n",
       "      <td>0cdd2260af00904baedc94baa0050fd6</td>\n",
       "    </tr>\n",
       "    <tr>\n",
       "      <th>2</th>\n",
       "      <td>207887</td>\n",
       "      <td>207870</td>\n",
       "      <td>f933c71f15dfb64842fd9832e3734ad4</td>\n",
       "    </tr>\n",
       "    <tr>\n",
       "      <th>3</th>\n",
       "      <td>207879</td>\n",
       "      <td>207872</td>\n",
       "      <td>f933c71f15dfb64842fd9832e3734ad4</td>\n",
       "    </tr>\n",
       "    <tr>\n",
       "      <th>4</th>\n",
       "      <td>207877</td>\n",
       "      <td>207888</td>\n",
       "      <td>0cdd2260af00904baedc94baa0050fd6</td>\n",
       "    </tr>\n",
       "  </tbody>\n",
       "</table>\n",
       "</div>"
      ],
      "text/plain": [
       "   Winner ID  Loser ID                 Hashed IP Address\n",
       "0     207870    207873  749d8459047a7c024738d643524b889a\n",
       "1     207879    207888  0cdd2260af00904baedc94baa0050fd6\n",
       "2     207887    207870  f933c71f15dfb64842fd9832e3734ad4\n",
       "3     207879    207872  f933c71f15dfb64842fd9832e3734ad4\n",
       "4     207877    207888  0cdd2260af00904baedc94baa0050fd6"
      ]
     },
     "execution_count": 14,
     "metadata": {},
     "output_type": "execute_result"
    }
   ],
   "source": [
    "data = votes[['Winner ID', 'Loser ID', 'Hashed IP Address']].copy()\n",
    "data.head()"
   ]
  },
  {
   "cell_type": "code",
   "execution_count": 15,
   "metadata": {
    "collapsed": false
   },
   "outputs": [
    {
     "data": {
      "text/html": [
       "<div>\n",
       "<table border=\"1\" class=\"dataframe\">\n",
       "  <thead>\n",
       "    <tr style=\"text-align: right;\">\n",
       "      <th></th>\n",
       "      <th>Winner ID</th>\n",
       "      <th>Loser ID</th>\n",
       "      <th>Hashed IP Address</th>\n",
       "      <th>value</th>\n",
       "    </tr>\n",
       "  </thead>\n",
       "  <tbody>\n",
       "    <tr>\n",
       "      <th>0</th>\n",
       "      <td>207870</td>\n",
       "      <td>207873</td>\n",
       "      <td>749d8459047a7c024738d643524b889a</td>\n",
       "      <td>0</td>\n",
       "    </tr>\n",
       "    <tr>\n",
       "      <th>1</th>\n",
       "      <td>207879</td>\n",
       "      <td>207888</td>\n",
       "      <td>0cdd2260af00904baedc94baa0050fd6</td>\n",
       "      <td>0</td>\n",
       "    </tr>\n",
       "    <tr>\n",
       "      <th>2</th>\n",
       "      <td>207887</td>\n",
       "      <td>207870</td>\n",
       "      <td>f933c71f15dfb64842fd9832e3734ad4</td>\n",
       "      <td>1</td>\n",
       "    </tr>\n",
       "    <tr>\n",
       "      <th>3</th>\n",
       "      <td>207879</td>\n",
       "      <td>207872</td>\n",
       "      <td>f933c71f15dfb64842fd9832e3734ad4</td>\n",
       "      <td>1</td>\n",
       "    </tr>\n",
       "    <tr>\n",
       "      <th>4</th>\n",
       "      <td>207877</td>\n",
       "      <td>207888</td>\n",
       "      <td>0cdd2260af00904baedc94baa0050fd6</td>\n",
       "      <td>0</td>\n",
       "    </tr>\n",
       "  </tbody>\n",
       "</table>\n",
       "</div>"
      ],
      "text/plain": [
       "   Winner ID  Loser ID                 Hashed IP Address  value\n",
       "0     207870    207873  749d8459047a7c024738d643524b889a      0\n",
       "1     207879    207888  0cdd2260af00904baedc94baa0050fd6      0\n",
       "2     207887    207870  f933c71f15dfb64842fd9832e3734ad4      1\n",
       "3     207879    207872  f933c71f15dfb64842fd9832e3734ad4      1\n",
       "4     207877    207888  0cdd2260af00904baedc94baa0050fd6      0"
      ]
     },
     "execution_count": 15,
     "metadata": {},
     "output_type": "execute_result"
    }
   ],
   "source": [
    "data['value'] = (data['Winner ID'] > data['Loser ID']).apply(int)\n",
    "data.head()"
   ]
  },
  {
   "cell_type": "code",
   "execution_count": 16,
   "metadata": {
    "collapsed": false
   },
   "outputs": [
    {
     "data": {
      "text/html": [
       "<div>\n",
       "<table border=\"1\" class=\"dataframe\">\n",
       "  <thead>\n",
       "    <tr style=\"text-align: right;\">\n",
       "      <th></th>\n",
       "      <th>Winner ID</th>\n",
       "      <th>Loser ID</th>\n",
       "      <th>Hashed IP Address</th>\n",
       "      <th>value</th>\n",
       "      <th>bigIndex</th>\n",
       "      <th>smallIndex</th>\n",
       "    </tr>\n",
       "  </thead>\n",
       "  <tbody>\n",
       "    <tr>\n",
       "      <th>0</th>\n",
       "      <td>207870</td>\n",
       "      <td>207873</td>\n",
       "      <td>749d8459047a7c024738d643524b889a</td>\n",
       "      <td>0</td>\n",
       "      <td>207873</td>\n",
       "      <td>207870</td>\n",
       "    </tr>\n",
       "    <tr>\n",
       "      <th>1</th>\n",
       "      <td>207879</td>\n",
       "      <td>207888</td>\n",
       "      <td>0cdd2260af00904baedc94baa0050fd6</td>\n",
       "      <td>0</td>\n",
       "      <td>207888</td>\n",
       "      <td>207879</td>\n",
       "    </tr>\n",
       "    <tr>\n",
       "      <th>2</th>\n",
       "      <td>207887</td>\n",
       "      <td>207870</td>\n",
       "      <td>f933c71f15dfb64842fd9832e3734ad4</td>\n",
       "      <td>1</td>\n",
       "      <td>207887</td>\n",
       "      <td>207870</td>\n",
       "    </tr>\n",
       "    <tr>\n",
       "      <th>3</th>\n",
       "      <td>207879</td>\n",
       "      <td>207872</td>\n",
       "      <td>f933c71f15dfb64842fd9832e3734ad4</td>\n",
       "      <td>1</td>\n",
       "      <td>207879</td>\n",
       "      <td>207872</td>\n",
       "    </tr>\n",
       "    <tr>\n",
       "      <th>4</th>\n",
       "      <td>207877</td>\n",
       "      <td>207888</td>\n",
       "      <td>0cdd2260af00904baedc94baa0050fd6</td>\n",
       "      <td>0</td>\n",
       "      <td>207888</td>\n",
       "      <td>207877</td>\n",
       "    </tr>\n",
       "  </tbody>\n",
       "</table>\n",
       "</div>"
      ],
      "text/plain": [
       "   Winner ID  Loser ID                 Hashed IP Address  value  bigIndex  \\\n",
       "0     207870    207873  749d8459047a7c024738d643524b889a      0    207873   \n",
       "1     207879    207888  0cdd2260af00904baedc94baa0050fd6      0    207888   \n",
       "2     207887    207870  f933c71f15dfb64842fd9832e3734ad4      1    207887   \n",
       "3     207879    207872  f933c71f15dfb64842fd9832e3734ad4      1    207879   \n",
       "4     207877    207888  0cdd2260af00904baedc94baa0050fd6      0    207888   \n",
       "\n",
       "   smallIndex  \n",
       "0      207870  \n",
       "1      207879  \n",
       "2      207870  \n",
       "3      207872  \n",
       "4      207877  "
      ]
     },
     "execution_count": 16,
     "metadata": {},
     "output_type": "execute_result"
    }
   ],
   "source": [
    "data['bigIndex'] = data[['Winner ID', 'Loser ID']].apply(max, axis=1)\n",
    "data['smallIndex'] = data[['Winner ID', 'Loser ID']].apply(min, axis=1)\n",
    "data.head()"
   ]
  },
  {
   "cell_type": "code",
   "execution_count": 17,
   "metadata": {
    "collapsed": false
   },
   "outputs": [],
   "source": [
    "data['userId'] = data['Hashed IP Address']"
   ]
  },
  {
   "cell_type": "code",
   "execution_count": 18,
   "metadata": {
    "collapsed": false
   },
   "outputs": [],
   "source": [
    "# data['smallIndex'] -= data['smallIndex'].min()\n",
    "# data['bigIndex'] -= data['bigIndex'].min()"
   ]
  },
  {
   "cell_type": "code",
   "execution_count": 19,
   "metadata": {
    "collapsed": false
   },
   "outputs": [],
   "source": [
    "item_map = {}\n",
    "for i, item_id in enumerate(ideas['Idea ID'].sort_values()): \n",
    "    item_map[item_id] = i\n",
    "    \n",
    "text_map = {}\n",
    "id_to_text = ideas.set_index('Idea ID')['Idea Text']\n",
    "for i, item_id in enumerate(ideas['Idea ID']):\n",
    "    text_map[i] = id_to_text[item_id]"
   ]
  },
  {
   "cell_type": "code",
   "execution_count": 20,
   "metadata": {
    "collapsed": false
   },
   "outputs": [],
   "source": [
    "pd.DataFrame.from_dict(item_map, orient='index').to_csv('2565_item_map.csv', header=False)"
   ]
  },
  {
   "cell_type": "code",
   "execution_count": 21,
   "metadata": {
    "collapsed": false
   },
   "outputs": [],
   "source": [
    "pd.DataFrame.from_dict(text_map, orient='index').to_csv('2565_text_map.csv', header=False)"
   ]
  },
  {
   "cell_type": "code",
   "execution_count": 22,
   "metadata": {
    "collapsed": false
   },
   "outputs": [],
   "source": [
    "for item in item_map:\n",
    "    data.loc[data['smallIndex'] == item, 'smallIndex'] = item_map[item]\n",
    "    data.loc[data['bigIndex'] == item, 'bigIndex'] = item_map[item]"
   ]
  },
  {
   "cell_type": "code",
   "execution_count": 23,
   "metadata": {
    "collapsed": false
   },
   "outputs": [
    {
     "data": {
      "text/html": [
       "<div>\n",
       "<table border=\"1\" class=\"dataframe\">\n",
       "  <thead>\n",
       "    <tr style=\"text-align: right;\">\n",
       "      <th></th>\n",
       "      <th>Winner ID</th>\n",
       "      <th>Loser ID</th>\n",
       "      <th>Hashed IP Address</th>\n",
       "      <th>value</th>\n",
       "      <th>bigIndex</th>\n",
       "      <th>smallIndex</th>\n",
       "      <th>userId</th>\n",
       "    </tr>\n",
       "  </thead>\n",
       "  <tbody>\n",
       "    <tr>\n",
       "      <th>0</th>\n",
       "      <td>207870</td>\n",
       "      <td>207873</td>\n",
       "      <td>749d8459047a7c024738d643524b889a</td>\n",
       "      <td>0</td>\n",
       "      <td>5</td>\n",
       "      <td>2</td>\n",
       "      <td>749d8459047a7c024738d643524b889a</td>\n",
       "    </tr>\n",
       "    <tr>\n",
       "      <th>1</th>\n",
       "      <td>207879</td>\n",
       "      <td>207888</td>\n",
       "      <td>0cdd2260af00904baedc94baa0050fd6</td>\n",
       "      <td>0</td>\n",
       "      <td>20</td>\n",
       "      <td>11</td>\n",
       "      <td>0cdd2260af00904baedc94baa0050fd6</td>\n",
       "    </tr>\n",
       "    <tr>\n",
       "      <th>2</th>\n",
       "      <td>207887</td>\n",
       "      <td>207870</td>\n",
       "      <td>f933c71f15dfb64842fd9832e3734ad4</td>\n",
       "      <td>1</td>\n",
       "      <td>19</td>\n",
       "      <td>2</td>\n",
       "      <td>f933c71f15dfb64842fd9832e3734ad4</td>\n",
       "    </tr>\n",
       "    <tr>\n",
       "      <th>3</th>\n",
       "      <td>207879</td>\n",
       "      <td>207872</td>\n",
       "      <td>f933c71f15dfb64842fd9832e3734ad4</td>\n",
       "      <td>1</td>\n",
       "      <td>11</td>\n",
       "      <td>4</td>\n",
       "      <td>f933c71f15dfb64842fd9832e3734ad4</td>\n",
       "    </tr>\n",
       "    <tr>\n",
       "      <th>4</th>\n",
       "      <td>207877</td>\n",
       "      <td>207888</td>\n",
       "      <td>0cdd2260af00904baedc94baa0050fd6</td>\n",
       "      <td>0</td>\n",
       "      <td>20</td>\n",
       "      <td>9</td>\n",
       "      <td>0cdd2260af00904baedc94baa0050fd6</td>\n",
       "    </tr>\n",
       "  </tbody>\n",
       "</table>\n",
       "</div>"
      ],
      "text/plain": [
       "   Winner ID  Loser ID                 Hashed IP Address  value  bigIndex  \\\n",
       "0     207870    207873  749d8459047a7c024738d643524b889a      0         5   \n",
       "1     207879    207888  0cdd2260af00904baedc94baa0050fd6      0        20   \n",
       "2     207887    207870  f933c71f15dfb64842fd9832e3734ad4      1        19   \n",
       "3     207879    207872  f933c71f15dfb64842fd9832e3734ad4      1        11   \n",
       "4     207877    207888  0cdd2260af00904baedc94baa0050fd6      0        20   \n",
       "\n",
       "   smallIndex                            userId  \n",
       "0           2  749d8459047a7c024738d643524b889a  \n",
       "1          11  0cdd2260af00904baedc94baa0050fd6  \n",
       "2           2  f933c71f15dfb64842fd9832e3734ad4  \n",
       "3           4  f933c71f15dfb64842fd9832e3734ad4  \n",
       "4           9  0cdd2260af00904baedc94baa0050fd6  "
      ]
     },
     "execution_count": 23,
     "metadata": {},
     "output_type": "execute_result"
    }
   ],
   "source": [
    "data.head()"
   ]
  },
  {
   "cell_type": "code",
   "execution_count": 24,
   "metadata": {
    "collapsed": false
   },
   "outputs": [
    {
     "data": {
      "text/html": [
       "<div>\n",
       "<table border=\"1\" class=\"dataframe\">\n",
       "  <thead>\n",
       "    <tr style=\"text-align: right;\">\n",
       "      <th></th>\n",
       "      <th>0</th>\n",
       "      <th>1</th>\n",
       "      <th>2</th>\n",
       "      <th>3</th>\n",
       "    </tr>\n",
       "  </thead>\n",
       "  <tbody>\n",
       "    <tr>\n",
       "      <th>0</th>\n",
       "      <td>2</td>\n",
       "      <td>5</td>\n",
       "      <td>0</td>\n",
       "      <td>749d8459047a7c024738d643524b889a</td>\n",
       "    </tr>\n",
       "    <tr>\n",
       "      <th>1</th>\n",
       "      <td>11</td>\n",
       "      <td>20</td>\n",
       "      <td>0</td>\n",
       "      <td>0cdd2260af00904baedc94baa0050fd6</td>\n",
       "    </tr>\n",
       "    <tr>\n",
       "      <th>2</th>\n",
       "      <td>2</td>\n",
       "      <td>19</td>\n",
       "      <td>1</td>\n",
       "      <td>f933c71f15dfb64842fd9832e3734ad4</td>\n",
       "    </tr>\n",
       "    <tr>\n",
       "      <th>3</th>\n",
       "      <td>4</td>\n",
       "      <td>11</td>\n",
       "      <td>1</td>\n",
       "      <td>f933c71f15dfb64842fd9832e3734ad4</td>\n",
       "    </tr>\n",
       "    <tr>\n",
       "      <th>4</th>\n",
       "      <td>9</td>\n",
       "      <td>20</td>\n",
       "      <td>0</td>\n",
       "      <td>0cdd2260af00904baedc94baa0050fd6</td>\n",
       "    </tr>\n",
       "    <tr>\n",
       "      <th>5</th>\n",
       "      <td>10</td>\n",
       "      <td>16</td>\n",
       "      <td>1</td>\n",
       "      <td>0cdd2260af00904baedc94baa0050fd6</td>\n",
       "    </tr>\n",
       "    <tr>\n",
       "      <th>6</th>\n",
       "      <td>0</td>\n",
       "      <td>8</td>\n",
       "      <td>0</td>\n",
       "      <td>0cdd2260af00904baedc94baa0050fd6</td>\n",
       "    </tr>\n",
       "    <tr>\n",
       "      <th>7</th>\n",
       "      <td>5</td>\n",
       "      <td>6</td>\n",
       "      <td>1</td>\n",
       "      <td>0cdd2260af00904baedc94baa0050fd6</td>\n",
       "    </tr>\n",
       "    <tr>\n",
       "      <th>8</th>\n",
       "      <td>7</td>\n",
       "      <td>8</td>\n",
       "      <td>0</td>\n",
       "      <td>0cdd2260af00904baedc94baa0050fd6</td>\n",
       "    </tr>\n",
       "    <tr>\n",
       "      <th>9</th>\n",
       "      <td>0</td>\n",
       "      <td>20</td>\n",
       "      <td>0</td>\n",
       "      <td>0cdd2260af00904baedc94baa0050fd6</td>\n",
       "    </tr>\n",
       "    <tr>\n",
       "      <th>10</th>\n",
       "      <td>8</td>\n",
       "      <td>14</td>\n",
       "      <td>1</td>\n",
       "      <td>0cdd2260af00904baedc94baa0050fd6</td>\n",
       "    </tr>\n",
       "    <tr>\n",
       "      <th>11</th>\n",
       "      <td>4</td>\n",
       "      <td>16</td>\n",
       "      <td>1</td>\n",
       "      <td>0cdd2260af00904baedc94baa0050fd6</td>\n",
       "    </tr>\n",
       "    <tr>\n",
       "      <th>12</th>\n",
       "      <td>1</td>\n",
       "      <td>11</td>\n",
       "      <td>0</td>\n",
       "      <td>0cdd2260af00904baedc94baa0050fd6</td>\n",
       "    </tr>\n",
       "    <tr>\n",
       "      <th>13</th>\n",
       "      <td>4</td>\n",
       "      <td>20</td>\n",
       "      <td>0</td>\n",
       "      <td>0cdd2260af00904baedc94baa0050fd6</td>\n",
       "    </tr>\n",
       "    <tr>\n",
       "      <th>14</th>\n",
       "      <td>1</td>\n",
       "      <td>12</td>\n",
       "      <td>0</td>\n",
       "      <td>0cdd2260af00904baedc94baa0050fd6</td>\n",
       "    </tr>\n",
       "    <tr>\n",
       "      <th>15</th>\n",
       "      <td>1</td>\n",
       "      <td>5</td>\n",
       "      <td>0</td>\n",
       "      <td>0cdd2260af00904baedc94baa0050fd6</td>\n",
       "    </tr>\n",
       "    <tr>\n",
       "      <th>16</th>\n",
       "      <td>2</td>\n",
       "      <td>9</td>\n",
       "      <td>1</td>\n",
       "      <td>0cdd2260af00904baedc94baa0050fd6</td>\n",
       "    </tr>\n",
       "    <tr>\n",
       "      <th>17</th>\n",
       "      <td>8</td>\n",
       "      <td>16</td>\n",
       "      <td>1</td>\n",
       "      <td>0cdd2260af00904baedc94baa0050fd6</td>\n",
       "    </tr>\n",
       "    <tr>\n",
       "      <th>18</th>\n",
       "      <td>18</td>\n",
       "      <td>20</td>\n",
       "      <td>0</td>\n",
       "      <td>0cdd2260af00904baedc94baa0050fd6</td>\n",
       "    </tr>\n",
       "    <tr>\n",
       "      <th>19</th>\n",
       "      <td>1</td>\n",
       "      <td>13</td>\n",
       "      <td>0</td>\n",
       "      <td>0cdd2260af00904baedc94baa0050fd6</td>\n",
       "    </tr>\n",
       "    <tr>\n",
       "      <th>20</th>\n",
       "      <td>8</td>\n",
       "      <td>18</td>\n",
       "      <td>1</td>\n",
       "      <td>0cdd2260af00904baedc94baa0050fd6</td>\n",
       "    </tr>\n",
       "    <tr>\n",
       "      <th>21</th>\n",
       "      <td>12</td>\n",
       "      <td>20</td>\n",
       "      <td>0</td>\n",
       "      <td>0cdd2260af00904baedc94baa0050fd6</td>\n",
       "    </tr>\n",
       "    <tr>\n",
       "      <th>22</th>\n",
       "      <td>9</td>\n",
       "      <td>19</td>\n",
       "      <td>0</td>\n",
       "      <td>0cdd2260af00904baedc94baa0050fd6</td>\n",
       "    </tr>\n",
       "    <tr>\n",
       "      <th>23</th>\n",
       "      <td>9</td>\n",
       "      <td>18</td>\n",
       "      <td>0</td>\n",
       "      <td>0cdd2260af00904baedc94baa0050fd6</td>\n",
       "    </tr>\n",
       "    <tr>\n",
       "      <th>24</th>\n",
       "      <td>2</td>\n",
       "      <td>14</td>\n",
       "      <td>0</td>\n",
       "      <td>0cdd2260af00904baedc94baa0050fd6</td>\n",
       "    </tr>\n",
       "    <tr>\n",
       "      <th>25</th>\n",
       "      <td>10</td>\n",
       "      <td>15</td>\n",
       "      <td>0</td>\n",
       "      <td>0cdd2260af00904baedc94baa0050fd6</td>\n",
       "    </tr>\n",
       "    <tr>\n",
       "      <th>26</th>\n",
       "      <td>7</td>\n",
       "      <td>20</td>\n",
       "      <td>0</td>\n",
       "      <td>0cdd2260af00904baedc94baa0050fd6</td>\n",
       "    </tr>\n",
       "    <tr>\n",
       "      <th>27</th>\n",
       "      <td>1</td>\n",
       "      <td>17</td>\n",
       "      <td>1</td>\n",
       "      <td>0cdd2260af00904baedc94baa0050fd6</td>\n",
       "    </tr>\n",
       "    <tr>\n",
       "      <th>28</th>\n",
       "      <td>2</td>\n",
       "      <td>5</td>\n",
       "      <td>0</td>\n",
       "      <td>f933c71f15dfb64842fd9832e3734ad4</td>\n",
       "    </tr>\n",
       "    <tr>\n",
       "      <th>29</th>\n",
       "      <td>12</td>\n",
       "      <td>14</td>\n",
       "      <td>0</td>\n",
       "      <td>66c5efe2df6c573bdca5a3da6061a40e</td>\n",
       "    </tr>\n",
       "    <tr>\n",
       "      <th>...</th>\n",
       "      <td>...</td>\n",
       "      <td>...</td>\n",
       "      <td>...</td>\n",
       "      <td>...</td>\n",
       "    </tr>\n",
       "    <tr>\n",
       "      <th>1438</th>\n",
       "      <td>20</td>\n",
       "      <td>21</td>\n",
       "      <td>1</td>\n",
       "      <td>1bc8052fc357986cea6bf530ff4d5d3a</td>\n",
       "    </tr>\n",
       "    <tr>\n",
       "      <th>1439</th>\n",
       "      <td>18</td>\n",
       "      <td>23</td>\n",
       "      <td>1</td>\n",
       "      <td>1bc8052fc357986cea6bf530ff4d5d3a</td>\n",
       "    </tr>\n",
       "    <tr>\n",
       "      <th>1440</th>\n",
       "      <td>1</td>\n",
       "      <td>12</td>\n",
       "      <td>0</td>\n",
       "      <td>1bc8052fc357986cea6bf530ff4d5d3a</td>\n",
       "    </tr>\n",
       "    <tr>\n",
       "      <th>1441</th>\n",
       "      <td>14</td>\n",
       "      <td>24</td>\n",
       "      <td>1</td>\n",
       "      <td>1bc8052fc357986cea6bf530ff4d5d3a</td>\n",
       "    </tr>\n",
       "    <tr>\n",
       "      <th>1442</th>\n",
       "      <td>23</td>\n",
       "      <td>24</td>\n",
       "      <td>0</td>\n",
       "      <td>1bc8052fc357986cea6bf530ff4d5d3a</td>\n",
       "    </tr>\n",
       "    <tr>\n",
       "      <th>1443</th>\n",
       "      <td>8</td>\n",
       "      <td>9</td>\n",
       "      <td>0</td>\n",
       "      <td>bb46446679ac2f7a52adb0d674f63a36</td>\n",
       "    </tr>\n",
       "    <tr>\n",
       "      <th>1444</th>\n",
       "      <td>11</td>\n",
       "      <td>23</td>\n",
       "      <td>0</td>\n",
       "      <td>bb46446679ac2f7a52adb0d674f63a36</td>\n",
       "    </tr>\n",
       "    <tr>\n",
       "      <th>1445</th>\n",
       "      <td>10</td>\n",
       "      <td>21</td>\n",
       "      <td>1</td>\n",
       "      <td>bb46446679ac2f7a52adb0d674f63a36</td>\n",
       "    </tr>\n",
       "    <tr>\n",
       "      <th>1446</th>\n",
       "      <td>1</td>\n",
       "      <td>25</td>\n",
       "      <td>1</td>\n",
       "      <td>bb46446679ac2f7a52adb0d674f63a36</td>\n",
       "    </tr>\n",
       "    <tr>\n",
       "      <th>1447</th>\n",
       "      <td>8</td>\n",
       "      <td>17</td>\n",
       "      <td>0</td>\n",
       "      <td>bb46446679ac2f7a52adb0d674f63a36</td>\n",
       "    </tr>\n",
       "    <tr>\n",
       "      <th>1448</th>\n",
       "      <td>15</td>\n",
       "      <td>25</td>\n",
       "      <td>1</td>\n",
       "      <td>bb46446679ac2f7a52adb0d674f63a36</td>\n",
       "    </tr>\n",
       "    <tr>\n",
       "      <th>1449</th>\n",
       "      <td>3</td>\n",
       "      <td>23</td>\n",
       "      <td>0</td>\n",
       "      <td>bb46446679ac2f7a52adb0d674f63a36</td>\n",
       "    </tr>\n",
       "    <tr>\n",
       "      <th>1450</th>\n",
       "      <td>6</td>\n",
       "      <td>26</td>\n",
       "      <td>1</td>\n",
       "      <td>bb46446679ac2f7a52adb0d674f63a36</td>\n",
       "    </tr>\n",
       "    <tr>\n",
       "      <th>1451</th>\n",
       "      <td>13</td>\n",
       "      <td>23</td>\n",
       "      <td>1</td>\n",
       "      <td>bb46446679ac2f7a52adb0d674f63a36</td>\n",
       "    </tr>\n",
       "    <tr>\n",
       "      <th>1452</th>\n",
       "      <td>11</td>\n",
       "      <td>23</td>\n",
       "      <td>0</td>\n",
       "      <td>bb46446679ac2f7a52adb0d674f63a36</td>\n",
       "    </tr>\n",
       "    <tr>\n",
       "      <th>1453</th>\n",
       "      <td>0</td>\n",
       "      <td>14</td>\n",
       "      <td>0</td>\n",
       "      <td>bb46446679ac2f7a52adb0d674f63a36</td>\n",
       "    </tr>\n",
       "    <tr>\n",
       "      <th>1454</th>\n",
       "      <td>12</td>\n",
       "      <td>23</td>\n",
       "      <td>1</td>\n",
       "      <td>bb46446679ac2f7a52adb0d674f63a36</td>\n",
       "    </tr>\n",
       "    <tr>\n",
       "      <th>1455</th>\n",
       "      <td>20</td>\n",
       "      <td>24</td>\n",
       "      <td>0</td>\n",
       "      <td>bb46446679ac2f7a52adb0d674f63a36</td>\n",
       "    </tr>\n",
       "    <tr>\n",
       "      <th>1456</th>\n",
       "      <td>12</td>\n",
       "      <td>24</td>\n",
       "      <td>0</td>\n",
       "      <td>bb46446679ac2f7a52adb0d674f63a36</td>\n",
       "    </tr>\n",
       "    <tr>\n",
       "      <th>1457</th>\n",
       "      <td>2</td>\n",
       "      <td>20</td>\n",
       "      <td>1</td>\n",
       "      <td>bb46446679ac2f7a52adb0d674f63a36</td>\n",
       "    </tr>\n",
       "    <tr>\n",
       "      <th>1458</th>\n",
       "      <td>12</td>\n",
       "      <td>20</td>\n",
       "      <td>1</td>\n",
       "      <td>bb46446679ac2f7a52adb0d674f63a36</td>\n",
       "    </tr>\n",
       "    <tr>\n",
       "      <th>1459</th>\n",
       "      <td>7</td>\n",
       "      <td>24</td>\n",
       "      <td>0</td>\n",
       "      <td>bb46446679ac2f7a52adb0d674f63a36</td>\n",
       "    </tr>\n",
       "    <tr>\n",
       "      <th>1460</th>\n",
       "      <td>1</td>\n",
       "      <td>17</td>\n",
       "      <td>1</td>\n",
       "      <td>bb46446679ac2f7a52adb0d674f63a36</td>\n",
       "    </tr>\n",
       "    <tr>\n",
       "      <th>1461</th>\n",
       "      <td>0</td>\n",
       "      <td>9</td>\n",
       "      <td>0</td>\n",
       "      <td>bb46446679ac2f7a52adb0d674f63a36</td>\n",
       "    </tr>\n",
       "    <tr>\n",
       "      <th>1462</th>\n",
       "      <td>5</td>\n",
       "      <td>14</td>\n",
       "      <td>0</td>\n",
       "      <td>bb46446679ac2f7a52adb0d674f63a36</td>\n",
       "    </tr>\n",
       "    <tr>\n",
       "      <th>1463</th>\n",
       "      <td>15</td>\n",
       "      <td>24</td>\n",
       "      <td>0</td>\n",
       "      <td>bb46446679ac2f7a52adb0d674f63a36</td>\n",
       "    </tr>\n",
       "    <tr>\n",
       "      <th>1464</th>\n",
       "      <td>8</td>\n",
       "      <td>19</td>\n",
       "      <td>0</td>\n",
       "      <td>bb46446679ac2f7a52adb0d674f63a36</td>\n",
       "    </tr>\n",
       "    <tr>\n",
       "      <th>1465</th>\n",
       "      <td>6</td>\n",
       "      <td>12</td>\n",
       "      <td>0</td>\n",
       "      <td>3a5387a6c10e05c7f50c612244300d68</td>\n",
       "    </tr>\n",
       "    <tr>\n",
       "      <th>1466</th>\n",
       "      <td>18</td>\n",
       "      <td>22</td>\n",
       "      <td>1</td>\n",
       "      <td>b24bc7d11b9a91e35ec113f8bde91712</td>\n",
       "    </tr>\n",
       "    <tr>\n",
       "      <th>1467</th>\n",
       "      <td>11</td>\n",
       "      <td>22</td>\n",
       "      <td>1</td>\n",
       "      <td>b24bc7d11b9a91e35ec113f8bde91712</td>\n",
       "    </tr>\n",
       "  </tbody>\n",
       "</table>\n",
       "<p>1468 rows × 4 columns</p>\n",
       "</div>"
      ],
      "text/plain": [
       "       0   1  2                                 3\n",
       "0      2   5  0  749d8459047a7c024738d643524b889a\n",
       "1     11  20  0  0cdd2260af00904baedc94baa0050fd6\n",
       "2      2  19  1  f933c71f15dfb64842fd9832e3734ad4\n",
       "3      4  11  1  f933c71f15dfb64842fd9832e3734ad4\n",
       "4      9  20  0  0cdd2260af00904baedc94baa0050fd6\n",
       "5     10  16  1  0cdd2260af00904baedc94baa0050fd6\n",
       "6      0   8  0  0cdd2260af00904baedc94baa0050fd6\n",
       "7      5   6  1  0cdd2260af00904baedc94baa0050fd6\n",
       "8      7   8  0  0cdd2260af00904baedc94baa0050fd6\n",
       "9      0  20  0  0cdd2260af00904baedc94baa0050fd6\n",
       "10     8  14  1  0cdd2260af00904baedc94baa0050fd6\n",
       "11     4  16  1  0cdd2260af00904baedc94baa0050fd6\n",
       "12     1  11  0  0cdd2260af00904baedc94baa0050fd6\n",
       "13     4  20  0  0cdd2260af00904baedc94baa0050fd6\n",
       "14     1  12  0  0cdd2260af00904baedc94baa0050fd6\n",
       "15     1   5  0  0cdd2260af00904baedc94baa0050fd6\n",
       "16     2   9  1  0cdd2260af00904baedc94baa0050fd6\n",
       "17     8  16  1  0cdd2260af00904baedc94baa0050fd6\n",
       "18    18  20  0  0cdd2260af00904baedc94baa0050fd6\n",
       "19     1  13  0  0cdd2260af00904baedc94baa0050fd6\n",
       "20     8  18  1  0cdd2260af00904baedc94baa0050fd6\n",
       "21    12  20  0  0cdd2260af00904baedc94baa0050fd6\n",
       "22     9  19  0  0cdd2260af00904baedc94baa0050fd6\n",
       "23     9  18  0  0cdd2260af00904baedc94baa0050fd6\n",
       "24     2  14  0  0cdd2260af00904baedc94baa0050fd6\n",
       "25    10  15  0  0cdd2260af00904baedc94baa0050fd6\n",
       "26     7  20  0  0cdd2260af00904baedc94baa0050fd6\n",
       "27     1  17  1  0cdd2260af00904baedc94baa0050fd6\n",
       "28     2   5  0  f933c71f15dfb64842fd9832e3734ad4\n",
       "29    12  14  0  66c5efe2df6c573bdca5a3da6061a40e\n",
       "...   ..  .. ..                               ...\n",
       "1438  20  21  1  1bc8052fc357986cea6bf530ff4d5d3a\n",
       "1439  18  23  1  1bc8052fc357986cea6bf530ff4d5d3a\n",
       "1440   1  12  0  1bc8052fc357986cea6bf530ff4d5d3a\n",
       "1441  14  24  1  1bc8052fc357986cea6bf530ff4d5d3a\n",
       "1442  23  24  0  1bc8052fc357986cea6bf530ff4d5d3a\n",
       "1443   8   9  0  bb46446679ac2f7a52adb0d674f63a36\n",
       "1444  11  23  0  bb46446679ac2f7a52adb0d674f63a36\n",
       "1445  10  21  1  bb46446679ac2f7a52adb0d674f63a36\n",
       "1446   1  25  1  bb46446679ac2f7a52adb0d674f63a36\n",
       "1447   8  17  0  bb46446679ac2f7a52adb0d674f63a36\n",
       "1448  15  25  1  bb46446679ac2f7a52adb0d674f63a36\n",
       "1449   3  23  0  bb46446679ac2f7a52adb0d674f63a36\n",
       "1450   6  26  1  bb46446679ac2f7a52adb0d674f63a36\n",
       "1451  13  23  1  bb46446679ac2f7a52adb0d674f63a36\n",
       "1452  11  23  0  bb46446679ac2f7a52adb0d674f63a36\n",
       "1453   0  14  0  bb46446679ac2f7a52adb0d674f63a36\n",
       "1454  12  23  1  bb46446679ac2f7a52adb0d674f63a36\n",
       "1455  20  24  0  bb46446679ac2f7a52adb0d674f63a36\n",
       "1456  12  24  0  bb46446679ac2f7a52adb0d674f63a36\n",
       "1457   2  20  1  bb46446679ac2f7a52adb0d674f63a36\n",
       "1458  12  20  1  bb46446679ac2f7a52adb0d674f63a36\n",
       "1459   7  24  0  bb46446679ac2f7a52adb0d674f63a36\n",
       "1460   1  17  1  bb46446679ac2f7a52adb0d674f63a36\n",
       "1461   0   9  0  bb46446679ac2f7a52adb0d674f63a36\n",
       "1462   5  14  0  bb46446679ac2f7a52adb0d674f63a36\n",
       "1463  15  24  0  bb46446679ac2f7a52adb0d674f63a36\n",
       "1464   8  19  0  bb46446679ac2f7a52adb0d674f63a36\n",
       "1465   6  12  0  3a5387a6c10e05c7f50c612244300d68\n",
       "1466  18  22  1  b24bc7d11b9a91e35ec113f8bde91712\n",
       "1467  11  22  1  b24bc7d11b9a91e35ec113f8bde91712\n",
       "\n",
       "[1468 rows x 4 columns]"
      ]
     },
     "execution_count": 24,
     "metadata": {},
     "output_type": "execute_result"
    }
   ],
   "source": [
    "data[['smallIndex', 'bigIndex', 'value', 'userId']].to_csv('2565_dat.csv', index=False, header=False)\n",
    "pd.read_csv('2565_dat.csv', header=None)"
   ]
  }
 ],
 "metadata": {
  "kernelspec": {
   "display_name": "Python 2",
   "language": "python",
   "name": "python2"
  },
  "language_info": {
   "codemirror_mode": {
    "name": "ipython",
    "version": 2
   },
   "file_extension": ".py",
   "mimetype": "text/x-python",
   "name": "python",
   "nbconvert_exporter": "python",
   "pygments_lexer": "ipython2",
   "version": "2.7.12"
  }
 },
 "nbformat": 4,
 "nbformat_minor": 0
}
