{
 "cells": [
  {
   "cell_type": "markdown",
   "metadata": {},
   "source": [
    "# MMSB: Simulations, multiple samples sizes and B values"
   ]
  },
  {
   "cell_type": "code",
   "execution_count": 5,
   "metadata": {
    "collapsed": false
   },
   "outputs": [],
   "source": [
    "import matplotlib\n",
    "import matplotlib.pyplot as plt\n",
    "import pandas as pd\n",
    "import numpy as np\n",
    "\n",
    "import code\n",
    "\n",
    "%matplotlib inline\n",
    "matplotlib.style.use('ggplot')\n",
    "\n",
    "import warnings\n",
    "warnings.filterwarnings('error')"
   ]
  },
  {
   "cell_type": "code",
   "execution_count": null,
   "metadata": {
    "collapsed": true
   },
   "outputs": [],
   "source": [
    "code."
   ]
  },
  {
   "cell_type": "markdown",
   "metadata": {},
   "source": [
    "## Design\n",
    "\n",
    "3x2x2\n",
    "\n",
    "- N = 2500, 5000, 10000\n",
    "- B_val = .95, .8\n",
    "- alpha = 0.05, 0.2"
   ]
  },
  {
   "cell_type": "code",
   "execution_count": 6,
   "metadata": {
    "collapsed": true
   },
   "outputs": [],
   "source": [
    "# Fixed values\n",
    "K = 4\n",
    "V = 100"
   ]
  },
  {
   "cell_type": "code",
   "execution_count": 7,
   "metadata": {
    "collapsed": false
   },
   "outputs": [
    {
     "ename": "AttributeError",
     "evalue": "'module' object has no attribute 'utils'",
     "output_type": "error",
     "traceback": [
      "\u001b[0;31m---------------------------------------------------------------------------\u001b[0m",
      "\u001b[0;31mAttributeError\u001b[0m                            Traceback (most recent call last)",
      "\u001b[0;32m<ipython-input-7-dbdfcd580479>\u001b[0m in \u001b[0;36m<module>\u001b[0;34m()\u001b[0m\n\u001b[1;32m      3\u001b[0m \u001b[0mB_val\u001b[0m \u001b[0;34m=\u001b[0m \u001b[0;36m0.99\u001b[0m\u001b[0;34m\u001b[0m\u001b[0m\n\u001b[1;32m      4\u001b[0m \u001b[0;34m\u001b[0m\u001b[0m\n\u001b[0;32m----> 5\u001b[0;31m \u001b[0mB_\u001b[0m \u001b[0;34m=\u001b[0m \u001b[0mcode\u001b[0m\u001b[0;34m.\u001b[0m\u001b[0mutils\u001b[0m\u001b[0;34m.\u001b[0m\u001b[0mmake_B\u001b[0m\u001b[0;34m(\u001b[0m\u001b[0mK\u001b[0m\u001b[0;34m,\u001b[0m \u001b[0mprobs\u001b[0m\u001b[0;34m=\u001b[0m\u001b[0;34m[\u001b[0m\u001b[0mB_val\u001b[0m\u001b[0;34m]\u001b[0m\u001b[0;34m)\u001b[0m\u001b[0;34m\u001b[0m\u001b[0m\n\u001b[0m\u001b[1;32m      6\u001b[0m \u001b[0mX\u001b[0m\u001b[0;34m,\u001b[0m \u001b[0mpi\u001b[0m \u001b[0;34m=\u001b[0m \u001b[0mcode\u001b[0m\u001b[0;34m.\u001b[0m\u001b[0mutils\u001b[0m\u001b[0;34m.\u001b[0m\u001b[0mgen_data\u001b[0m\u001b[0;34m(\u001b[0m\u001b[0mB_\u001b[0m\u001b[0;34m,\u001b[0m \u001b[0mV\u001b[0m\u001b[0;34m,\u001b[0m \u001b[0mN\u001b[0m\u001b[0;34m,\u001b[0m \u001b[0malpha\u001b[0m\u001b[0;34m=\u001b[0m\u001b[0malpha\u001b[0m\u001b[0;34m)\u001b[0m\u001b[0;34m\u001b[0m\u001b[0m\n\u001b[1;32m      7\u001b[0m \u001b[0mI\u001b[0m \u001b[0;34m=\u001b[0m \u001b[0mpd\u001b[0m\u001b[0;34m.\u001b[0m\u001b[0mDataFrame\u001b[0m\u001b[0;34m(\u001b[0m\u001b[0mcode\u001b[0m\u001b[0;34m.\u001b[0m\u001b[0mutils\u001b[0m\u001b[0;34m.\u001b[0m\u001b[0mget_interactions\u001b[0m\u001b[0;34m(\u001b[0m\u001b[0mX\u001b[0m\u001b[0;34m)\u001b[0m\u001b[0;34m)\u001b[0m\u001b[0;34m\u001b[0m\u001b[0m\n",
      "\u001b[0;31mAttributeError\u001b[0m: 'module' object has no attribute 'utils'"
     ]
    }
   ],
   "source": [
    "N = 10000\n",
    "alpha = 0.05\n",
    "B_val = 0.99\n",
    "\n",
    "B_ = code.utils.make_B(K, probs=[B_val])\n",
    "X, pi = code.utils.gen_data(B_, V, N, alpha=alpha)\n",
    "I = pd.DataFrame(code.utils.get_interactions(X))"
   ]
  },
  {
   "cell_type": "code",
   "execution_count": null,
   "metadata": {
    "collapsed": false
   },
   "outputs": [],
   "source": [
    "gamma, phi_pq, phi_qp, B, elbos = mmsb.train_mmsb(X, K, n_iter=200)\n",
    "ptypes = pd.DataFrame(gamma).idxmax().sort_values().index\n",
    "plt.pcolor(I.ix[ptypes][ptypes], cmap='Blues')"
   ]
  },
  {
   "cell_type": "code",
   "execution_count": null,
   "metadata": {
    "collapsed": false
   },
   "outputs": [],
   "source": [
    "N = 10000\n",
    "alpha = 0.05\n",
    "B_val = 0.95\n",
    "\n",
    "B_ = utils.make_B(K, probs=[B_val])\n",
    "X, pi = utils.gen_data(B_, V, N, alpha=alpha)\n",
    "I = pd.DataFrame(utils.get_interactions(X))"
   ]
  },
  {
   "cell_type": "code",
   "execution_count": null,
   "metadata": {
    "collapsed": false
   },
   "outputs": [],
   "source": [
    "gamma, phi_pq, phi_qp, B, elbos = mmsb.train_mmsb(X, K, n_iter=200)\n",
    "ptypes = pd.DataFrame(gamma).idxmax().sort_values().index\n",
    "plt.pcolor(I.ix[ptypes][ptypes], cmap='Blues')"
   ]
  },
  {
   "cell_type": "code",
   "execution_count": null,
   "metadata": {
    "collapsed": false
   },
   "outputs": [],
   "source": [
    "N = 5000\n",
    "alpha = 0.05\n",
    "B_val = 0.95\n",
    "\n",
    "B_ = utils.make_B(K, probs=[B_val])\n",
    "X, pi = utils.gen_data(B_, V, N, alpha=alpha)\n",
    "I = pd.DataFrame(utils.get_interactions(X))"
   ]
  },
  {
   "cell_type": "code",
   "execution_count": null,
   "metadata": {
    "collapsed": false
   },
   "outputs": [],
   "source": [
    "gamma, phi_pq, phi_qp, B, elbos = mmsb.train_mmsb(X, K, n_iter=200)\n",
    "ptypes = pd.DataFrame(gamma).idxmax().sort_values().index\n",
    "plt.pcolor(I.ix[ptypes][ptypes], cmap='Blues')"
   ]
  },
  {
   "cell_type": "code",
   "execution_count": null,
   "metadata": {
    "collapsed": false
   },
   "outputs": [],
   "source": [
    "N = 2500\n",
    "alpha = 0.05\n",
    "B_val = 0.95\n",
    "\n",
    "B_ = utils.make_B(K, probs=[B_val])\n",
    "X, pi = utils.gen_data(B_, V, N, alpha=alpha)\n",
    "I = pd.DataFrame(utils.get_interactions(X))"
   ]
  },
  {
   "cell_type": "code",
   "execution_count": null,
   "metadata": {
    "collapsed": false
   },
   "outputs": [],
   "source": [
    "gamma, phi_pq, phi_qp, B, elbos = mmsb.train_mmsb(X, K, n_iter=200)\n",
    "ptypes = pd.DataFrame(gamma).idxmax().sort_values().index\n",
    "plt.pcolor(I.ix[ptypes][ptypes], cmap='Blues')"
   ]
  },
  {
   "cell_type": "code",
   "execution_count": null,
   "metadata": {
    "collapsed": false
   },
   "outputs": [],
   "source": [
    "N = 10000\n",
    "alpha = 0.2\n",
    "B_val = 0.95\n",
    "\n",
    "B_ = utils.make_B(K, probs=[B_val])\n",
    "X, pi = utils.gen_data(B_, V, N, alpha=alpha)\n",
    "I = pd.DataFrame(utils.get_interactions(X))"
   ]
  },
  {
   "cell_type": "code",
   "execution_count": null,
   "metadata": {
    "collapsed": false
   },
   "outputs": [],
   "source": [
    "gamma, phi_pq, phi_qp, B, elbos = mmsb.train_mmsb(X, K, n_iter=200)\n",
    "ptypes = pd.DataFrame(gamma).idxmax().sort_values().index\n",
    "plt.pcolor(I.ix[ptypes][ptypes], cmap='Blues')"
   ]
  },
  {
   "cell_type": "code",
   "execution_count": null,
   "metadata": {
    "collapsed": false
   },
   "outputs": [],
   "source": [
    "N = 5000\n",
    "alpha = 0.2\n",
    "B_val = 0.95\n",
    "\n",
    "B_ = utils.make_B(K, probs=[B_val])\n",
    "X, pi = utils.gen_data(B_, V, N, alpha=alpha)\n",
    "I = pd.DataFrame(utils.get_interactions(X))"
   ]
  },
  {
   "cell_type": "code",
   "execution_count": null,
   "metadata": {
    "collapsed": false
   },
   "outputs": [],
   "source": [
    "gamma, phi_pq, phi_qp, B, elbos = mmsb.train_mmsb(X, K, n_iter=200)\n",
    "ptypes = pd.DataFrame(gamma).idxmax().sort_values().index\n",
    "plt.pcolor(I.ix[ptypes][ptypes], cmap='Blues')"
   ]
  },
  {
   "cell_type": "code",
   "execution_count": null,
   "metadata": {
    "collapsed": false
   },
   "outputs": [],
   "source": [
    "N = 2500\n",
    "alpha = 0.2\n",
    "B_val = 0.95\n",
    "\n",
    "B_ = utils.make_B(K, probs=[B_val])\n",
    "X, pi = utils.gen_data(B_, V, N, alpha=alpha)\n",
    "I = pd.DataFrame(utils.get_interactions(X))"
   ]
  },
  {
   "cell_type": "code",
   "execution_count": null,
   "metadata": {
    "collapsed": false
   },
   "outputs": [],
   "source": [
    "gamma, phi_pq, phi_qp, B, elbos = mmsb.train_mmsb(X, K, n_iter=200)\n",
    "ptypes = pd.DataFrame(gamma).idxmax().sort_values().index\n",
    "plt.pcolor(I.ix[ptypes][ptypes], cmap='Blues')"
   ]
  },
  {
   "cell_type": "code",
   "execution_count": null,
   "metadata": {
    "collapsed": false
   },
   "outputs": [],
   "source": [
    "N = 10000\n",
    "alpha = 0.05\n",
    "B_val = 0.8\n",
    "\n",
    "B_ = utils.make_B(K, probs=[B_val])\n",
    "X, pi = utils.gen_data(B_, V, N, alpha=alpha)\n",
    "I = pd.DataFrame(utils.get_interactions(X))"
   ]
  },
  {
   "cell_type": "code",
   "execution_count": null,
   "metadata": {
    "collapsed": false
   },
   "outputs": [],
   "source": [
    "gamma, phi_pq, phi_qp, B, elbos = mmsb.train_mmsb(X, K, n_iter=200)\n",
    "ptypes = pd.DataFrame(gamma).idxmax().sort_values().index\n",
    "plt.pcolor(I.ix[ptypes][ptypes], cmap='Blues')"
   ]
  },
  {
   "cell_type": "code",
   "execution_count": null,
   "metadata": {
    "collapsed": false
   },
   "outputs": [],
   "source": [
    "N = 5000\n",
    "alpha = 0.05\n",
    "B_val = 0.8\n",
    "\n",
    "B_ = utils.make_B(K, probs=[B_val])\n",
    "X, pi = utils.gen_data(B_, V, N, alpha=alpha)\n",
    "I = pd.DataFrame(utils.get_interactions(X))"
   ]
  },
  {
   "cell_type": "code",
   "execution_count": null,
   "metadata": {
    "collapsed": false
   },
   "outputs": [],
   "source": [
    "gamma, phi_pq, phi_qp, B, elbos = mmsb.train_mmsb(X, K, n_iter=200)\n",
    "ptypes = pd.DataFrame(gamma).idxmax().sort_values().index\n",
    "plt.pcolor(I.ix[ptypes][ptypes], cmap='Blues')"
   ]
  },
  {
   "cell_type": "code",
   "execution_count": null,
   "metadata": {
    "collapsed": false
   },
   "outputs": [],
   "source": [
    "N = 2500\n",
    "alpha = 0.05\n",
    "B_val = 0.8\n",
    "\n",
    "B_ = utils.make_B(K, probs=[B_val])\n",
    "X, pi = utils.gen_data(B_, V, N, alpha=alpha)\n",
    "I = pd.DataFrame(utils.get_interactions(X))"
   ]
  },
  {
   "cell_type": "code",
   "execution_count": null,
   "metadata": {
    "collapsed": false
   },
   "outputs": [],
   "source": [
    "gamma, phi_pq, phi_qp, B, elbos = mmsb.train_mmsb(X, K, n_iter=200)\n",
    "ptypes = pd.DataFrame(gamma).idxmax().sort_values().index\n",
    "plt.pcolor(I.ix[ptypes][ptypes], cmap='Blues')"
   ]
  },
  {
   "cell_type": "code",
   "execution_count": null,
   "metadata": {
    "collapsed": false
   },
   "outputs": [],
   "source": [
    "N = 10000\n",
    "alpha = 0.2\n",
    "B_val = 0.8\n",
    "\n",
    "B_ = utils.make_B(K, probs=[B_val])\n",
    "X, pi = utils.gen_data(B_, V, N, alpha=alpha)\n",
    "I = pd.DataFrame(utils.get_interactions(X))"
   ]
  },
  {
   "cell_type": "code",
   "execution_count": null,
   "metadata": {
    "collapsed": false
   },
   "outputs": [],
   "source": [
    "gamma, phi_pq, phi_qp, B, elbos = mmsb.train_mmsb(X, K, n_iter=200)\n",
    "ptypes = pd.DataFrame(gamma).idxmax().sort_values().index\n",
    "plt.pcolor(I.ix[ptypes][ptypes], cmap='Blues')"
   ]
  },
  {
   "cell_type": "code",
   "execution_count": null,
   "metadata": {
    "collapsed": false
   },
   "outputs": [],
   "source": [
    "N = 5000\n",
    "alpha = 0.2\n",
    "B_val = 0.8\n",
    "\n",
    "B_ = utils.make_B(K, probs=[B_val])\n",
    "X, pi = utils.gen_data(B_, V, N, alpha=alpha)\n",
    "I = pd.DataFrame(utils.get_interactions(X))"
   ]
  },
  {
   "cell_type": "code",
   "execution_count": null,
   "metadata": {
    "collapsed": false
   },
   "outputs": [],
   "source": [
    "gamma, phi_pq, phi_qp, B, elbos = mmsb.train_mmsb(X, K, n_iter=200)\n",
    "ptypes = pd.DataFrame(gamma).idxmax().sort_values().index\n",
    "plt.pcolor(I.ix[ptypes][ptypes], cmap='Blues')"
   ]
  },
  {
   "cell_type": "code",
   "execution_count": null,
   "metadata": {
    "collapsed": false
   },
   "outputs": [],
   "source": [
    "N = 2500\n",
    "alpha = 0.2\n",
    "B_val = 0.8\n",
    "\n",
    "B_ = utils.make_B(K, probs=[B_val])\n",
    "X, pi = utils.gen_data(B_, V, N, alpha=alpha)\n",
    "I = pd.DataFrame(utils.get_interactions(X))"
   ]
  },
  {
   "cell_type": "code",
   "execution_count": null,
   "metadata": {
    "collapsed": false
   },
   "outputs": [],
   "source": [
    "gamma, phi_pq, phi_qp, B, elbos = mmsb.train_mmsb(X, K, n_iter=200)\n",
    "ptypes = pd.DataFrame(gamma).idxmax().sort_values().index\n",
    "plt.pcolor(I.ix[ptypes][ptypes], cmap='Blues')"
   ]
  }
 ],
 "metadata": {
  "kernelspec": {
   "display_name": "Python 2",
   "language": "python",
   "name": "python2"
  },
  "language_info": {
   "codemirror_mode": {
    "name": "ipython",
    "version": 2
   },
   "file_extension": ".py",
   "mimetype": "text/x-python",
   "name": "python",
   "nbconvert_exporter": "python",
   "pygments_lexer": "ipython2",
   "version": "2.7.12"
  }
 },
 "nbformat": 4,
 "nbformat_minor": 0
}
