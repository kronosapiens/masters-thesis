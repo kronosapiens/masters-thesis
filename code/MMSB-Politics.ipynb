{
 "cells": [
  {
   "cell_type": "markdown",
   "metadata": {},
   "source": [
    "## MMSB: Politics"
   ]
  },
  {
   "cell_type": "code",
   "execution_count": 20,
   "metadata": {
    "collapsed": false
   },
   "outputs": [],
   "source": [
    "import matplotlib\n",
    "import matplotlib.pyplot as plt\n",
    "import pandas as pd\n",
    "import numpy as np\n",
    "\n",
    "import utils\n",
    "import mmsb\n",
    "\n",
    "%matplotlib inline\n",
    "matplotlib.style.use('ggplot')\n",
    "\n",
    "from IPython.core.debugger import Tracer\n",
    "tracer = Tracer()\n",
    "\n",
    "import warnings\n",
    "warnings.filterwarnings('error')"
   ]
  },
  {
   "cell_type": "code",
   "execution_count": 3,
   "metadata": {
    "collapsed": false
   },
   "outputs": [
    {
     "data": {
      "text/html": [
       "<div>\n",
       "<table border=\"1\" class=\"dataframe\">\n",
       "  <thead>\n",
       "    <tr style=\"text-align: right;\">\n",
       "      <th></th>\n",
       "      <th>0</th>\n",
       "      <th>1</th>\n",
       "      <th>2</th>\n",
       "      <th>3</th>\n",
       "    </tr>\n",
       "  </thead>\n",
       "  <tbody>\n",
       "    <tr>\n",
       "      <th>0</th>\n",
       "      <td>4</td>\n",
       "      <td>19</td>\n",
       "      <td>0</td>\n",
       "      <td>a1edf431db337a38948276a3331cd3b3</td>\n",
       "    </tr>\n",
       "    <tr>\n",
       "      <th>1</th>\n",
       "      <td>4</td>\n",
       "      <td>15</td>\n",
       "      <td>1</td>\n",
       "      <td>a1edf431db337a38948276a3331cd3b3</td>\n",
       "    </tr>\n",
       "    <tr>\n",
       "      <th>2</th>\n",
       "      <td>6</td>\n",
       "      <td>21</td>\n",
       "      <td>1</td>\n",
       "      <td>a1edf431db337a38948276a3331cd3b3</td>\n",
       "    </tr>\n",
       "    <tr>\n",
       "      <th>3</th>\n",
       "      <td>0</td>\n",
       "      <td>14</td>\n",
       "      <td>1</td>\n",
       "      <td>a1edf431db337a38948276a3331cd3b3</td>\n",
       "    </tr>\n",
       "    <tr>\n",
       "      <th>4</th>\n",
       "      <td>4</td>\n",
       "      <td>8</td>\n",
       "      <td>0</td>\n",
       "      <td>a1edf431db337a38948276a3331cd3b3</td>\n",
       "    </tr>\n",
       "  </tbody>\n",
       "</table>\n",
       "</div>"
      ],
      "text/plain": [
       "   0   1  2                                 3\n",
       "0  4  19  0  a1edf431db337a38948276a3331cd3b3\n",
       "1  4  15  1  a1edf431db337a38948276a3331cd3b3\n",
       "2  6  21  1  a1edf431db337a38948276a3331cd3b3\n",
       "3  0  14  1  a1edf431db337a38948276a3331cd3b3\n",
       "4  4   8  0  a1edf431db337a38948276a3331cd3b3"
      ]
     },
     "execution_count": 3,
     "metadata": {},
     "output_type": "execute_result"
    }
   ],
   "source": [
    "data = pd.read_csv('../data/all_our_ideas/727/727_dat.csv', header=None)\n",
    "names = pd.read_csv('../data/all_our_ideas/727/727_text_map.csv', header=None)[1]\n",
    "data.head()"
   ]
  },
  {
   "cell_type": "code",
   "execution_count": 4,
   "metadata": {
    "collapsed": false
   },
   "outputs": [
    {
     "data": {
      "text/plain": [
       "(76632, 3)"
      ]
     },
     "execution_count": 4,
     "metadata": {},
     "output_type": "execute_result"
    }
   ],
   "source": [
    "X = data[[0,1,2]].values\n",
    "X.shape"
   ]
  },
  {
   "cell_type": "code",
   "execution_count": 9,
   "metadata": {
    "collapsed": false
   },
   "outputs": [
    {
     "data": {
      "text/plain": [
       "269"
      ]
     },
     "execution_count": 9,
     "metadata": {},
     "output_type": "execute_result"
    }
   ],
   "source": [
    "V = max(X[:,1]) + 1\n",
    "V"
   ]
  },
  {
   "cell_type": "code",
   "execution_count": 102,
   "metadata": {
    "collapsed": false
   },
   "outputs": [
    {
     "name": "stdout",
     "output_type": "stream",
     "text": [
      "0:12:32.166949\n"
     ]
    },
    {
     "data": {
      "text/plain": [
       "(-46834.091807219986, -46834.091807219986)"
      ]
     },
     "execution_count": 102,
     "metadata": {},
     "output_type": "execute_result"
    },
    {
     "data": {
      "image/png": "[encoded data removed]",
      "text/plain": [
       "<matplotlib.figure.Figure at 0x1229a2350>"
      ]
     },
     "metadata": {},
     "output_type": "display_data"
    }
   ],
   "source": [
    "K = 8\n",
    "gamma, phi_pq, phi_qp, B, elbos = mmsb.train_mmsb(X, V, K, n_iter=300)\n",
    "pd.Series(elbos).plot(figsize=[12,4])\n",
    "max(elbos), elbos[-1]"
   ]
  },
  {
   "cell_type": "markdown",
   "metadata": {},
   "source": [
    "### B (interaction probabilities)"
   ]
  },
  {
   "cell_type": "code",
   "execution_count": 103,
   "metadata": {
    "collapsed": false
   },
   "outputs": [
    {
     "data": {
      "text/html": [
       "<div>\n",
       "<table border=\"1\" class=\"dataframe\">\n",
       "  <thead>\n",
       "    <tr style=\"text-align: right;\">\n",
       "      <th></th>\n",
       "      <th>0</th>\n",
       "      <th>1</th>\n",
       "      <th>2</th>\n",
       "      <th>3</th>\n",
       "      <th>4</th>\n",
       "      <th>5</th>\n",
       "      <th>6</th>\n",
       "      <th>7</th>\n",
       "    </tr>\n",
       "  </thead>\n",
       "  <tbody>\n",
       "    <tr>\n",
       "      <th>0</th>\n",
       "      <td>0.500</td>\n",
       "      <td>0.225</td>\n",
       "      <td>0.732</td>\n",
       "      <td>0.360</td>\n",
       "      <td>0.444</td>\n",
       "      <td>0.538</td>\n",
       "      <td>0.478</td>\n",
       "      <td>0.565</td>\n",
       "    </tr>\n",
       "    <tr>\n",
       "      <th>1</th>\n",
       "      <td>0.775</td>\n",
       "      <td>0.500</td>\n",
       "      <td>0.901</td>\n",
       "      <td>0.757</td>\n",
       "      <td>0.806</td>\n",
       "      <td>0.877</td>\n",
       "      <td>0.781</td>\n",
       "      <td>0.848</td>\n",
       "    </tr>\n",
       "    <tr>\n",
       "      <th>2</th>\n",
       "      <td>0.268</td>\n",
       "      <td>0.099</td>\n",
       "      <td>0.500</td>\n",
       "      <td>0.147</td>\n",
       "      <td>0.203</td>\n",
       "      <td>0.276</td>\n",
       "      <td>0.231</td>\n",
       "      <td>0.301</td>\n",
       "    </tr>\n",
       "    <tr>\n",
       "      <th>3</th>\n",
       "      <td>0.640</td>\n",
       "      <td>0.243</td>\n",
       "      <td>0.853</td>\n",
       "      <td>0.500</td>\n",
       "      <td>0.606</td>\n",
       "      <td>0.782</td>\n",
       "      <td>0.559</td>\n",
       "      <td>0.694</td>\n",
       "    </tr>\n",
       "    <tr>\n",
       "      <th>4</th>\n",
       "      <td>0.556</td>\n",
       "      <td>0.194</td>\n",
       "      <td>0.797</td>\n",
       "      <td>0.394</td>\n",
       "      <td>0.500</td>\n",
       "      <td>0.687</td>\n",
       "      <td>0.477</td>\n",
       "      <td>0.614</td>\n",
       "    </tr>\n",
       "    <tr>\n",
       "      <th>5</th>\n",
       "      <td>0.462</td>\n",
       "      <td>0.123</td>\n",
       "      <td>0.724</td>\n",
       "      <td>0.218</td>\n",
       "      <td>0.313</td>\n",
       "      <td>0.500</td>\n",
       "      <td>0.350</td>\n",
       "      <td>0.471</td>\n",
       "    </tr>\n",
       "    <tr>\n",
       "      <th>6</th>\n",
       "      <td>0.522</td>\n",
       "      <td>0.219</td>\n",
       "      <td>0.769</td>\n",
       "      <td>0.441</td>\n",
       "      <td>0.523</td>\n",
       "      <td>0.650</td>\n",
       "      <td>0.500</td>\n",
       "      <td>0.612</td>\n",
       "    </tr>\n",
       "    <tr>\n",
       "      <th>7</th>\n",
       "      <td>0.435</td>\n",
       "      <td>0.152</td>\n",
       "      <td>0.699</td>\n",
       "      <td>0.306</td>\n",
       "      <td>0.386</td>\n",
       "      <td>0.529</td>\n",
       "      <td>0.388</td>\n",
       "      <td>0.500</td>\n",
       "    </tr>\n",
       "  </tbody>\n",
       "</table>\n",
       "</div>"
      ],
      "text/plain": [
       "       0      1      2      3      4      5      6      7\n",
       "0  0.500  0.225  0.732  0.360  0.444  0.538  0.478  0.565\n",
       "1  0.775  0.500  0.901  0.757  0.806  0.877  0.781  0.848\n",
       "2  0.268  0.099  0.500  0.147  0.203  0.276  0.231  0.301\n",
       "3  0.640  0.243  0.853  0.500  0.606  0.782  0.559  0.694\n",
       "4  0.556  0.194  0.797  0.394  0.500  0.687  0.477  0.614\n",
       "5  0.462  0.123  0.724  0.218  0.313  0.500  0.350  0.471\n",
       "6  0.522  0.219  0.769  0.441  0.523  0.650  0.500  0.612\n",
       "7  0.435  0.152  0.699  0.306  0.386  0.529  0.388  0.500"
      ]
     },
     "execution_count": 103,
     "metadata": {},
     "output_type": "execute_result"
    }
   ],
   "source": [
    "pd.DataFrame(B).round(3)"
   ]
  },
  {
   "cell_type": "code",
   "execution_count": 104,
   "metadata": {
    "collapsed": false
   },
   "outputs": [
    {
     "data": {
      "text/plain": [
       "<matplotlib.collections.PolyCollection at 0x11e705210>"
      ]
     },
     "execution_count": 104,
     "metadata": {},
     "output_type": "execute_result"
    },
    {
     "data": {
      "image/png": "[encoded data removed]",
      "text/plain": [
       "<matplotlib.figure.Figure at 0x11e7b08d0>"
      ]
     },
     "metadata": {},
     "output_type": "display_data"
    }
   ],
   "source": [
    "I = pd.DataFrame(utils.get_interactions(X, V))\n",
    "gamma_df = pd.DataFrame(gamma.T)\n",
    "gamma_df = gamma_df[gamma_df[0] != gamma_df[1]] # Remove items with no answers\n",
    "ptypes = gamma_df.idxmax(axis=1).sort_values().index\n",
    "plt.pcolor(I.ix[ptypes][ptypes], cmap='Blues')"
   ]
  },
  {
   "cell_type": "code",
   "execution_count": 105,
   "metadata": {
    "collapsed": false
   },
   "outputs": [
    {
     "data": {
      "text/plain": [
       "<matplotlib.collections.PolyCollection at 0x122d83910>"
      ]
     },
     "execution_count": 105,
     "metadata": {},
     "output_type": "execute_result"
    },
    {
     "data": {
      "image/png": "[encoded data removed]",
      "text/plain": [
       "<matplotlib.figure.Figure at 0x11e7c4f10>"
      ]
     },
     "metadata": {},
     "output_type": "display_data"
    }
   ],
   "source": [
    "plt.pcolor(I.ix[gamma_df.index][gamma_df.index], cmap='Blues')"
   ]
  },
  {
   "cell_type": "code",
   "execution_count": 122,
   "metadata": {
    "collapsed": false
   },
   "outputs": [
    {
     "data": {
      "text/plain": [
       "<matplotlib.axes._subplots.AxesSubplot at 0x123ac1790>"
      ]
     },
     "execution_count": 122,
     "metadata": {},
     "output_type": "execute_result"
    },
    {
     "data": {
      "image/png": "[encoded data removed]",
      "text/plain": [
       "<matplotlib.figure.Figure at 0x11e7cf9d0>"
      ]
     },
     "metadata": {},
     "output_type": "display_data"
    }
   ],
   "source": [
    "gamma_df = pd.DataFrame(gamma.T, index=names[:V].apply(lambda x: x[:50]))\n",
    "gamma_df = gamma_df[gamma_df[0] != gamma_df[1]] # Remove items with no answers\n",
    "gamma_df.iloc[:12].T.plot(kind='bar', cmap='Accent', figsize=[12,6])"
   ]
  },
  {
   "cell_type": "code",
   "execution_count": 123,
   "metadata": {
    "collapsed": false
   },
   "outputs": [
    {
     "data": {
      "text/plain": [
       "1\n",
       "Organized labor             0.283774\n",
       "The American Taxpayer       0.271189\n",
       "the American people         0.270711\n",
       "American Civil Liberties    0.254434\n",
       "obama                       0.252120\n",
       "Name: 0, dtype: float64"
      ]
     },
     "execution_count": 123,
     "metadata": {},
     "output_type": "execute_result"
    }
   ],
   "source": [
    "gamma_df[0].sort_values(ascending=False).iloc[:5]"
   ]
  },
  {
   "cell_type": "code",
   "execution_count": 124,
   "metadata": {
    "collapsed": false
   },
   "outputs": [
    {
     "data": {
      "text/plain": [
       "1\n",
       "D.C. schoolchildren    0.999768\n",
       "Obama                  0.999504\n",
       "President Obama        0.999404\n",
       "Tom DeLay              0.998304\n",
       "Jack Johnson           0.870149\n",
       "Name: 1, dtype: float64"
      ]
     },
     "execution_count": 124,
     "metadata": {},
     "output_type": "execute_result"
    }
   ],
   "source": [
    "gamma_df[1].sort_values(ascending=False).iloc[:5]"
   ]
  },
  {
   "cell_type": "code",
   "execution_count": 125,
   "metadata": {
    "collapsed": false
   },
   "outputs": [
    {
     "data": {
      "text/plain": [
       "1\n",
       "President Obama                                       0.999789\n",
       "Tome DeLay                                            0.994781\n",
       "Nancy Pelosi                                          0.991085\n",
       "american democracy                                    0.983655\n",
       "The American people with all the socialist policie    0.719051\n",
       "Name: 2, dtype: float64"
      ]
     },
     "execution_count": 125,
     "metadata": {},
     "output_type": "execute_result"
    }
   ],
   "source": [
    "gamma_df[2].sort_values(ascending=False).iloc[:5]"
   ]
  },
  {
   "cell_type": "code",
   "execution_count": 126,
   "metadata": {
    "collapsed": false
   },
   "outputs": [
    {
     "data": {
      "text/plain": [
       "1\n",
       "It would have to be Massa: Chris has way too much     0.575395\n",
       "Nancy Pelosi                                          0.502915\n",
       "Rep. Charlie Rangel                                   0.469152\n",
       "Liberalism                                            0.439269\n",
       "Progressives                                          0.438165\n",
       "Name: 3, dtype: float64"
      ]
     },
     "execution_count": 126,
     "metadata": {},
     "output_type": "execute_result"
    }
   ],
   "source": [
    "gamma_df[3].sort_values(ascending=False).iloc[:5]"
   ]
  },
  {
   "cell_type": "code",
   "execution_count": 127,
   "metadata": {
    "collapsed": false
   },
   "outputs": [
    {
     "data": {
      "text/plain": [
       "1\n",
       "Blue Dog Democrats                                    0.277393\n",
       "The middle class.                                     0.253614\n",
       "Redskins Orioles                                      0.248306\n",
       "serious why is this so lame?  this is the dumbest     0.245123\n",
       "Gen. Stanley A. McChrystal                            0.212497\n",
       "Name: 4, dtype: float64"
      ]
     },
     "execution_count": 127,
     "metadata": {},
     "output_type": "execute_result"
    }
   ],
   "source": [
    "gamma_df[4].sort_values(ascending=False).iloc[:5]"
   ]
  },
  {
   "cell_type": "code",
   "execution_count": 128,
   "metadata": {
    "collapsed": false
   },
   "outputs": [
    {
     "data": {
      "text/plain": [
       "1\n",
       "Obama                      0.637319\n",
       "Barack Obama               0.545675\n",
       "david axelrod              0.540447\n",
       "Albert Haynesworth         0.458534\n",
       "The Washington Redskins    0.401571\n",
       "Name: 5, dtype: float64"
      ]
     },
     "execution_count": 128,
     "metadata": {},
     "output_type": "execute_result"
    }
   ],
   "source": [
    "gamma_df[5].sort_values(ascending=False).iloc[:5]"
   ]
  },
  {
   "cell_type": "code",
   "execution_count": 129,
   "metadata": {
    "collapsed": false
   },
   "outputs": [
    {
     "data": {
      "text/plain": [
       "1\n",
       "The American People                                0.338990\n",
       "I quit.  This is so dumb.  This is really dumb.    0.321824\n",
       "Military Retirees/Dependents                       0.321786\n",
       "Albert Haynesworth                                 0.317229\n",
       "Timothy Geithner and Larry Summers                 0.310593\n",
       "Name: 6, dtype: float64"
      ]
     },
     "execution_count": 129,
     "metadata": {},
     "output_type": "execute_result"
    }
   ],
   "source": [
    "gamma_df[6].sort_values(ascending=False).iloc[:5]"
   ]
  },
  {
   "cell_type": "code",
   "execution_count": 130,
   "metadata": {
    "collapsed": false
   },
   "outputs": [
    {
     "data": {
      "text/plain": [
       "1\n",
       "Obama                         0.239331\n",
       "Redskins Orioles              0.233877\n",
       "The middle class.             0.233286\n",
       "Barack Hussein Obama          0.231038\n",
       "Gen. Stanley A. McChrystal    0.221953\n",
       "Name: 7, dtype: float64"
      ]
     },
     "execution_count": 130,
     "metadata": {},
     "output_type": "execute_result"
    }
   ],
   "source": [
    "gamma_df[7].sort_values(ascending=False).iloc[:5]"
   ]
  },
  {
   "cell_type": "code",
   "execution_count": null,
   "metadata": {
    "collapsed": true
   },
   "outputs": [],
   "source": []
  }
 ],
 "metadata": {
  "kernelspec": {
   "display_name": "Python 2",
   "language": "python",
   "name": "python2"
  },
  "language_info": {
   "codemirror_mode": {
    "name": "ipython",
    "version": 2
   },
   "file_extension": ".py",
   "mimetype": "text/x-python",
   "name": "python",
   "nbconvert_exporter": "python",
   "pygments_lexer": "ipython2",
   "version": "2.7.12"
  }
 },
 "nbformat": 4,
 "nbformat_minor": 0
}
