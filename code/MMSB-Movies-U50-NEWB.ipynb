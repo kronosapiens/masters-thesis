{
 "cells": [
  {
   "cell_type": "markdown",
   "metadata": {},
   "source": [
    "## MMSB: Movies, 20 users, new B"
   ]
  },
  {
   "cell_type": "code",
   "execution_count": 32,
   "metadata": {
    "collapsed": false
   },
   "outputs": [],
   "source": [
    "from IPython.core.debugger import Tracer\n",
    "import matplotlib\n",
    "import matplotlib.pyplot as plt\n",
    "import pandas as pd\n",
    "import numpy as np\n",
    "\n",
    "import utils\n",
    "import mmsb\n",
    "\n",
    "%matplotlib inline\n",
    "matplotlib.style.use('ggplot')\n",
    "tracer = Tracer()\n",
    "\n",
    "import warnings\n",
    "warnings.filterwarnings('error')"
   ]
  },
  {
   "cell_type": "code",
   "execution_count": 2,
   "metadata": {
    "collapsed": false
   },
   "outputs": [],
   "source": [
    "data = pd.read_csv('../data/movie_lens/ml100k_train.csv', header=None)\n",
    "names = pd.read_table('../data/movie_lens/ml-100k/u.item', header=None, sep='|')[1]\n",
    "data[0] = data[0] - 1 # 0-index\n",
    "data[1] = data[1] - 1"
   ]
  },
  {
   "cell_type": "code",
   "execution_count": 3,
   "metadata": {
    "collapsed": false
   },
   "outputs": [],
   "source": [
    "test = pd.read_csv('../data/movie_lens/ml100k_heldout.csv', header=None)\n",
    "test[0] = test[0] - 1 # 0-index\n",
    "test[1] = test[1] - 1"
   ]
  },
  {
   "cell_type": "code",
   "execution_count": 4,
   "metadata": {
    "collapsed": false
   },
   "outputs": [],
   "source": [
    "data = data[data[3] <= 30] # Consider first 30 users only\n",
    "test = test[test[3] <= 30]"
   ]
  },
  {
   "cell_type": "code",
   "execution_count": 5,
   "metadata": {
    "collapsed": false
   },
   "outputs": [
    {
     "data": {
      "text/plain": [
       "(19065, 3)"
      ]
     },
     "execution_count": 5,
     "metadata": {},
     "output_type": "execute_result"
    }
   ],
   "source": [
    "X = data[[0,1,2]].values\n",
    "X.shape"
   ]
  },
  {
   "cell_type": "code",
   "execution_count": 6,
   "metadata": {
    "collapsed": false
   },
   "outputs": [
    {
     "data": {
      "text/plain": [
       "1019"
      ]
     },
     "execution_count": 6,
     "metadata": {},
     "output_type": "execute_result"
    }
   ],
   "source": [
    "V = max(X[:,1]) + 1\n",
    "V"
   ]
  },
  {
   "cell_type": "code",
   "execution_count": 7,
   "metadata": {
    "collapsed": false
   },
   "outputs": [
    {
     "data": {
      "text/plain": [
       "(4863, 3)"
      ]
     },
     "execution_count": 7,
     "metadata": {},
     "output_type": "execute_result"
    }
   ],
   "source": [
    "test_X = test[[0,1,2]].values\n",
    "test_X.shape"
   ]
  },
  {
   "cell_type": "code",
   "execution_count": 28,
   "metadata": {
    "collapsed": false
   },
   "outputs": [
    {
     "data": {
      "text/plain": [
       "<matplotlib.collections.PathCollection at 0x110a67810>"
      ]
     },
     "execution_count": 28,
     "metadata": {},
     "output_type": "execute_result"
    },
    {
     "data": {
      "image/png": "[encoded data removed]",
      "text/plain": [
       "<matplotlib.figure.Figure at 0x1109d1550>"
      ]
     },
     "metadata": {},
     "output_type": "display_data"
    }
   ],
   "source": [
    "z = [\n",
    "    (1, 0.56734526012749331),\n",
    "    (2, 0.75365001028171907),\n",
    "    (3, 0.78511207073822742),\n",
    "    (4, 0.78716841455891429),\n",
    "    (5, 0.79539378984166154),\n",
    "    (8, 0.79498252107752421),\n",
    "    (12, 0.79601069298786753),\n",
    "    (16, 0.7943656179313181),\n",
    "    (20, 0.79395434916718077)\n",
    "]\n",
    "x, y = zip(*z)\n",
    "plt.scatter(x=x, y=y)"
   ]
  },
  {
   "cell_type": "code",
   "execution_count": 24,
   "metadata": {
    "collapsed": false
   },
   "outputs": [
    {
     "name": "stdout",
     "output_type": "stream",
     "text": [
      "0:03:55.373872\n"
     ]
    },
    {
     "data": {
      "text/plain": [
       "0.56734526012749331"
      ]
     },
     "execution_count": 24,
     "metadata": {},
     "output_type": "execute_result"
    }
   ],
   "source": [
    "K = 1\n",
    "gamma, phi_pq, phi_qp, B, elbos = mmsb.train_mmsb(X, V, K, n_iter=300)\n",
    "probs = [gamma[:,p].dot(B).dot(gamma[:,q]) for p, q, v in test_X]\n",
    "sum(test_X[:,2] == np.round(probs)) / float(len(test_X))"
   ]
  },
  {
   "cell_type": "code",
   "execution_count": 25,
   "metadata": {
    "collapsed": false
   },
   "outputs": [
    {
     "name": "stdout",
     "output_type": "stream",
     "text": [
      "0:04:20.332248\n"
     ]
    },
    {
     "data": {
      "text/plain": [
       "0.78511207073822742"
      ]
     },
     "execution_count": 25,
     "metadata": {},
     "output_type": "execute_result"
    }
   ],
   "source": [
    "K = 3\n",
    "gamma, phi_pq, phi_qp, B, elbos = mmsb.train_mmsb(X, V, K, n_iter=300)\n",
    "probs = [gamma[:,p].dot(B).dot(gamma[:,q]) for p, q, v in test_X]\n",
    "sum(test_X[:,2] == np.round(probs)) / float(len(test_X))"
   ]
  },
  {
   "cell_type": "code",
   "execution_count": 26,
   "metadata": {
    "collapsed": false
   },
   "outputs": [
    {
     "name": "stdout",
     "output_type": "stream",
     "text": [
      "0:05:00.223847\n"
     ]
    },
    {
     "data": {
      "text/plain": [
       "0.79539378984166154"
      ]
     },
     "execution_count": 26,
     "metadata": {},
     "output_type": "execute_result"
    }
   ],
   "source": [
    "K = 5\n",
    "gamma, phi_pq, phi_qp, B, elbos = mmsb.train_mmsb(X, V, K, n_iter=300)\n",
    "probs = [gamma[:,p].dot(B).dot(gamma[:,q]) for p, q, v in test_X]\n",
    "sum(test_X[:,2] == np.round(probs)) / float(len(test_X))"
   ]
  },
  {
   "cell_type": "code",
   "execution_count": 33,
   "metadata": {
    "collapsed": false
   },
   "outputs": [
    {
     "data": {
      "text/plain": [
       "<matplotlib.collections.PolyCollection at 0x111032c50>"
      ]
     },
     "execution_count": 33,
     "metadata": {},
     "output_type": "execute_result"
    },
    {
     "data": {
      "image/png": "[encoded data removed]",
      "text/plain": [
       "<matplotlib.figure.Figure at 0x11149c850>"
      ]
     },
     "metadata": {},
     "output_type": "display_data"
    }
   ],
   "source": [
    "I = pd.DataFrame(utils.get_interactions(X, V))\n",
    "ptypes = pd.DataFrame(gamma).idxmax().sort_values().index\n",
    "plt.pcolor(I.ix[ptypes][ptypes], cmap='Blues')"
   ]
  },
  {
   "cell_type": "code",
   "execution_count": 34,
   "metadata": {
    "collapsed": false
   },
   "outputs": [
    {
     "data": {
      "text/plain": [
       "<matplotlib.collections.PolyCollection at 0x10a6c19d0>"
      ]
     },
     "execution_count": 34,
     "metadata": {},
     "output_type": "execute_result"
    },
    {
     "data": {
      "image/png": "[encoded data removed]",
      "text/plain": [
       "<matplotlib.figure.Figure at 0x110a2dc90>"
      ]
     },
     "metadata": {},
     "output_type": "display_data"
    }
   ],
   "source": [
    "plt.pcolor(B, cmap='Blues')"
   ]
  },
  {
   "cell_type": "code",
   "execution_count": 68,
   "metadata": {
    "collapsed": false
   },
   "outputs": [
    {
     "data": {
      "text/html": [
       "<div>\n",
       "<table border=\"1\" class=\"dataframe\">\n",
       "  <thead>\n",
       "    <tr style=\"text-align: right;\">\n",
       "      <th></th>\n",
       "      <th>0</th>\n",
       "      <th>1</th>\n",
       "      <th>2</th>\n",
       "      <th>3</th>\n",
       "      <th>4</th>\n",
       "    </tr>\n",
       "  </thead>\n",
       "  <tbody>\n",
       "    <tr>\n",
       "      <th>0</th>\n",
       "      <td>0.500000</td>\n",
       "      <td>0.998878</td>\n",
       "      <td>0.849971</td>\n",
       "      <td>0.948083</td>\n",
       "      <td>0.044023</td>\n",
       "    </tr>\n",
       "    <tr>\n",
       "      <th>1</th>\n",
       "      <td>0.001122</td>\n",
       "      <td>0.500000</td>\n",
       "      <td>0.015813</td>\n",
       "      <td>0.051260</td>\n",
       "      <td>0.000215</td>\n",
       "    </tr>\n",
       "    <tr>\n",
       "      <th>2</th>\n",
       "      <td>0.150029</td>\n",
       "      <td>0.984187</td>\n",
       "      <td>0.500000</td>\n",
       "      <td>0.800363</td>\n",
       "      <td>0.004487</td>\n",
       "    </tr>\n",
       "    <tr>\n",
       "      <th>3</th>\n",
       "      <td>0.051917</td>\n",
       "      <td>0.948740</td>\n",
       "      <td>0.199637</td>\n",
       "      <td>0.500000</td>\n",
       "      <td>0.001692</td>\n",
       "    </tr>\n",
       "    <tr>\n",
       "      <th>4</th>\n",
       "      <td>0.955977</td>\n",
       "      <td>0.999785</td>\n",
       "      <td>0.995513</td>\n",
       "      <td>0.998308</td>\n",
       "      <td>0.500000</td>\n",
       "    </tr>\n",
       "  </tbody>\n",
       "</table>\n",
       "</div>"
      ],
      "text/plain": [
       "          0         1         2         3         4\n",
       "0  0.500000  0.998878  0.849971  0.948083  0.044023\n",
       "1  0.001122  0.500000  0.015813  0.051260  0.000215\n",
       "2  0.150029  0.984187  0.500000  0.800363  0.004487\n",
       "3  0.051917  0.948740  0.199637  0.500000  0.001692\n",
       "4  0.955977  0.999785  0.995513  0.998308  0.500000"
      ]
     },
     "execution_count": 68,
     "metadata": {},
     "output_type": "execute_result"
    }
   ],
   "source": [
    "pd.DataFrame(B)"
   ]
  },
  {
   "cell_type": "markdown",
   "metadata": {},
   "source": [
    "# K=2"
   ]
  },
  {
   "cell_type": "code",
   "execution_count": 19,
   "metadata": {
    "collapsed": false
   },
   "outputs": [
    {
     "name": "stdout",
     "output_type": "stream",
     "text": [
      "0:04:07.355821\n"
     ]
    },
    {
     "data": {
      "text/plain": [
       "(-10167.177902805668, -10167.177902805668)"
      ]
     },
     "execution_count": 19,
     "metadata": {},
     "output_type": "execute_result"
    },
    {
     "data": {
      "image/png": "[encoded data removed]",
      "text/plain": [
       "<matplotlib.figure.Figure at 0x11056f5d0>"
      ]
     },
     "metadata": {},
     "output_type": "display_data"
    }
   ],
   "source": [
    "K = 2\n",
    "gamma, phi_pq, phi_qp, B, elbos = mmsb.train_mmsb(X, V, K, n_iter=300)\n",
    "pd.Series(elbos).plot(figsize=[12,4])\n",
    "max(elbos), elbos[-1]"
   ]
  },
  {
   "cell_type": "code",
   "execution_count": 20,
   "metadata": {
    "collapsed": false
   },
   "outputs": [
    {
     "data": {
      "text/plain": [
       "0.75365001028171907"
      ]
     },
     "execution_count": 20,
     "metadata": {},
     "output_type": "execute_result"
    }
   ],
   "source": [
    "probs = [gamma[:,p].dot(B).dot(gamma[:,q]) for p, q, v in test_X]\n",
    "sum(test_X[:,2] == np.round(probs)) / float(len(test_X))"
   ]
  },
  {
   "cell_type": "markdown",
   "metadata": {},
   "source": [
    "# K=4"
   ]
  },
  {
   "cell_type": "code",
   "execution_count": 8,
   "metadata": {
    "collapsed": false
   },
   "outputs": [
    {
     "name": "stdout",
     "output_type": "stream",
     "text": [
      "0:04:42.600311\n"
     ]
    },
    {
     "data": {
      "text/plain": [
       "(-10305.494953988105, -10305.494953988105)"
      ]
     },
     "execution_count": 8,
     "metadata": {},
     "output_type": "execute_result"
    },
    {
     "data": {
      "image/png": "[encoded data removed]",
      "text/plain": [
       "<matplotlib.figure.Figure at 0x110461950>"
      ]
     },
     "metadata": {},
     "output_type": "display_data"
    }
   ],
   "source": [
    "K = 4\n",
    "gamma, phi_pq, phi_qp, B, elbos = mmsb.train_mmsb(X, V, K, n_iter=300)\n",
    "pd.Series(elbos).plot(figsize=[12,4])\n",
    "max(elbos), elbos[-1]"
   ]
  },
  {
   "cell_type": "code",
   "execution_count": 9,
   "metadata": {
    "collapsed": false
   },
   "outputs": [
    {
     "data": {
      "text/html": [
       "<div>\n",
       "<table border=\"1\" class=\"dataframe\">\n",
       "  <thead>\n",
       "    <tr style=\"text-align: right;\">\n",
       "      <th></th>\n",
       "      <th>0</th>\n",
       "      <th>1</th>\n",
       "      <th>2</th>\n",
       "      <th>3</th>\n",
       "    </tr>\n",
       "  </thead>\n",
       "  <tbody>\n",
       "    <tr>\n",
       "      <th>0</th>\n",
       "      <td>0.50000</td>\n",
       "      <td>0.99941</td>\n",
       "      <td>0.94940</td>\n",
       "      <td>0.99016</td>\n",
       "    </tr>\n",
       "    <tr>\n",
       "      <th>1</th>\n",
       "      <td>0.00059</td>\n",
       "      <td>0.50000</td>\n",
       "      <td>0.01421</td>\n",
       "      <td>0.09897</td>\n",
       "    </tr>\n",
       "    <tr>\n",
       "      <th>2</th>\n",
       "      <td>0.05060</td>\n",
       "      <td>0.98579</td>\n",
       "      <td>0.50000</td>\n",
       "      <td>0.85241</td>\n",
       "    </tr>\n",
       "    <tr>\n",
       "      <th>3</th>\n",
       "      <td>0.00984</td>\n",
       "      <td>0.90103</td>\n",
       "      <td>0.14759</td>\n",
       "      <td>0.50000</td>\n",
       "    </tr>\n",
       "  </tbody>\n",
       "</table>\n",
       "</div>"
      ],
      "text/plain": [
       "         0        1        2        3\n",
       "0  0.50000  0.99941  0.94940  0.99016\n",
       "1  0.00059  0.50000  0.01421  0.09897\n",
       "2  0.05060  0.98579  0.50000  0.85241\n",
       "3  0.00984  0.90103  0.14759  0.50000"
      ]
     },
     "execution_count": 9,
     "metadata": {},
     "output_type": "execute_result"
    }
   ],
   "source": [
    "pd.DataFrame(B).round(5)"
   ]
  },
  {
   "cell_type": "code",
   "execution_count": 10,
   "metadata": {
    "collapsed": false
   },
   "outputs": [
    {
     "data": {
      "text/plain": [
       "0.78716841455891429"
      ]
     },
     "execution_count": 10,
     "metadata": {},
     "output_type": "execute_result"
    }
   ],
   "source": [
    "probs = [gamma[:,p].dot(B).dot(gamma[:,q]) for p, q, v in test_X]\n",
    "sum(test_X[:,2] == np.round(probs)) / float(len(test_X))"
   ]
  },
  {
   "cell_type": "markdown",
   "metadata": {},
   "source": [
    "# K=8"
   ]
  },
  {
   "cell_type": "code",
   "execution_count": 11,
   "metadata": {
    "collapsed": false
   },
   "outputs": [
    {
     "name": "stdout",
     "output_type": "stream",
     "text": [
      "0\n",
      "1\n",
      "2\n",
      "3\n",
      "4\n",
      "5\n",
      "6\n",
      "7\n",
      "8\n",
      "9\n",
      "10\n",
      "11\n",
      "12\n",
      "13\n",
      "14\n",
      "15\n",
      "16\n",
      "17\n",
      "18\n",
      "19\n",
      "20\n",
      "21\n",
      "22\n",
      "23\n",
      "24\n",
      "25\n",
      "26\n",
      "27\n",
      "28\n",
      "29\n",
      "30\n",
      "31\n",
      "32\n",
      "33\n",
      "34\n",
      "35\n",
      "36\n",
      "37\n",
      "38\n",
      "39\n",
      "40\n",
      "41\n",
      "42\n",
      "43\n",
      "44\n",
      "45\n",
      "46\n",
      "47\n",
      "48\n",
      "49\n",
      "50\n",
      "51\n",
      "52\n",
      "53\n",
      "54\n",
      "55\n",
      "56\n",
      "57\n",
      "58\n",
      "59\n",
      "60\n",
      "61\n",
      "62\n",
      "63\n",
      "64\n",
      "65\n",
      "66\n",
      "67\n",
      "68\n",
      "69\n",
      "70\n",
      "71\n",
      "72\n",
      "73\n",
      "74\n",
      "75\n",
      "76\n",
      "77\n",
      "78\n",
      "79\n",
      "80\n",
      "81\n",
      "82\n",
      "83\n",
      "84\n",
      "85\n",
      "86\n",
      "87\n",
      "88\n",
      "89\n",
      "90\n",
      "91\n",
      "92\n",
      "93\n",
      "94\n",
      "95\n",
      "96\n",
      "97\n",
      "98\n",
      "99\n",
      "100\n",
      "101\n",
      "102\n",
      "103\n",
      "104\n",
      "105\n",
      "106\n",
      "107\n",
      "108\n",
      "109\n",
      "110\n",
      "111\n",
      "112\n",
      "113\n",
      "114\n",
      "115\n",
      "116\n",
      "117\n",
      "118\n",
      "119\n",
      "120\n",
      "121\n",
      "122\n",
      "123\n",
      "124\n",
      "125\n",
      "126\n",
      "127\n",
      "128\n",
      "129\n",
      "130\n",
      "131\n",
      "132\n",
      "133\n",
      "134\n",
      "135\n",
      "136\n",
      "137\n",
      "138\n",
      "139\n",
      "140\n",
      "141\n",
      "142\n",
      "143\n",
      "144\n",
      "145\n",
      "146\n",
      "147\n",
      "148\n",
      "149\n",
      "150\n",
      "151\n",
      "152\n",
      "153\n",
      "154\n",
      "155\n",
      "156\n",
      "157\n",
      "158\n",
      "159\n",
      "160\n",
      "161\n",
      "162\n",
      "163\n",
      "164\n",
      "165\n",
      "166\n",
      "167\n",
      "168\n",
      "169\n",
      "170\n",
      "171\n",
      "172\n",
      "173\n",
      "174\n",
      "175\n",
      "176\n",
      "177\n",
      "178\n",
      "179\n",
      "180\n",
      "181\n",
      "182\n",
      "183\n",
      "184\n",
      "185\n",
      "186\n",
      "187\n",
      "188\n",
      "189\n",
      "190\n",
      "191\n",
      "192\n",
      "193\n",
      "194\n",
      "195\n",
      "196\n",
      "197\n",
      "198\n",
      "199\n",
      "200\n",
      "201\n",
      "202\n",
      "203\n",
      "204\n",
      "205\n",
      "206\n",
      "207\n",
      "208\n",
      "209\n",
      "210\n",
      "211\n",
      "212\n",
      "213\n",
      "214\n",
      "215\n",
      "216\n",
      "217\n",
      "218\n",
      "219\n",
      "220\n",
      "221\n",
      "222\n",
      "223\n",
      "224\n",
      "225\n",
      "226\n",
      "227\n",
      "228\n",
      "229\n",
      "230\n",
      "231\n",
      "232\n",
      "233\n",
      "234\n",
      "235\n",
      "236\n",
      "237\n",
      "238\n",
      "239\n",
      "240\n",
      "241\n",
      "242\n",
      "243\n",
      "244\n",
      "245\n",
      "246\n",
      "247\n",
      "248\n",
      "249\n",
      "250\n",
      "251\n",
      "252\n",
      "253\n",
      "254\n",
      "255\n",
      "256\n",
      "257\n",
      "258\n",
      "259\n",
      "260\n",
      "261\n",
      "262\n",
      "263\n",
      "264\n",
      "265\n",
      "266\n",
      "267\n",
      "268\n",
      "269\n",
      "270\n",
      "271\n",
      "272\n",
      "273\n",
      "274\n",
      "275\n",
      "276\n",
      "277\n",
      "278\n",
      "279\n",
      "280\n",
      "281\n",
      "282\n",
      "283\n",
      "284\n",
      "285\n",
      "286\n",
      "287\n",
      "288\n",
      "289\n",
      "290\n",
      "291\n",
      "292\n",
      "293\n",
      "294\n",
      "295\n",
      "296\n",
      "297\n",
      "298\n",
      "299\n",
      "0:06:41.228515\n"
     ]
    },
    {
     "data": {
      "text/plain": [
       "(-11703.921729369045, -11703.921729369045)"
      ]
     },
     "execution_count": 11,
     "metadata": {},
     "output_type": "execute_result"
    },
    {
     "data": {
      "image/png": "[encoded data removed]",
      "text/plain": [
       "<matplotlib.figure.Figure at 0x10a7d9050>"
      ]
     },
     "metadata": {},
     "output_type": "display_data"
    }
   ],
   "source": [
    "K = 8\n",
    "gamma, phi_pq, phi_qp, B, elbos = mmsb.train_mmsb(X, V, K, n_iter=300, print_i=True)\n",
    "pd.Series(elbos).plot(figsize=[12,4])\n",
    "max(elbos), elbos[-1]"
   ]
  },
  {
   "cell_type": "code",
   "execution_count": 12,
   "metadata": {
    "collapsed": false
   },
   "outputs": [
    {
     "data": {
      "text/html": [
       "<div>\n",
       "<table border=\"1\" class=\"dataframe\">\n",
       "  <thead>\n",
       "    <tr style=\"text-align: right;\">\n",
       "      <th></th>\n",
       "      <th>0</th>\n",
       "      <th>1</th>\n",
       "      <th>2</th>\n",
       "      <th>3</th>\n",
       "      <th>4</th>\n",
       "      <th>5</th>\n",
       "      <th>6</th>\n",
       "      <th>7</th>\n",
       "    </tr>\n",
       "  </thead>\n",
       "  <tbody>\n",
       "    <tr>\n",
       "      <th>0</th>\n",
       "      <td>0.50000</td>\n",
       "      <td>0.00005</td>\n",
       "      <td>0.07244</td>\n",
       "      <td>0.16961</td>\n",
       "      <td>0.19568</td>\n",
       "      <td>0.99985</td>\n",
       "      <td>0.00403</td>\n",
       "      <td>0.85484</td>\n",
       "    </tr>\n",
       "    <tr>\n",
       "      <th>1</th>\n",
       "      <td>0.99995</td>\n",
       "      <td>0.50000</td>\n",
       "      <td>0.99960</td>\n",
       "      <td>1.00000</td>\n",
       "      <td>0.99999</td>\n",
       "      <td>1.00000</td>\n",
       "      <td>0.99993</td>\n",
       "      <td>0.99998</td>\n",
       "    </tr>\n",
       "    <tr>\n",
       "      <th>2</th>\n",
       "      <td>0.92756</td>\n",
       "      <td>0.00040</td>\n",
       "      <td>0.50000</td>\n",
       "      <td>0.81273</td>\n",
       "      <td>0.46879</td>\n",
       "      <td>1.00000</td>\n",
       "      <td>0.16851</td>\n",
       "      <td>0.99887</td>\n",
       "    </tr>\n",
       "    <tr>\n",
       "      <th>3</th>\n",
       "      <td>0.83039</td>\n",
       "      <td>0.00000</td>\n",
       "      <td>0.18727</td>\n",
       "      <td>0.50000</td>\n",
       "      <td>0.43250</td>\n",
       "      <td>0.99931</td>\n",
       "      <td>0.00685</td>\n",
       "      <td>0.90512</td>\n",
       "    </tr>\n",
       "    <tr>\n",
       "      <th>4</th>\n",
       "      <td>0.80432</td>\n",
       "      <td>0.00001</td>\n",
       "      <td>0.53121</td>\n",
       "      <td>0.56750</td>\n",
       "      <td>0.50000</td>\n",
       "      <td>0.99992</td>\n",
       "      <td>0.16137</td>\n",
       "      <td>0.88353</td>\n",
       "    </tr>\n",
       "    <tr>\n",
       "      <th>5</th>\n",
       "      <td>0.00015</td>\n",
       "      <td>0.00000</td>\n",
       "      <td>0.00000</td>\n",
       "      <td>0.00069</td>\n",
       "      <td>0.00008</td>\n",
       "      <td>0.50000</td>\n",
       "      <td>0.00020</td>\n",
       "      <td>0.00057</td>\n",
       "    </tr>\n",
       "    <tr>\n",
       "      <th>6</th>\n",
       "      <td>0.99597</td>\n",
       "      <td>0.00007</td>\n",
       "      <td>0.83149</td>\n",
       "      <td>0.99315</td>\n",
       "      <td>0.83863</td>\n",
       "      <td>0.99980</td>\n",
       "      <td>0.50000</td>\n",
       "      <td>0.99660</td>\n",
       "    </tr>\n",
       "    <tr>\n",
       "      <th>7</th>\n",
       "      <td>0.14516</td>\n",
       "      <td>0.00002</td>\n",
       "      <td>0.00113</td>\n",
       "      <td>0.09488</td>\n",
       "      <td>0.11647</td>\n",
       "      <td>0.99943</td>\n",
       "      <td>0.00340</td>\n",
       "      <td>0.50000</td>\n",
       "    </tr>\n",
       "  </tbody>\n",
       "</table>\n",
       "</div>"
      ],
      "text/plain": [
       "         0        1        2        3        4        5        6        7\n",
       "0  0.50000  0.00005  0.07244  0.16961  0.19568  0.99985  0.00403  0.85484\n",
       "1  0.99995  0.50000  0.99960  1.00000  0.99999  1.00000  0.99993  0.99998\n",
       "2  0.92756  0.00040  0.50000  0.81273  0.46879  1.00000  0.16851  0.99887\n",
       "3  0.83039  0.00000  0.18727  0.50000  0.43250  0.99931  0.00685  0.90512\n",
       "4  0.80432  0.00001  0.53121  0.56750  0.50000  0.99992  0.16137  0.88353\n",
       "5  0.00015  0.00000  0.00000  0.00069  0.00008  0.50000  0.00020  0.00057\n",
       "6  0.99597  0.00007  0.83149  0.99315  0.83863  0.99980  0.50000  0.99660\n",
       "7  0.14516  0.00002  0.00113  0.09488  0.11647  0.99943  0.00340  0.50000"
      ]
     },
     "execution_count": 12,
     "metadata": {},
     "output_type": "execute_result"
    }
   ],
   "source": [
    "pd.DataFrame(B).round(5)"
   ]
  },
  {
   "cell_type": "code",
   "execution_count": 13,
   "metadata": {
    "collapsed": false
   },
   "outputs": [
    {
     "data": {
      "text/plain": [
       "0.79498252107752421"
      ]
     },
     "execution_count": 13,
     "metadata": {},
     "output_type": "execute_result"
    }
   ],
   "source": [
    "probs = [gamma[:,p].dot(B).dot(gamma[:,q]) for p, q, v in test_X]\n",
    "sum(test_X[:,2] == np.round(probs)) / float(len(test_X))"
   ]
  },
  {
   "cell_type": "markdown",
   "metadata": {},
   "source": [
    "# K=12"
   ]
  },
  {
   "cell_type": "code",
   "execution_count": 14,
   "metadata": {
    "collapsed": false
   },
   "outputs": [
    {
     "name": "stdout",
     "output_type": "stream",
     "text": [
      "0:09:37.209336\n"
     ]
    },
    {
     "data": {
      "text/plain": [
       "(-13139.150060243383, -13139.150060243383)"
      ]
     },
     "execution_count": 14,
     "metadata": {},
     "output_type": "execute_result"
    },
    {
     "data": {
      "image/png": "[encoded data removed]",
      "text/plain": [
       "<matplotlib.figure.Figure at 0x110ef47d0>"
      ]
     },
     "metadata": {},
     "output_type": "display_data"
    }
   ],
   "source": [
    "K = 12\n",
    "gamma, phi_pq, phi_qp, B, elbos = mmsb.train_mmsb(X, V, K, n_iter=300)\n",
    "pd.Series(elbos).plot(figsize=[12,4])\n",
    "max(elbos), elbos[-1]"
   ]
  },
  {
   "cell_type": "code",
   "execution_count": 15,
   "metadata": {
    "collapsed": false
   },
   "outputs": [
    {
     "data": {
      "text/html": [
       "<div>\n",
       "<table border=\"1\" class=\"dataframe\">\n",
       "  <thead>\n",
       "    <tr style=\"text-align: right;\">\n",
       "      <th></th>\n",
       "      <th>0</th>\n",
       "      <th>1</th>\n",
       "      <th>2</th>\n",
       "      <th>3</th>\n",
       "      <th>4</th>\n",
       "      <th>5</th>\n",
       "      <th>6</th>\n",
       "      <th>7</th>\n",
       "      <th>8</th>\n",
       "      <th>9</th>\n",
       "      <th>10</th>\n",
       "      <th>11</th>\n",
       "    </tr>\n",
       "  </thead>\n",
       "  <tbody>\n",
       "    <tr>\n",
       "      <th>0</th>\n",
       "      <td>0.50000</td>\n",
       "      <td>0.76539</td>\n",
       "      <td>0.91422</td>\n",
       "      <td>0.78221</td>\n",
       "      <td>0.99795</td>\n",
       "      <td>0.19718</td>\n",
       "      <td>0.28568</td>\n",
       "      <td>0.98309</td>\n",
       "      <td>0.00000</td>\n",
       "      <td>0.88653</td>\n",
       "      <td>0.00001</td>\n",
       "      <td>0.59230</td>\n",
       "    </tr>\n",
       "    <tr>\n",
       "      <th>1</th>\n",
       "      <td>0.23461</td>\n",
       "      <td>0.50000</td>\n",
       "      <td>0.38023</td>\n",
       "      <td>0.66385</td>\n",
       "      <td>0.99997</td>\n",
       "      <td>0.08787</td>\n",
       "      <td>0.58911</td>\n",
       "      <td>0.90797</td>\n",
       "      <td>0.00000</td>\n",
       "      <td>0.57412</td>\n",
       "      <td>0.03482</td>\n",
       "      <td>0.99991</td>\n",
       "    </tr>\n",
       "    <tr>\n",
       "      <th>2</th>\n",
       "      <td>0.08578</td>\n",
       "      <td>0.61977</td>\n",
       "      <td>0.50000</td>\n",
       "      <td>0.34142</td>\n",
       "      <td>0.99735</td>\n",
       "      <td>0.00284</td>\n",
       "      <td>0.42627</td>\n",
       "      <td>0.39903</td>\n",
       "      <td>0.10636</td>\n",
       "      <td>0.03398</td>\n",
       "      <td>0.00039</td>\n",
       "      <td>0.14295</td>\n",
       "    </tr>\n",
       "    <tr>\n",
       "      <th>3</th>\n",
       "      <td>0.21779</td>\n",
       "      <td>0.33615</td>\n",
       "      <td>0.65858</td>\n",
       "      <td>0.50000</td>\n",
       "      <td>0.95960</td>\n",
       "      <td>0.07117</td>\n",
       "      <td>0.29234</td>\n",
       "      <td>0.69522</td>\n",
       "      <td>0.00000</td>\n",
       "      <td>0.49415</td>\n",
       "      <td>0.00018</td>\n",
       "      <td>0.53720</td>\n",
       "    </tr>\n",
       "    <tr>\n",
       "      <th>4</th>\n",
       "      <td>0.00205</td>\n",
       "      <td>0.00003</td>\n",
       "      <td>0.00265</td>\n",
       "      <td>0.04040</td>\n",
       "      <td>0.50000</td>\n",
       "      <td>0.00040</td>\n",
       "      <td>0.00940</td>\n",
       "      <td>0.03602</td>\n",
       "      <td>0.00000</td>\n",
       "      <td>0.00113</td>\n",
       "      <td>0.00016</td>\n",
       "      <td>0.00722</td>\n",
       "    </tr>\n",
       "    <tr>\n",
       "      <th>5</th>\n",
       "      <td>0.80282</td>\n",
       "      <td>0.91213</td>\n",
       "      <td>0.99716</td>\n",
       "      <td>0.92883</td>\n",
       "      <td>0.99960</td>\n",
       "      <td>0.50000</td>\n",
       "      <td>0.69896</td>\n",
       "      <td>0.99988</td>\n",
       "      <td>0.00176</td>\n",
       "      <td>0.99994</td>\n",
       "      <td>0.20416</td>\n",
       "      <td>0.79567</td>\n",
       "    </tr>\n",
       "    <tr>\n",
       "      <th>6</th>\n",
       "      <td>0.71432</td>\n",
       "      <td>0.41089</td>\n",
       "      <td>0.57373</td>\n",
       "      <td>0.70766</td>\n",
       "      <td>0.99060</td>\n",
       "      <td>0.30104</td>\n",
       "      <td>0.50000</td>\n",
       "      <td>0.88858</td>\n",
       "      <td>0.00062</td>\n",
       "      <td>0.81711</td>\n",
       "      <td>0.42005</td>\n",
       "      <td>0.74010</td>\n",
       "    </tr>\n",
       "    <tr>\n",
       "      <th>7</th>\n",
       "      <td>0.01691</td>\n",
       "      <td>0.09203</td>\n",
       "      <td>0.60097</td>\n",
       "      <td>0.30478</td>\n",
       "      <td>0.96398</td>\n",
       "      <td>0.00012</td>\n",
       "      <td>0.11142</td>\n",
       "      <td>0.50000</td>\n",
       "      <td>0.00003</td>\n",
       "      <td>0.04495</td>\n",
       "      <td>0.00003</td>\n",
       "      <td>0.22013</td>\n",
       "    </tr>\n",
       "    <tr>\n",
       "      <th>8</th>\n",
       "      <td>1.00000</td>\n",
       "      <td>1.00000</td>\n",
       "      <td>0.89364</td>\n",
       "      <td>1.00000</td>\n",
       "      <td>1.00000</td>\n",
       "      <td>0.99824</td>\n",
       "      <td>0.99938</td>\n",
       "      <td>0.99997</td>\n",
       "      <td>0.50000</td>\n",
       "      <td>1.00000</td>\n",
       "      <td>0.99991</td>\n",
       "      <td>0.98675</td>\n",
       "    </tr>\n",
       "    <tr>\n",
       "      <th>9</th>\n",
       "      <td>0.11347</td>\n",
       "      <td>0.42588</td>\n",
       "      <td>0.96602</td>\n",
       "      <td>0.50585</td>\n",
       "      <td>0.99887</td>\n",
       "      <td>0.00006</td>\n",
       "      <td>0.18289</td>\n",
       "      <td>0.95505</td>\n",
       "      <td>0.00000</td>\n",
       "      <td>0.50000</td>\n",
       "      <td>0.00083</td>\n",
       "      <td>0.60674</td>\n",
       "    </tr>\n",
       "    <tr>\n",
       "      <th>10</th>\n",
       "      <td>0.99999</td>\n",
       "      <td>0.96518</td>\n",
       "      <td>0.99961</td>\n",
       "      <td>0.99982</td>\n",
       "      <td>0.99984</td>\n",
       "      <td>0.79584</td>\n",
       "      <td>0.57995</td>\n",
       "      <td>0.99997</td>\n",
       "      <td>0.00009</td>\n",
       "      <td>0.99917</td>\n",
       "      <td>0.50000</td>\n",
       "      <td>0.85569</td>\n",
       "    </tr>\n",
       "    <tr>\n",
       "      <th>11</th>\n",
       "      <td>0.40770</td>\n",
       "      <td>0.00009</td>\n",
       "      <td>0.85705</td>\n",
       "      <td>0.46280</td>\n",
       "      <td>0.99278</td>\n",
       "      <td>0.20433</td>\n",
       "      <td>0.25990</td>\n",
       "      <td>0.77987</td>\n",
       "      <td>0.01325</td>\n",
       "      <td>0.39326</td>\n",
       "      <td>0.14431</td>\n",
       "      <td>0.50000</td>\n",
       "    </tr>\n",
       "  </tbody>\n",
       "</table>\n",
       "</div>"
      ],
      "text/plain": [
       "         0        1        2        3        4        5        6        7   \\\n",
       "0   0.50000  0.76539  0.91422  0.78221  0.99795  0.19718  0.28568  0.98309   \n",
       "1   0.23461  0.50000  0.38023  0.66385  0.99997  0.08787  0.58911  0.90797   \n",
       "2   0.08578  0.61977  0.50000  0.34142  0.99735  0.00284  0.42627  0.39903   \n",
       "3   0.21779  0.33615  0.65858  0.50000  0.95960  0.07117  0.29234  0.69522   \n",
       "4   0.00205  0.00003  0.00265  0.04040  0.50000  0.00040  0.00940  0.03602   \n",
       "5   0.80282  0.91213  0.99716  0.92883  0.99960  0.50000  0.69896  0.99988   \n",
       "6   0.71432  0.41089  0.57373  0.70766  0.99060  0.30104  0.50000  0.88858   \n",
       "7   0.01691  0.09203  0.60097  0.30478  0.96398  0.00012  0.11142  0.50000   \n",
       "8   1.00000  1.00000  0.89364  1.00000  1.00000  0.99824  0.99938  0.99997   \n",
       "9   0.11347  0.42588  0.96602  0.50585  0.99887  0.00006  0.18289  0.95505   \n",
       "10  0.99999  0.96518  0.99961  0.99982  0.99984  0.79584  0.57995  0.99997   \n",
       "11  0.40770  0.00009  0.85705  0.46280  0.99278  0.20433  0.25990  0.77987   \n",
       "\n",
       "         8        9        10       11  \n",
       "0   0.00000  0.88653  0.00001  0.59230  \n",
       "1   0.00000  0.57412  0.03482  0.99991  \n",
       "2   0.10636  0.03398  0.00039  0.14295  \n",
       "3   0.00000  0.49415  0.00018  0.53720  \n",
       "4   0.00000  0.00113  0.00016  0.00722  \n",
       "5   0.00176  0.99994  0.20416  0.79567  \n",
       "6   0.00062  0.81711  0.42005  0.74010  \n",
       "7   0.00003  0.04495  0.00003  0.22013  \n",
       "8   0.50000  1.00000  0.99991  0.98675  \n",
       "9   0.00000  0.50000  0.00083  0.60674  \n",
       "10  0.00009  0.99917  0.50000  0.85569  \n",
       "11  0.01325  0.39326  0.14431  0.50000  "
      ]
     },
     "execution_count": 15,
     "metadata": {},
     "output_type": "execute_result"
    }
   ],
   "source": [
    "pd.DataFrame(B).round(5)"
   ]
  },
  {
   "cell_type": "code",
   "execution_count": 16,
   "metadata": {
    "collapsed": false
   },
   "outputs": [
    {
     "data": {
      "text/plain": [
       "0.79601069298786753"
      ]
     },
     "execution_count": 16,
     "metadata": {},
     "output_type": "execute_result"
    }
   ],
   "source": [
    "probs = [gamma[:,p].dot(B).dot(gamma[:,q]) for p, q, v in test_X]\n",
    "sum(test_X[:,2] == np.round(probs)) / float(len(test_X))"
   ]
  },
  {
   "cell_type": "markdown",
   "metadata": {},
   "source": [
    "# K=16"
   ]
  },
  {
   "cell_type": "code",
   "execution_count": 17,
   "metadata": {
    "collapsed": false
   },
   "outputs": [
    {
     "name": "stdout",
     "output_type": "stream",
     "text": [
      "0:15:14.082236\n"
     ]
    },
    {
     "data": {
      "text/plain": [
       "(-14457.402792566199, -14457.402792566199)"
      ]
     },
     "execution_count": 17,
     "metadata": {},
     "output_type": "execute_result"
    },
    {
     "data": {
      "image/png": "[encoded data removed]",
      "text/plain": [
       "<matplotlib.figure.Figure at 0x110ef4850>"
      ]
     },
     "metadata": {},
     "output_type": "display_data"
    }
   ],
   "source": [
    "K = 16\n",
    "gamma, phi_pq, phi_qp, B, elbos = mmsb.train_mmsb(X, V, K, n_iter=300)\n",
    "pd.Series(elbos).plot(figsize=[12,4])\n",
    "max(elbos), elbos[-1]"
   ]
  },
  {
   "cell_type": "code",
   "execution_count": 18,
   "metadata": {
    "collapsed": false
   },
   "outputs": [
    {
     "data": {
      "text/plain": [
       "0.7943656179313181"
      ]
     },
     "execution_count": 18,
     "metadata": {},
     "output_type": "execute_result"
    }
   ],
   "source": [
    "probs = [gamma[:,p].dot(B).dot(gamma[:,q]) for p, q, v in test_X]\n",
    "sum(test_X[:,2] == np.round(probs)) / float(len(test_X))"
   ]
  },
  {
   "cell_type": "markdown",
   "metadata": {},
   "source": [
    "# K=20"
   ]
  },
  {
   "cell_type": "code",
   "execution_count": 21,
   "metadata": {
    "collapsed": false
   },
   "outputs": [
    {
     "name": "stdout",
     "output_type": "stream",
     "text": [
      "0:15:30.141230\n"
     ]
    },
    {
     "data": {
      "text/plain": [
       "(-15637.489611898365, -15637.489611898365)"
      ]
     },
     "execution_count": 21,
     "metadata": {},
     "output_type": "execute_result"
    },
    {
     "data": {
      "image/png": "[encoded data removed]",
      "text/plain": [
       "<matplotlib.figure.Figure at 0x110ad0850>"
      ]
     },
     "metadata": {},
     "output_type": "display_data"
    }
   ],
   "source": [
    "K = 20\n",
    "gamma, phi_pq, phi_qp, B, elbos = mmsb.train_mmsb(X, V, K, n_iter=200)\n",
    "pd.Series(elbos).plot(figsize=[12,4])\n",
    "max(elbos), elbos[-1]"
   ]
  },
  {
   "cell_type": "code",
   "execution_count": 22,
   "metadata": {
    "collapsed": false
   },
   "outputs": [
    {
     "data": {
      "text/plain": [
       "0.79395434916718077"
      ]
     },
     "execution_count": 22,
     "metadata": {},
     "output_type": "execute_result"
    }
   ],
   "source": [
    "probs = [gamma[:,p].dot(B).dot(gamma[:,q]) for p, q, v in test_X]\n",
    "sum(test_X[:,2] == np.round(probs)) / float(len(test_X))"
   ]
  }
 ],
 "metadata": {
  "kernelspec": {
   "display_name": "Python 2",
   "language": "python",
   "name": "python2"
  },
  "language_info": {
   "codemirror_mode": {
    "name": "ipython",
    "version": 2
   },
   "file_extension": ".py",
   "mimetype": "text/x-python",
   "name": "python",
   "nbconvert_exporter": "python",
   "pygments_lexer": "ipython2",
   "version": "2.7.12"
  }
 },
 "nbformat": 4,
 "nbformat_minor": 0
}
