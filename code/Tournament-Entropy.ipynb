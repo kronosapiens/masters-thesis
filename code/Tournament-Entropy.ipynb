{
 "cells": [
  {
   "cell_type": "code",
   "execution_count": 1,
   "metadata": {
    "collapsed": true
   },
   "outputs": [],
   "source": [
    "import matplotlib\n",
    "import matplotlib.pyplot as plt\n",
    "import pandas as pd\n",
    "import numpy as np\n",
    "\n",
    "import eigen\n",
    "import utils\n",
    "\n",
    "%matplotlib inline\n",
    "matplotlib.style.use('ggplot')"
   ]
  },
  {
   "cell_type": "code",
   "execution_count": 2,
   "metadata": {
    "collapsed": false
   },
   "outputs": [
    {
     "data": {
      "text/plain": [
       "array([[  0.,  26.,  20.,  19.,  15.,  15.,  13.,  18.,  12.,  15.],\n",
       "       [  0.,   0.,  25.,  21.,  22.,  23.,  24.,  22.,  20.,  24.],\n",
       "       [  2.,   2.,   0.,  18.,  22.,  20.,  19.,  22.,  32.,  19.],\n",
       "       [  0.,   3.,   4.,   0.,  25.,  17.,  21.,  26.,  17.,  21.],\n",
       "       [  2.,   3.,   2.,   3.,   0.,  16.,  24.,  18.,  19.,  25.],\n",
       "       [  1.,   2.,   6.,   2.,   0.,   0.,  17.,  25.,  18.,  13.],\n",
       "       [  1.,   3.,   2.,   1.,   2.,   1.,   0.,  21.,  15.,  21.],\n",
       "       [  1.,   4.,   1.,   1.,   0.,   3.,   3.,   0.,  19.,  21.],\n",
       "       [  2.,   0.,   2.,   0.,   4.,   3.,   3.,   1.,   0.,  19.],\n",
       "       [  2.,   4.,   3.,   1.,   5.,   0.,   0.,   5.,   6.,   0.]])"
      ]
     },
     "execution_count": 2,
     "metadata": {},
     "output_type": "execute_result"
    }
   ],
   "source": [
    "N = 1000\n",
    "V = 10\n",
    "B = 0.9\n",
    "\n",
    "X = utils.gen_data_pr(V, B, N)\n",
    "R = utils.get_interactions(X).astype(float)\n",
    "R"
   ]
  },
  {
   "cell_type": "code",
   "execution_count": 3,
   "metadata": {
    "collapsed": false
   },
   "outputs": [
    {
     "data": {
      "text/plain": [
       "array([ 0.011,  0.047,  0.065,  0.066,  0.095,  0.098,  0.124,  0.158,\n",
       "        0.158,  0.178])"
      ]
     },
     "execution_count": 3,
     "metadata": {},
     "output_type": "execute_result"
    }
   ],
   "source": [
    "R.sum(axis=0) / R.sum()"
   ]
  },
  {
   "cell_type": "code",
   "execution_count": 4,
   "metadata": {
    "collapsed": false
   },
   "outputs": [
    {
     "data": {
      "text/plain": [
       "3.1029074839650344"
      ]
     },
     "execution_count": 4,
     "metadata": {},
     "output_type": "execute_result"
    }
   ],
   "source": [
    "eigen.te(R)"
   ]
  },
  {
   "cell_type": "code",
   "execution_count": 5,
   "metadata": {
    "collapsed": false
   },
   "outputs": [
    {
     "data": {
      "text/plain": [
       "3.3219280948873626"
      ]
     },
     "execution_count": 5,
     "metadata": {},
     "output_type": "execute_result"
    }
   ],
   "source": [
    "eigen.te_max(V)"
   ]
  },
  {
   "cell_type": "code",
   "execution_count": 6,
   "metadata": {
    "collapsed": false
   },
   "outputs": [
    {
     "data": {
      "text/plain": [
       "3.1033058449997575"
      ]
     },
     "execution_count": 6,
     "metadata": {},
     "output_type": "execute_result"
    }
   ],
   "source": [
    "N = 1000\n",
    "V = 10\n",
    "B = 0.9\n",
    "X = utils.gen_data_pr(V, B, N)\n",
    "R = utils.get_interactions(X).astype(float)\n",
    "eigen.te(R)"
   ]
  },
  {
   "cell_type": "code",
   "execution_count": 7,
   "metadata": {
    "collapsed": false
   },
   "outputs": [
    {
     "data": {
      "text/plain": [
       "[<matplotlib.lines.Line2D at 0x112f64e10>]"
      ]
     },
     "execution_count": 7,
     "metadata": {},
     "output_type": "execute_result"
    },
    {
     "data": {
      "image/png": "[encoded data removed]",
      "text/plain": [
       "<matplotlib.figure.Figure at 0x112e68910>"
      ]
     },
     "metadata": {},
     "output_type": "display_data"
    }
   ],
   "source": [
    "N = 1000\n",
    "V = 10\n",
    "B_vals = [1, .9, .8, .7, .6, .5, .4, .3, .2, .1, 0]\n",
    "\n",
    "results = []\n",
    "for B in B_vals:\n",
    "    X = utils.gen_data_pr(V, B, N)\n",
    "    R = utils.get_interactions(X).astype(float)\n",
    "    results.append(eigen.te(R))\n",
    "\n",
    "plt.plot(B_vals, results)"
   ]
  },
  {
   "cell_type": "code",
   "execution_count": 8,
   "metadata": {
    "collapsed": false
   },
   "outputs": [
    {
     "data": {
      "text/plain": [
       "[<matplotlib.lines.Line2D at 0x11319ef10>]"
      ]
     },
     "execution_count": 8,
     "metadata": {},
     "output_type": "execute_result"
    },
    {
     "data": {
      "image/png": "[encoded data removed]",
      "text/plain": [
       "<matplotlib.figure.Figure at 0x112efd950>"
      ]
     },
     "metadata": {},
     "output_type": "display_data"
    }
   ],
   "source": [
    "N = 10000\n",
    "B = .8\n",
    "V_vals = [5, 10, 50, 100]\n",
    "\n",
    "results = []\n",
    "for V in V_vals:\n",
    "    X = utils.gen_data_pr(V, B, N)\n",
    "    R = utils.get_interactions(X).astype(float)\n",
    "    results.append(eigen.te(R))\n",
    "\n",
    "plt.plot(V_vals, results)"
   ]
  },
  {
   "cell_type": "markdown",
   "metadata": {},
   "source": [
    "## A bunch of graphs"
   ]
  },
  {
   "cell_type": "code",
   "execution_count": 18,
   "metadata": {
    "collapsed": false
   },
   "outputs": [
    {
     "name": "stdout",
     "output_type": "stream",
     "text": [
      "1.92192809489\n"
     ]
    },
    {
     "data": {
      "text/plain": [
       "0    0.461514\n",
       "2    0.230780\n",
       "3    0.153853\n",
       "1    0.153853\n",
       "dtype: float64"
      ]
     },
     "execution_count": 18,
     "metadata": {},
     "output_type": "execute_result"
    }
   ],
   "source": [
    "R = np.array([\n",
    "        [0, 0, 1, 0],\n",
    "        [1, 0, 0, 0],\n",
    "        [0, 1, 0, 1],\n",
    "        [1, 0, 0, 0]])\n",
    "R_nrm = eigen.get_R_nrm(R)\n",
    "print eigen.te(R)\n",
    "eigen.power_method(R_nrm)"
   ]
  },
  {
   "cell_type": "code",
   "execution_count": 15,
   "metadata": {
    "collapsed": false
   },
   "outputs": [
    {
     "name": "stdout",
     "output_type": "stream",
     "text": [
      "1.91829583405\n"
     ]
    },
    {
     "data": {
      "text/plain": [
       "0    0.400018\n",
       "1    0.300036\n",
       "2    0.199964\n",
       "3    0.099982\n",
       "dtype: float64"
      ]
     },
     "execution_count": 15,
     "metadata": {},
     "output_type": "execute_result"
    }
   ],
   "source": [
    "R = np.array([\n",
    "        [0, 0, 1, 0],\n",
    "        [1, 0, 0, 0],\n",
    "        [0, 1, 0, 1],\n",
    "        [1, 1, 0, 0]])\n",
    "R_nrm = eigen.get_R_nrm(R)\n",
    "print eigen.te(R)\n",
    "eigen.power_method(R_nrm)"
   ]
  },
  {
   "cell_type": "code",
   "execution_count": 16,
   "metadata": {
    "collapsed": false
   },
   "outputs": [
    {
     "name": "stdout",
     "output_type": "stream",
     "text": [
      "1.58496250072\n"
     ]
    },
    {
     "data": {
      "text/plain": [
       "2    0.333333\n",
       "1    0.333333\n",
       "0    0.333333\n",
       "3    0.000000\n",
       "dtype: float64"
      ]
     },
     "execution_count": 16,
     "metadata": {},
     "output_type": "execute_result"
    }
   ],
   "source": [
    "R = np.array([\n",
    "        [0, 0, 1, 0],\n",
    "        [1, 0, 0, 0],\n",
    "        [0, 1, 0, 0],\n",
    "        [1, 1, 1, 0]])\n",
    "R_nrm = eigen.get_R_nrm(R)\n",
    "print eigen.te(R)\n",
    "eigen.power_method(R_nrm)"
   ]
  },
  {
   "cell_type": "code",
   "execution_count": 17,
   "metadata": {
    "collapsed": false
   },
   "outputs": [
    {
     "name": "stdout",
     "output_type": "stream",
     "text": [
      "1.79248125036\n"
     ]
    },
    {
     "data": {
      "text/plain": [
       "0    0.99985\n",
       "3    0.00005\n",
       "2    0.00005\n",
       "1    0.00005\n",
       "dtype: float64"
      ]
     },
     "execution_count": 17,
     "metadata": {},
     "output_type": "execute_result"
    }
   ],
   "source": [
    "R = np.array([\n",
    "        [0, 0, 0, 0],\n",
    "        [1, 0, 1, 0],\n",
    "        [1, 0, 0, 1],\n",
    "        [1, 1, 0, 0]])\n",
    "R_nrm = eigen.get_R_nrm(R)\n",
    "print eigen.te(R)\n",
    "eigen.power_method(R_nrm)"
   ]
  },
  {
   "cell_type": "code",
   "execution_count": 20,
   "metadata": {
    "collapsed": false
   },
   "outputs": [
    {
     "name": "stdout",
     "output_type": "stream",
     "text": [
      "1.45914791703\n"
     ]
    },
    {
     "data": {
      "text/plain": [
       "0    9.998998e-01\n",
       "1    1.002429e-04\n",
       "2    1.593318e-11\n",
       "3    0.000000e+00\n",
       "dtype: float64"
      ]
     },
     "execution_count": 20,
     "metadata": {},
     "output_type": "execute_result"
    }
   ],
   "source": [
    "R = np.array([\n",
    "        [0, 0, 0, 0],\n",
    "        [1, 0, 0, 0],\n",
    "        [1, 1, 0, 0],\n",
    "        [1, 1, 1, 0]])\n",
    "R_nrm = eigen.get_R_nrm(R)\n",
    "print eigen.te(R)\n",
    "eigen.power_method(R_nrm)"
   ]
  },
  {
   "cell_type": "code",
   "execution_count": null,
   "metadata": {
    "collapsed": true
   },
   "outputs": [],
   "source": []
  }
 ],
 "metadata": {
  "kernelspec": {
   "display_name": "Python 2",
   "language": "python",
   "name": "python2"
  },
  "language_info": {
   "codemirror_mode": {
    "name": "ipython",
    "version": 2
   },
   "file_extension": ".py",
   "mimetype": "text/x-python",
   "name": "python",
   "nbconvert_exporter": "python",
   "pygments_lexer": "ipython2",
   "version": "2.7.12"
  }
 },
 "nbformat": 4,
 "nbformat_minor": 0
}
