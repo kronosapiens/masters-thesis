{
 "cells": [
  {
   "cell_type": "code",
   "execution_count": 1,
   "metadata": {
    "collapsed": true
   },
   "outputs": [],
   "source": [
    "import matplotlib\n",
    "import matplotlib.pyplot as plt\n",
    "import pandas as pd\n",
    "import numpy as np\n",
    "\n",
    "import eigen\n",
    "import utils\n",
    "\n",
    "%matplotlib inline\n",
    "matplotlib.style.use('ggplot')"
   ]
  },
  {
   "cell_type": "code",
   "execution_count": 2,
   "metadata": {
    "collapsed": false
   },
   "outputs": [
    {
     "data": {
      "text/plain": [
       "array([[  0.,  18.,  17.,  25.,  18.,  29.,  22.,  23.,  18.,  18.],\n",
       "       [  2.,   0.,  19.,  22.,  22.,  18.,  17.,  22.,  19.,  13.],\n",
       "       [  1.,   3.,   0.,  25.,  19.,  18.,  18.,  22.,  20.,  12.],\n",
       "       [  6.,   3.,   2.,   0.,  20.,  23.,  34.,  23.,  21.,  20.],\n",
       "       [  3.,   1.,   5.,   1.,   0.,  17.,  13.,  21.,  20.,  25.],\n",
       "       [  2.,   3.,   1.,   3.,   3.,   0.,  25.,  18.,  13.,  18.],\n",
       "       [  2.,   3.,   1.,   1.,   2.,   0.,   0.,  18.,  19.,  18.],\n",
       "       [  0.,   1.,   3.,   1.,   5.,   1.,   2.,   0.,  17.,  17.],\n",
       "       [  1.,   2.,   4.,   3.,   2.,   3.,   6.,   1.,   0.,  23.],\n",
       "       [  0.,   1.,   5.,   4.,   2.,   2.,   1.,   2.,   3.,   0.]])"
      ]
     },
     "execution_count": 2,
     "metadata": {},
     "output_type": "execute_result"
    }
   ],
   "source": [
    "N = 1000\n",
    "V = 10\n",
    "B = 0.9\n",
    "\n",
    "X = utils.gen_data_pr(V, B, N)\n",
    "R = utils.get_interactions(X).astype(float)\n",
    "R"
   ]
  },
  {
   "cell_type": "code",
   "execution_count": 3,
   "metadata": {
    "collapsed": false
   },
   "outputs": [
    {
     "data": {
      "text/plain": [
       "array([ 0.017,  0.035,  0.057,  0.085,  0.093,  0.111,  0.138,  0.15 ,\n",
       "        0.15 ,  0.164])"
      ]
     },
     "execution_count": 3,
     "metadata": {},
     "output_type": "execute_result"
    }
   ],
   "source": [
    "R.sum(axis=0) / R.sum()"
   ]
  },
  {
   "cell_type": "code",
   "execution_count": 4,
   "metadata": {
    "collapsed": false
   },
   "outputs": [
    {
     "data": {
      "text/plain": [
       "3.1209171088492367"
      ]
     },
     "execution_count": 4,
     "metadata": {},
     "output_type": "execute_result"
    }
   ],
   "source": [
    "eigen.te(R)"
   ]
  },
  {
   "cell_type": "code",
   "execution_count": 5,
   "metadata": {
    "collapsed": false
   },
   "outputs": [
    {
     "data": {
      "text/plain": [
       "3.3219280948873626"
      ]
     },
     "execution_count": 5,
     "metadata": {},
     "output_type": "execute_result"
    }
   ],
   "source": [
    "eigen.te_max(V)"
   ]
  },
  {
   "cell_type": "code",
   "execution_count": 6,
   "metadata": {
    "collapsed": false
   },
   "outputs": [
    {
     "data": {
      "text/plain": [
       "3.1251887769531752"
      ]
     },
     "execution_count": 6,
     "metadata": {},
     "output_type": "execute_result"
    }
   ],
   "source": [
    "N = 1000\n",
    "V = 10\n",
    "B = 0.9\n",
    "X = utils.gen_data_pr(V, B, N)\n",
    "R = utils.get_interactions(X).astype(float)\n",
    "eigen.te(R)"
   ]
  },
  {
   "cell_type": "code",
   "execution_count": 7,
   "metadata": {
    "collapsed": false
   },
   "outputs": [
    {
     "data": {
      "text/plain": [
       "[<matplotlib.lines.Line2D at 0x1157fae10>]"
      ]
     },
     "execution_count": 7,
     "metadata": {},
     "output_type": "execute_result"
    },
    {
     "data": {
      "image/png": "[encoded data removed]",
      "text/plain": [
       "<matplotlib.figure.Figure at 0x1156fd910>"
      ]
     },
     "metadata": {},
     "output_type": "display_data"
    }
   ],
   "source": [
    "N = 1000\n",
    "V = 10\n",
    "B_vals = [1, .9, .8, .7, .6, .5, .4, .3, .2, .1, 0]\n",
    "\n",
    "results = []\n",
    "for B in B_vals:\n",
    "    X = utils.gen_data_pr(V, B, N)\n",
    "    R = utils.get_interactions(X).astype(float)\n",
    "    results.append(eigen.te(R))\n",
    "\n",
    "plt.plot(B_vals, results)"
   ]
  },
  {
   "cell_type": "code",
   "execution_count": 8,
   "metadata": {
    "collapsed": false
   },
   "outputs": [
    {
     "data": {
      "text/plain": [
       "[<matplotlib.lines.Line2D at 0x115a36f10>]"
      ]
     },
     "execution_count": 8,
     "metadata": {},
     "output_type": "execute_result"
    },
    {
     "data": {
      "image/png": "[encoded data removed]",
      "text/plain": [
       "<matplotlib.figure.Figure at 0x115792950>"
      ]
     },
     "metadata": {},
     "output_type": "display_data"
    }
   ],
   "source": [
    "N = 10000\n",
    "B = .8\n",
    "V_vals = [5, 10, 50, 100]\n",
    "\n",
    "results = []\n",
    "for V in V_vals:\n",
    "    X = utils.gen_data_pr(V, B, N)\n",
    "    R = utils.get_interactions(X).astype(float)\n",
    "    results.append(eigen.te(R))\n",
    "\n",
    "plt.plot(V_vals, results)"
   ]
  },
  {
   "cell_type": "markdown",
   "metadata": {},
   "source": [
    "## A bunch of graphs"
   ]
  },
  {
   "cell_type": "code",
   "execution_count": 40,
   "metadata": {
    "collapsed": false
   },
   "outputs": [
    {
     "name": "stdout",
     "output_type": "stream",
     "text": [
      "0.918295834054\n"
     ]
    },
    {
     "data": {
      "text/plain": [
       "array([ 1. ,  0.5,  0. ])"
      ]
     },
     "execution_count": 40,
     "metadata": {},
     "output_type": "execute_result"
    }
   ],
   "source": [
    "R = np.array([\n",
    "        [0, 0, 0],\n",
    "        [1, 0, 0],\n",
    "        [1, 1, 0]])\n",
    "R_nrm = eigen.get_R_nrm(R)\n",
    "print eigen.te(R)\n",
    "vec = eigen.power_method(R_nrm)\n",
    "val, vec = np.linalg.eig(R_nrm.T)\n",
    "val"
   ]
  },
  {
   "cell_type": "code",
   "execution_count": 41,
   "metadata": {
    "collapsed": false
   },
   "outputs": [
    {
     "data": {
      "text/plain": [
       "array([[ 1.        , -0.70710678,  0.        ],\n",
       "       [ 0.        ,  0.70710678, -0.70710678],\n",
       "       [ 0.        ,  0.        ,  0.70710678]])"
      ]
     },
     "execution_count": 41,
     "metadata": {},
     "output_type": "execute_result"
    }
   ],
   "source": [
    "vec"
   ]
  },
  {
   "cell_type": "code",
   "execution_count": 20,
   "metadata": {
    "collapsed": false
   },
   "outputs": [
    {
     "name": "stdout",
     "output_type": "stream",
     "text": [
      "1.92192809489\n",
      "||v1||: 0.313596212685\n"
     ]
    },
    {
     "data": {
      "text/plain": [
       "0    0.461514\n",
       "2    0.230780\n",
       "3    0.153853\n",
       "1    0.153853\n",
       "dtype: float64"
      ]
     },
     "execution_count": 20,
     "metadata": {},
     "output_type": "execute_result"
    }
   ],
   "source": [
    "R = np.array([\n",
    "        [0, 0, 1, 0],\n",
    "        [1, 0, 0, 0],\n",
    "        [0, 1, 0, 1],\n",
    "        [1, 0, 0, 0]])\n",
    "R_nrm = eigen.get_R_nrm(R)\n",
    "print eigen.te(R)\n",
    "vec = eigen.power_method(R_nrm)\n",
    "print '||v1||:', np.linalg.norm(vec)**2\n",
    "vec"
   ]
  },
  {
   "cell_type": "code",
   "execution_count": 22,
   "metadata": {
    "collapsed": false
   },
   "outputs": [
    {
     "name": "stdout",
     "output_type": "stream",
     "text": [
      "1.91829583405\n",
      "||v1||: 0.300018067357\n"
     ]
    },
    {
     "data": {
      "text/plain": [
       "0    0.400018\n",
       "1    0.300036\n",
       "2    0.199964\n",
       "3    0.099982\n",
       "dtype: float64"
      ]
     },
     "execution_count": 22,
     "metadata": {},
     "output_type": "execute_result"
    }
   ],
   "source": [
    "R = np.array([\n",
    "        [0, 0, 1, 0],\n",
    "        [1, 0, 0, 0],\n",
    "        [0, 1, 0, 1],\n",
    "        [1, 1, 0, 0]])\n",
    "R_nrm = eigen.get_R_nrm(R)\n",
    "print eigen.te(R)\n",
    "vec = eigen.power_method(R_nrm)\n",
    "print '||v1||:', np.linalg.norm(vec)**2\n",
    "vec"
   ]
  },
  {
   "cell_type": "code",
   "execution_count": 26,
   "metadata": {
    "collapsed": false
   },
   "outputs": [
    {
     "name": "stdout",
     "output_type": "stream",
     "text": [
      "1.58496250072\n",
      "||v1||: 0.333333333333\n"
     ]
    },
    {
     "data": {
      "text/plain": [
       "array([[ 0.66666667,  0.        ,  0.33333333,  0.        ],\n",
       "       [ 0.33333333,  0.66666667,  0.        ,  0.        ],\n",
       "       [ 0.        ,  0.33333333,  0.66666667,  0.        ],\n",
       "       [ 0.33333333,  0.33333333,  0.33333333,  0.        ]])"
      ]
     },
     "execution_count": 26,
     "metadata": {},
     "output_type": "execute_result"
    }
   ],
   "source": [
    "R = np.array([\n",
    "        [0, 0, 1, 0],\n",
    "        [1, 0, 0, 0],\n",
    "        [0, 1, 0, 0],\n",
    "        [1, 1, 1, 0]])\n",
    "R_nrm = eigen.get_R_nrm(R)\n",
    "print eigen.te(R)\n",
    "vec = eigen.power_method(R_nrm)\n",
    "print '||v1||:', np.linalg.norm(vec)**2\n",
    "R_nrm"
   ]
  },
  {
   "cell_type": "code",
   "execution_count": 25,
   "metadata": {
    "collapsed": false
   },
   "outputs": [
    {
     "name": "stdout",
     "output_type": "stream",
     "text": [
      "1.79248125036\n",
      "||v1||: 0.999699301486\n"
     ]
    },
    {
     "data": {
      "text/plain": [
       "0    0.99985\n",
       "3    0.00005\n",
       "2    0.00005\n",
       "1    0.00005\n",
       "dtype: float64"
      ]
     },
     "execution_count": 25,
     "metadata": {},
     "output_type": "execute_result"
    }
   ],
   "source": [
    "R = np.array([\n",
    "        [0, 0, 0, 0],\n",
    "        [1, 0, 1, 0],\n",
    "        [1, 0, 0, 1],\n",
    "        [1, 1, 0, 0]])\n",
    "R_nrm = eigen.get_R_nrm(R)\n",
    "print eigen.te(R)\n",
    "vec = eigen.power_method(R_nrm)\n",
    "print '||v1||:', np.linalg.norm(vec)**2\n",
    "vec"
   ]
  },
  {
   "cell_type": "code",
   "execution_count": 16,
   "metadata": {
    "collapsed": false
   },
   "outputs": [
    {
     "name": "stdout",
     "output_type": "stream",
     "text": [
      "TE: 1.45914791703\n",
      "||v1||: 0.999799534324\n"
     ]
    },
    {
     "data": {
      "text/plain": [
       "0    9.998998e-01\n",
       "1    1.002429e-04\n",
       "2    1.593318e-11\n",
       "3    0.000000e+00\n",
       "dtype: float64"
      ]
     },
     "execution_count": 16,
     "metadata": {},
     "output_type": "execute_result"
    }
   ],
   "source": [
    "R = np.array([\n",
    "        [0, 0, 0, 0],\n",
    "        [1, 0, 0, 0],\n",
    "        [1, 1, 0, 0],\n",
    "        [1, 1, 1, 0]])\n",
    "R_nrm = eigen.get_R_nrm(R)\n",
    "print 'TE:', eigen.te(R)\n",
    "vec = eigen.power_method(R_nrm)\n",
    "print '||v1||:', np.linalg.norm(vec)**2\n",
    "vec"
   ]
  },
  {
   "cell_type": "code",
   "execution_count": null,
   "metadata": {
    "collapsed": true
   },
   "outputs": [],
   "source": []
  }
 ],
 "metadata": {
  "kernelspec": {
   "display_name": "Python 2",
   "language": "python",
   "name": "python2"
  },
  "language_info": {
   "codemirror_mode": {
    "name": "ipython",
    "version": 2
   },
   "file_extension": ".py",
   "mimetype": "text/x-python",
   "name": "python",
   "nbconvert_exporter": "python",
   "pygments_lexer": "ipython2",
   "version": "2.7.12"
  }
 },
 "nbformat": 4,
 "nbformat_minor": 0
}
