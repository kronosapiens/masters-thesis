{
 "cells": [
  {
   "cell_type": "markdown",
   "metadata": {},
   "source": [
    "# Analysis of survey 10009 (Cocktails survey II)"
   ]
  },
  {
   "cell_type": "code",
   "execution_count": 1,
   "metadata": {
    "collapsed": false
   },
   "outputs": [],
   "source": [
    "import matplotlib\n",
    "import pandas as pd\n",
    "\n",
    "pd.options.display.max_columns = 50\n",
    "\n",
    "%matplotlib inline"
   ]
  },
  {
   "cell_type": "code",
   "execution_count": 2,
   "metadata": {
    "collapsed": false
   },
   "outputs": [],
   "source": [
    "ideas = pd.read_csv('wikisurvey_10009_ideas_2017-02-11T16-29-47Z.csv')\n",
    "votes = pd.read_csv('wikisurvey_10009_votes_2017-02-11T16-29-52Z.csv')"
   ]
  },
  {
   "cell_type": "code",
   "execution_count": 3,
   "metadata": {
    "collapsed": false
   },
   "outputs": [
    {
     "data": {
      "text/html": [
       "<div>\n",
       "<table border=\"1\" class=\"dataframe\">\n",
       "  <thead>\n",
       "    <tr style=\"text-align: right;\">\n",
       "      <th></th>\n",
       "      <th>Wikisurvey ID</th>\n",
       "      <th>Idea ID</th>\n",
       "      <th>Idea Text</th>\n",
       "      <th>Wins</th>\n",
       "      <th>Losses</th>\n",
       "      <th>Times involved in Cant Decide</th>\n",
       "      <th>Score</th>\n",
       "      <th>User Submitted</th>\n",
       "      <th>Session ID</th>\n",
       "      <th>Created at</th>\n",
       "      <th>Last Activity</th>\n",
       "      <th>Active</th>\n",
       "      <th>Appearances on Left</th>\n",
       "      <th>Appearances on Right</th>\n",
       "      <th>Info</th>\n",
       "    </tr>\n",
       "  </thead>\n",
       "  <tbody>\n",
       "    <tr>\n",
       "      <th>0</th>\n",
       "      <td>10009</td>\n",
       "      <td>625098</td>\n",
       "      <td>Long Island Iced Tea</td>\n",
       "      <td>49</td>\n",
       "      <td>33</td>\n",
       "      <td>3</td>\n",
       "      <td>59.5238</td>\n",
       "      <td>False</td>\n",
       "      <td>4877552</td>\n",
       "      <td>2017-01-23 04:21:12 UTC</td>\n",
       "      <td>2017-02-11 15:39:10 UTC</td>\n",
       "      <td>True</td>\n",
       "      <td>43</td>\n",
       "      <td>52</td>\n",
       "      <td>NaN</td>\n",
       "    </tr>\n",
       "  </tbody>\n",
       "</table>\n",
       "</div>"
      ],
      "text/plain": [
       "   Wikisurvey ID  Idea ID             Idea Text  Wins  Losses  \\\n",
       "0          10009   625098  Long Island Iced Tea    49      33   \n",
       "\n",
       "   Times involved in Cant Decide    Score User Submitted  Session ID  \\\n",
       "0                              3  59.5238          False     4877552   \n",
       "\n",
       "                Created at            Last Activity Active  \\\n",
       "0  2017-01-23 04:21:12 UTC  2017-02-11 15:39:10 UTC   True   \n",
       "\n",
       "   Appearances on Left  Appearances on Right  Info  \n",
       "0                   43                    52   NaN  "
      ]
     },
     "execution_count": 3,
     "metadata": {},
     "output_type": "execute_result"
    }
   ],
   "source": [
    "ideas.head(1)"
   ]
  },
  {
   "cell_type": "code",
   "execution_count": 4,
   "metadata": {
    "collapsed": false
   },
   "outputs": [],
   "source": [
    "ideas = ideas[ideas['Appearances on Left'] + ideas['Appearances on Right'] > 0]"
   ]
  },
  {
   "cell_type": "code",
   "execution_count": 5,
   "metadata": {
    "collapsed": false
   },
   "outputs": [
    {
     "data": {
      "text/plain": [
       "10"
      ]
     },
     "execution_count": 5,
     "metadata": {},
     "output_type": "execute_result"
    }
   ],
   "source": [
    "len(ideas)"
   ]
  },
  {
   "cell_type": "code",
   "execution_count": 6,
   "metadata": {
    "collapsed": false
   },
   "outputs": [
    {
     "data": {
      "text/plain": [
       "437"
      ]
     },
     "execution_count": 6,
     "metadata": {},
     "output_type": "execute_result"
    }
   ],
   "source": [
    "len(votes)"
   ]
  },
  {
   "cell_type": "code",
   "execution_count": 7,
   "metadata": {
    "collapsed": false
   },
   "outputs": [
    {
     "data": {
      "text/html": [
       "<div>\n",
       "<table border=\"1\" class=\"dataframe\">\n",
       "  <thead>\n",
       "    <tr style=\"text-align: right;\">\n",
       "      <th></th>\n",
       "      <th>Vote ID</th>\n",
       "      <th>Session ID</th>\n",
       "      <th>Wikisurvey ID</th>\n",
       "      <th>Winner ID</th>\n",
       "      <th>Winner Text</th>\n",
       "      <th>Loser ID</th>\n",
       "      <th>Loser Text</th>\n",
       "      <th>Prompt ID</th>\n",
       "      <th>Appearance ID</th>\n",
       "      <th>Left Choice ID</th>\n",
       "      <th>Right Choice ID</th>\n",
       "      <th>Created at</th>\n",
       "      <th>Updated at</th>\n",
       "      <th>Response Time (s)</th>\n",
       "      <th>Missing Response Time Explanation</th>\n",
       "      <th>Valid</th>\n",
       "      <th>Hashed IP Address</th>\n",
       "      <th>URL Alias</th>\n",
       "      <th>User Agent</th>\n",
       "      <th>Referrer</th>\n",
       "      <th>Widget</th>\n",
       "      <th>Info</th>\n",
       "    </tr>\n",
       "  </thead>\n",
       "  <tbody>\n",
       "    <tr>\n",
       "      <th>0</th>\n",
       "      <td>15597134</td>\n",
       "      <td>4882379</td>\n",
       "      <td>10009</td>\n",
       "      <td>625094</td>\n",
       "      <td>Dark and Stormy</td>\n",
       "      <td>625095</td>\n",
       "      <td>Manhattan</td>\n",
       "      <td>23997697</td>\n",
       "      <td>22007381</td>\n",
       "      <td>625095</td>\n",
       "      <td>625094</td>\n",
       "      <td>2017-01-31 04:57:57 UTC</td>\n",
       "      <td>2017-01-31 04:57:57 UTC</td>\n",
       "      <td>6.62</td>\n",
       "      <td>NaN</td>\n",
       "      <td>True</td>\n",
       "      <td>ed3a85e9bde09ca42fb6e212c579694d</td>\n",
       "      <td>cocktailparty2</td>\n",
       "      <td>Mozilla/5.0 (iPhone; CPU iPhone OS 10_2 like M...</td>\n",
       "      <td>http://m.facebook.com</td>\n",
       "      <td>False</td>\n",
       "      <td>NaN</td>\n",
       "    </tr>\n",
       "  </tbody>\n",
       "</table>\n",
       "</div>"
      ],
      "text/plain": [
       "    Vote ID  Session ID  Wikisurvey ID  Winner ID      Winner Text  Loser ID  \\\n",
       "0  15597134     4882379          10009     625094  Dark and Stormy    625095   \n",
       "\n",
       "  Loser Text  Prompt ID  Appearance ID  Left Choice ID  Right Choice ID  \\\n",
       "0  Manhattan   23997697       22007381          625095           625094   \n",
       "\n",
       "                Created at               Updated at  Response Time (s)  \\\n",
       "0  2017-01-31 04:57:57 UTC  2017-01-31 04:57:57 UTC               6.62   \n",
       "\n",
       "   Missing Response Time Explanation Valid                 Hashed IP Address  \\\n",
       "0                                NaN  True  ed3a85e9bde09ca42fb6e212c579694d   \n",
       "\n",
       "        URL Alias                                         User Agent  \\\n",
       "0  cocktailparty2  Mozilla/5.0 (iPhone; CPU iPhone OS 10_2 like M...   \n",
       "\n",
       "                Referrer Widget  Info  \n",
       "0  http://m.facebook.com  False   NaN  "
      ]
     },
     "execution_count": 7,
     "metadata": {},
     "output_type": "execute_result"
    }
   ],
   "source": [
    "votes.head(1)"
   ]
  },
  {
   "cell_type": "code",
   "execution_count": 8,
   "metadata": {
    "collapsed": false
   },
   "outputs": [
    {
     "data": {
      "text/plain": [
       "28"
      ]
     },
     "execution_count": 8,
     "metadata": {},
     "output_type": "execute_result"
    }
   ],
   "source": [
    "len(votes['Session ID'].unique())"
   ]
  },
  {
   "cell_type": "code",
   "execution_count": 9,
   "metadata": {
    "collapsed": false
   },
   "outputs": [
    {
     "data": {
      "text/plain": [
       "28"
      ]
     },
     "execution_count": 9,
     "metadata": {},
     "output_type": "execute_result"
    }
   ],
   "source": [
    "len(votes['Hashed IP Address'].unique())"
   ]
  },
  {
   "cell_type": "code",
   "execution_count": 10,
   "metadata": {
    "collapsed": false
   },
   "outputs": [
    {
     "data": {
      "text/plain": [
       "10"
      ]
     },
     "execution_count": 10,
     "metadata": {},
     "output_type": "execute_result"
    }
   ],
   "source": [
    "len(votes['Winner ID'].unique())"
   ]
  },
  {
   "cell_type": "code",
   "execution_count": 11,
   "metadata": {
    "collapsed": false
   },
   "outputs": [
    {
     "data": {
      "text/plain": [
       "10"
      ]
     },
     "execution_count": 11,
     "metadata": {},
     "output_type": "execute_result"
    }
   ],
   "source": [
    "len(votes['Loser ID'].unique())"
   ]
  },
  {
   "cell_type": "code",
   "execution_count": 12,
   "metadata": {
    "collapsed": false
   },
   "outputs": [
    {
     "data": {
      "text/plain": [
       "<matplotlib.axes._subplots.AxesSubplot at 0x1068aa410>"
      ]
     },
     "execution_count": 12,
     "metadata": {},
     "output_type": "execute_result"
    },
    {
     "data": {
      "image/png": "[encoded data removed]",
      "text/plain": [
       "<matplotlib.figure.Figure at 0x1068aa910>"
      ]
     },
     "metadata": {},
     "output_type": "display_data"
    }
   ],
   "source": [
    "votes.groupby('Hashed IP Address').count()['Vote ID'].hist(bins=50)"
   ]
  },
  {
   "cell_type": "code",
   "execution_count": 13,
   "metadata": {
    "collapsed": false
   },
   "outputs": [
    {
     "data": {
      "text/plain": [
       "<matplotlib.axes._subplots.AxesSubplot at 0x106976510>"
      ]
     },
     "execution_count": 13,
     "metadata": {},
     "output_type": "execute_result"
    },
    {
     "data": {
      "image/png": "[encoded data removed]",
      "text/plain": [
       "<matplotlib.figure.Figure at 0x106a74110>"
      ]
     },
     "metadata": {},
     "output_type": "display_data"
    }
   ],
   "source": [
    "votes.groupby('Session ID').count()['Vote ID'].hist(bins=50)"
   ]
  },
  {
   "cell_type": "code",
   "execution_count": 14,
   "metadata": {
    "collapsed": false
   },
   "outputs": [
    {
     "data": {
      "text/html": [
       "<div>\n",
       "<table border=\"1\" class=\"dataframe\">\n",
       "  <thead>\n",
       "    <tr style=\"text-align: right;\">\n",
       "      <th></th>\n",
       "      <th>Winner ID</th>\n",
       "      <th>Loser ID</th>\n",
       "      <th>Hashed IP Address</th>\n",
       "    </tr>\n",
       "  </thead>\n",
       "  <tbody>\n",
       "    <tr>\n",
       "      <th>0</th>\n",
       "      <td>625094</td>\n",
       "      <td>625095</td>\n",
       "      <td>ed3a85e9bde09ca42fb6e212c579694d</td>\n",
       "    </tr>\n",
       "    <tr>\n",
       "      <th>1</th>\n",
       "      <td>625093</td>\n",
       "      <td>625096</td>\n",
       "      <td>ed3a85e9bde09ca42fb6e212c579694d</td>\n",
       "    </tr>\n",
       "    <tr>\n",
       "      <th>2</th>\n",
       "      <td>625100</td>\n",
       "      <td>625095</td>\n",
       "      <td>ed3a85e9bde09ca42fb6e212c579694d</td>\n",
       "    </tr>\n",
       "    <tr>\n",
       "      <th>3</th>\n",
       "      <td>625092</td>\n",
       "      <td>625093</td>\n",
       "      <td>ed3a85e9bde09ca42fb6e212c579694d</td>\n",
       "    </tr>\n",
       "    <tr>\n",
       "      <th>4</th>\n",
       "      <td>625093</td>\n",
       "      <td>625096</td>\n",
       "      <td>ed3a85e9bde09ca42fb6e212c579694d</td>\n",
       "    </tr>\n",
       "  </tbody>\n",
       "</table>\n",
       "</div>"
      ],
      "text/plain": [
       "   Winner ID  Loser ID                 Hashed IP Address\n",
       "0     625094    625095  ed3a85e9bde09ca42fb6e212c579694d\n",
       "1     625093    625096  ed3a85e9bde09ca42fb6e212c579694d\n",
       "2     625100    625095  ed3a85e9bde09ca42fb6e212c579694d\n",
       "3     625092    625093  ed3a85e9bde09ca42fb6e212c579694d\n",
       "4     625093    625096  ed3a85e9bde09ca42fb6e212c579694d"
      ]
     },
     "execution_count": 14,
     "metadata": {},
     "output_type": "execute_result"
    }
   ],
   "source": [
    "data = votes[['Winner ID', 'Loser ID', 'Hashed IP Address']].copy()\n",
    "data.head()"
   ]
  },
  {
   "cell_type": "code",
   "execution_count": 15,
   "metadata": {
    "collapsed": false
   },
   "outputs": [
    {
     "data": {
      "text/html": [
       "<div>\n",
       "<table border=\"1\" class=\"dataframe\">\n",
       "  <thead>\n",
       "    <tr style=\"text-align: right;\">\n",
       "      <th></th>\n",
       "      <th>Winner ID</th>\n",
       "      <th>Loser ID</th>\n",
       "      <th>Hashed IP Address</th>\n",
       "      <th>value</th>\n",
       "    </tr>\n",
       "  </thead>\n",
       "  <tbody>\n",
       "    <tr>\n",
       "      <th>0</th>\n",
       "      <td>625094</td>\n",
       "      <td>625095</td>\n",
       "      <td>ed3a85e9bde09ca42fb6e212c579694d</td>\n",
       "      <td>0</td>\n",
       "    </tr>\n",
       "    <tr>\n",
       "      <th>1</th>\n",
       "      <td>625093</td>\n",
       "      <td>625096</td>\n",
       "      <td>ed3a85e9bde09ca42fb6e212c579694d</td>\n",
       "      <td>0</td>\n",
       "    </tr>\n",
       "    <tr>\n",
       "      <th>2</th>\n",
       "      <td>625100</td>\n",
       "      <td>625095</td>\n",
       "      <td>ed3a85e9bde09ca42fb6e212c579694d</td>\n",
       "      <td>1</td>\n",
       "    </tr>\n",
       "    <tr>\n",
       "      <th>3</th>\n",
       "      <td>625092</td>\n",
       "      <td>625093</td>\n",
       "      <td>ed3a85e9bde09ca42fb6e212c579694d</td>\n",
       "      <td>0</td>\n",
       "    </tr>\n",
       "    <tr>\n",
       "      <th>4</th>\n",
       "      <td>625093</td>\n",
       "      <td>625096</td>\n",
       "      <td>ed3a85e9bde09ca42fb6e212c579694d</td>\n",
       "      <td>0</td>\n",
       "    </tr>\n",
       "  </tbody>\n",
       "</table>\n",
       "</div>"
      ],
      "text/plain": [
       "   Winner ID  Loser ID                 Hashed IP Address  value\n",
       "0     625094    625095  ed3a85e9bde09ca42fb6e212c579694d      0\n",
       "1     625093    625096  ed3a85e9bde09ca42fb6e212c579694d      0\n",
       "2     625100    625095  ed3a85e9bde09ca42fb6e212c579694d      1\n",
       "3     625092    625093  ed3a85e9bde09ca42fb6e212c579694d      0\n",
       "4     625093    625096  ed3a85e9bde09ca42fb6e212c579694d      0"
      ]
     },
     "execution_count": 15,
     "metadata": {},
     "output_type": "execute_result"
    }
   ],
   "source": [
    "data['value'] = (data['Winner ID'] > data['Loser ID']).apply(int)\n",
    "data.head()"
   ]
  },
  {
   "cell_type": "code",
   "execution_count": 16,
   "metadata": {
    "collapsed": false
   },
   "outputs": [
    {
     "data": {
      "text/html": [
       "<div>\n",
       "<table border=\"1\" class=\"dataframe\">\n",
       "  <thead>\n",
       "    <tr style=\"text-align: right;\">\n",
       "      <th></th>\n",
       "      <th>Winner ID</th>\n",
       "      <th>Loser ID</th>\n",
       "      <th>Hashed IP Address</th>\n",
       "      <th>value</th>\n",
       "      <th>bigIndex</th>\n",
       "      <th>smallIndex</th>\n",
       "    </tr>\n",
       "  </thead>\n",
       "  <tbody>\n",
       "    <tr>\n",
       "      <th>0</th>\n",
       "      <td>625094</td>\n",
       "      <td>625095</td>\n",
       "      <td>ed3a85e9bde09ca42fb6e212c579694d</td>\n",
       "      <td>0</td>\n",
       "      <td>625095</td>\n",
       "      <td>625094</td>\n",
       "    </tr>\n",
       "    <tr>\n",
       "      <th>1</th>\n",
       "      <td>625093</td>\n",
       "      <td>625096</td>\n",
       "      <td>ed3a85e9bde09ca42fb6e212c579694d</td>\n",
       "      <td>0</td>\n",
       "      <td>625096</td>\n",
       "      <td>625093</td>\n",
       "    </tr>\n",
       "    <tr>\n",
       "      <th>2</th>\n",
       "      <td>625100</td>\n",
       "      <td>625095</td>\n",
       "      <td>ed3a85e9bde09ca42fb6e212c579694d</td>\n",
       "      <td>1</td>\n",
       "      <td>625100</td>\n",
       "      <td>625095</td>\n",
       "    </tr>\n",
       "    <tr>\n",
       "      <th>3</th>\n",
       "      <td>625092</td>\n",
       "      <td>625093</td>\n",
       "      <td>ed3a85e9bde09ca42fb6e212c579694d</td>\n",
       "      <td>0</td>\n",
       "      <td>625093</td>\n",
       "      <td>625092</td>\n",
       "    </tr>\n",
       "    <tr>\n",
       "      <th>4</th>\n",
       "      <td>625093</td>\n",
       "      <td>625096</td>\n",
       "      <td>ed3a85e9bde09ca42fb6e212c579694d</td>\n",
       "      <td>0</td>\n",
       "      <td>625096</td>\n",
       "      <td>625093</td>\n",
       "    </tr>\n",
       "  </tbody>\n",
       "</table>\n",
       "</div>"
      ],
      "text/plain": [
       "   Winner ID  Loser ID                 Hashed IP Address  value  bigIndex  \\\n",
       "0     625094    625095  ed3a85e9bde09ca42fb6e212c579694d      0    625095   \n",
       "1     625093    625096  ed3a85e9bde09ca42fb6e212c579694d      0    625096   \n",
       "2     625100    625095  ed3a85e9bde09ca42fb6e212c579694d      1    625100   \n",
       "3     625092    625093  ed3a85e9bde09ca42fb6e212c579694d      0    625093   \n",
       "4     625093    625096  ed3a85e9bde09ca42fb6e212c579694d      0    625096   \n",
       "\n",
       "   smallIndex  \n",
       "0      625094  \n",
       "1      625093  \n",
       "2      625095  \n",
       "3      625092  \n",
       "4      625093  "
      ]
     },
     "execution_count": 16,
     "metadata": {},
     "output_type": "execute_result"
    }
   ],
   "source": [
    "data['bigIndex'] = data[['Winner ID', 'Loser ID']].apply(max, axis=1)\n",
    "data['smallIndex'] = data[['Winner ID', 'Loser ID']].apply(min, axis=1)\n",
    "data.head()"
   ]
  },
  {
   "cell_type": "code",
   "execution_count": 17,
   "metadata": {
    "collapsed": false
   },
   "outputs": [],
   "source": [
    "data['userId'] = data['Hashed IP Address']"
   ]
  },
  {
   "cell_type": "code",
   "execution_count": 18,
   "metadata": {
    "collapsed": false
   },
   "outputs": [],
   "source": [
    "# data['smallIndex'] -= data['smallIndex'].min()\n",
    "# data['bigIndex'] -= data['bigIndex'].min()"
   ]
  },
  {
   "cell_type": "code",
   "execution_count": 19,
   "metadata": {
    "collapsed": false
   },
   "outputs": [],
   "source": [
    "item_map = {}\n",
    "for i, item_id in enumerate(ideas['Idea ID'].sort_values()): \n",
    "    item_map[item_id] = i\n",
    "    \n",
    "text_map = {}\n",
    "id_to_text = ideas.set_index('Idea ID')['Idea Text']\n",
    "for item in item_map:\n",
    "    text_map[item_map[item]] = id_to_text[item]"
   ]
  },
  {
   "cell_type": "code",
   "execution_count": 20,
   "metadata": {
    "collapsed": false
   },
   "outputs": [],
   "source": [
    "pd.DataFrame.from_dict(item_map, orient='index').to_csv('item_map.csv', header=False)"
   ]
  },
  {
   "cell_type": "code",
   "execution_count": 21,
   "metadata": {
    "collapsed": false
   },
   "outputs": [],
   "source": [
    "pd.DataFrame.from_dict(text_map, orient='index').to_csv('text_map.csv', header=False)"
   ]
  },
  {
   "cell_type": "code",
   "execution_count": 22,
   "metadata": {
    "collapsed": false
   },
   "outputs": [],
   "source": [
    "for item in item_map:\n",
    "    data.loc[data['smallIndex'] == item, 'smallIndex'] = item_map[item]\n",
    "    data.loc[data['bigIndex'] == item, 'bigIndex'] = item_map[item]"
   ]
  },
  {
   "cell_type": "code",
   "execution_count": 23,
   "metadata": {
    "collapsed": false
   },
   "outputs": [
    {
     "data": {
      "text/html": [
       "<div>\n",
       "<table border=\"1\" class=\"dataframe\">\n",
       "  <thead>\n",
       "    <tr style=\"text-align: right;\">\n",
       "      <th></th>\n",
       "      <th>Winner ID</th>\n",
       "      <th>Loser ID</th>\n",
       "      <th>Hashed IP Address</th>\n",
       "      <th>value</th>\n",
       "      <th>bigIndex</th>\n",
       "      <th>smallIndex</th>\n",
       "      <th>userId</th>\n",
       "    </tr>\n",
       "  </thead>\n",
       "  <tbody>\n",
       "    <tr>\n",
       "      <th>0</th>\n",
       "      <td>625094</td>\n",
       "      <td>625095</td>\n",
       "      <td>ed3a85e9bde09ca42fb6e212c579694d</td>\n",
       "      <td>0</td>\n",
       "      <td>3</td>\n",
       "      <td>2</td>\n",
       "      <td>ed3a85e9bde09ca42fb6e212c579694d</td>\n",
       "    </tr>\n",
       "    <tr>\n",
       "      <th>1</th>\n",
       "      <td>625093</td>\n",
       "      <td>625096</td>\n",
       "      <td>ed3a85e9bde09ca42fb6e212c579694d</td>\n",
       "      <td>0</td>\n",
       "      <td>4</td>\n",
       "      <td>1</td>\n",
       "      <td>ed3a85e9bde09ca42fb6e212c579694d</td>\n",
       "    </tr>\n",
       "    <tr>\n",
       "      <th>2</th>\n",
       "      <td>625100</td>\n",
       "      <td>625095</td>\n",
       "      <td>ed3a85e9bde09ca42fb6e212c579694d</td>\n",
       "      <td>1</td>\n",
       "      <td>8</td>\n",
       "      <td>3</td>\n",
       "      <td>ed3a85e9bde09ca42fb6e212c579694d</td>\n",
       "    </tr>\n",
       "    <tr>\n",
       "      <th>3</th>\n",
       "      <td>625092</td>\n",
       "      <td>625093</td>\n",
       "      <td>ed3a85e9bde09ca42fb6e212c579694d</td>\n",
       "      <td>0</td>\n",
       "      <td>1</td>\n",
       "      <td>0</td>\n",
       "      <td>ed3a85e9bde09ca42fb6e212c579694d</td>\n",
       "    </tr>\n",
       "    <tr>\n",
       "      <th>4</th>\n",
       "      <td>625093</td>\n",
       "      <td>625096</td>\n",
       "      <td>ed3a85e9bde09ca42fb6e212c579694d</td>\n",
       "      <td>0</td>\n",
       "      <td>4</td>\n",
       "      <td>1</td>\n",
       "      <td>ed3a85e9bde09ca42fb6e212c579694d</td>\n",
       "    </tr>\n",
       "  </tbody>\n",
       "</table>\n",
       "</div>"
      ],
      "text/plain": [
       "   Winner ID  Loser ID                 Hashed IP Address  value  bigIndex  \\\n",
       "0     625094    625095  ed3a85e9bde09ca42fb6e212c579694d      0         3   \n",
       "1     625093    625096  ed3a85e9bde09ca42fb6e212c579694d      0         4   \n",
       "2     625100    625095  ed3a85e9bde09ca42fb6e212c579694d      1         8   \n",
       "3     625092    625093  ed3a85e9bde09ca42fb6e212c579694d      0         1   \n",
       "4     625093    625096  ed3a85e9bde09ca42fb6e212c579694d      0         4   \n",
       "\n",
       "   smallIndex                            userId  \n",
       "0           2  ed3a85e9bde09ca42fb6e212c579694d  \n",
       "1           1  ed3a85e9bde09ca42fb6e212c579694d  \n",
       "2           3  ed3a85e9bde09ca42fb6e212c579694d  \n",
       "3           0  ed3a85e9bde09ca42fb6e212c579694d  \n",
       "4           1  ed3a85e9bde09ca42fb6e212c579694d  "
      ]
     },
     "execution_count": 23,
     "metadata": {},
     "output_type": "execute_result"
    }
   ],
   "source": [
    "data.head()"
   ]
  },
  {
   "cell_type": "code",
   "execution_count": 24,
   "metadata": {
    "collapsed": false
   },
   "outputs": [
    {
     "data": {
      "text/html": [
       "<div>\n",
       "<table border=\"1\" class=\"dataframe\">\n",
       "  <thead>\n",
       "    <tr style=\"text-align: right;\">\n",
       "      <th></th>\n",
       "      <th>0</th>\n",
       "      <th>1</th>\n",
       "      <th>2</th>\n",
       "      <th>3</th>\n",
       "    </tr>\n",
       "  </thead>\n",
       "  <tbody>\n",
       "    <tr>\n",
       "      <th>0</th>\n",
       "      <td>2</td>\n",
       "      <td>3</td>\n",
       "      <td>0</td>\n",
       "      <td>ed3a85e9bde09ca42fb6e212c579694d</td>\n",
       "    </tr>\n",
       "    <tr>\n",
       "      <th>1</th>\n",
       "      <td>1</td>\n",
       "      <td>4</td>\n",
       "      <td>0</td>\n",
       "      <td>ed3a85e9bde09ca42fb6e212c579694d</td>\n",
       "    </tr>\n",
       "    <tr>\n",
       "      <th>2</th>\n",
       "      <td>3</td>\n",
       "      <td>8</td>\n",
       "      <td>1</td>\n",
       "      <td>ed3a85e9bde09ca42fb6e212c579694d</td>\n",
       "    </tr>\n",
       "    <tr>\n",
       "      <th>3</th>\n",
       "      <td>0</td>\n",
       "      <td>1</td>\n",
       "      <td>0</td>\n",
       "      <td>ed3a85e9bde09ca42fb6e212c579694d</td>\n",
       "    </tr>\n",
       "    <tr>\n",
       "      <th>4</th>\n",
       "      <td>1</td>\n",
       "      <td>4</td>\n",
       "      <td>0</td>\n",
       "      <td>ed3a85e9bde09ca42fb6e212c579694d</td>\n",
       "    </tr>\n",
       "    <tr>\n",
       "      <th>5</th>\n",
       "      <td>7</td>\n",
       "      <td>8</td>\n",
       "      <td>1</td>\n",
       "      <td>ed3a85e9bde09ca42fb6e212c579694d</td>\n",
       "    </tr>\n",
       "    <tr>\n",
       "      <th>6</th>\n",
       "      <td>0</td>\n",
       "      <td>4</td>\n",
       "      <td>0</td>\n",
       "      <td>ed3a85e9bde09ca42fb6e212c579694d</td>\n",
       "    </tr>\n",
       "    <tr>\n",
       "      <th>7</th>\n",
       "      <td>1</td>\n",
       "      <td>8</td>\n",
       "      <td>1</td>\n",
       "      <td>ed3a85e9bde09ca42fb6e212c579694d</td>\n",
       "    </tr>\n",
       "    <tr>\n",
       "      <th>8</th>\n",
       "      <td>0</td>\n",
       "      <td>6</td>\n",
       "      <td>0</td>\n",
       "      <td>ed3a85e9bde09ca42fb6e212c579694d</td>\n",
       "    </tr>\n",
       "    <tr>\n",
       "      <th>9</th>\n",
       "      <td>2</td>\n",
       "      <td>6</td>\n",
       "      <td>0</td>\n",
       "      <td>ed3a85e9bde09ca42fb6e212c579694d</td>\n",
       "    </tr>\n",
       "    <tr>\n",
       "      <th>10</th>\n",
       "      <td>5</td>\n",
       "      <td>7</td>\n",
       "      <td>0</td>\n",
       "      <td>ed3a85e9bde09ca42fb6e212c579694d</td>\n",
       "    </tr>\n",
       "    <tr>\n",
       "      <th>11</th>\n",
       "      <td>1</td>\n",
       "      <td>9</td>\n",
       "      <td>1</td>\n",
       "      <td>ed3a85e9bde09ca42fb6e212c579694d</td>\n",
       "    </tr>\n",
       "    <tr>\n",
       "      <th>12</th>\n",
       "      <td>2</td>\n",
       "      <td>6</td>\n",
       "      <td>0</td>\n",
       "      <td>ed3a85e9bde09ca42fb6e212c579694d</td>\n",
       "    </tr>\n",
       "    <tr>\n",
       "      <th>13</th>\n",
       "      <td>8</td>\n",
       "      <td>9</td>\n",
       "      <td>1</td>\n",
       "      <td>ed3a85e9bde09ca42fb6e212c579694d</td>\n",
       "    </tr>\n",
       "    <tr>\n",
       "      <th>14</th>\n",
       "      <td>1</td>\n",
       "      <td>4</td>\n",
       "      <td>0</td>\n",
       "      <td>ed3a85e9bde09ca42fb6e212c579694d</td>\n",
       "    </tr>\n",
       "    <tr>\n",
       "      <th>15</th>\n",
       "      <td>4</td>\n",
       "      <td>7</td>\n",
       "      <td>1</td>\n",
       "      <td>9190182c9e71676154a2ea776c46fe27</td>\n",
       "    </tr>\n",
       "    <tr>\n",
       "      <th>16</th>\n",
       "      <td>1</td>\n",
       "      <td>9</td>\n",
       "      <td>1</td>\n",
       "      <td>9190182c9e71676154a2ea776c46fe27</td>\n",
       "    </tr>\n",
       "    <tr>\n",
       "      <th>17</th>\n",
       "      <td>0</td>\n",
       "      <td>4</td>\n",
       "      <td>0</td>\n",
       "      <td>9190182c9e71676154a2ea776c46fe27</td>\n",
       "    </tr>\n",
       "    <tr>\n",
       "      <th>18</th>\n",
       "      <td>8</td>\n",
       "      <td>9</td>\n",
       "      <td>1</td>\n",
       "      <td>9190182c9e71676154a2ea776c46fe27</td>\n",
       "    </tr>\n",
       "    <tr>\n",
       "      <th>19</th>\n",
       "      <td>4</td>\n",
       "      <td>8</td>\n",
       "      <td>1</td>\n",
       "      <td>9190182c9e71676154a2ea776c46fe27</td>\n",
       "    </tr>\n",
       "    <tr>\n",
       "      <th>20</th>\n",
       "      <td>0</td>\n",
       "      <td>8</td>\n",
       "      <td>0</td>\n",
       "      <td>9190182c9e71676154a2ea776c46fe27</td>\n",
       "    </tr>\n",
       "    <tr>\n",
       "      <th>21</th>\n",
       "      <td>3</td>\n",
       "      <td>4</td>\n",
       "      <td>0</td>\n",
       "      <td>9190182c9e71676154a2ea776c46fe27</td>\n",
       "    </tr>\n",
       "    <tr>\n",
       "      <th>22</th>\n",
       "      <td>0</td>\n",
       "      <td>8</td>\n",
       "      <td>0</td>\n",
       "      <td>9190182c9e71676154a2ea776c46fe27</td>\n",
       "    </tr>\n",
       "    <tr>\n",
       "      <th>23</th>\n",
       "      <td>1</td>\n",
       "      <td>2</td>\n",
       "      <td>0</td>\n",
       "      <td>9190182c9e71676154a2ea776c46fe27</td>\n",
       "    </tr>\n",
       "    <tr>\n",
       "      <th>24</th>\n",
       "      <td>2</td>\n",
       "      <td>9</td>\n",
       "      <td>1</td>\n",
       "      <td>9190182c9e71676154a2ea776c46fe27</td>\n",
       "    </tr>\n",
       "    <tr>\n",
       "      <th>25</th>\n",
       "      <td>1</td>\n",
       "      <td>8</td>\n",
       "      <td>1</td>\n",
       "      <td>9190182c9e71676154a2ea776c46fe27</td>\n",
       "    </tr>\n",
       "    <tr>\n",
       "      <th>26</th>\n",
       "      <td>0</td>\n",
       "      <td>8</td>\n",
       "      <td>0</td>\n",
       "      <td>9190182c9e71676154a2ea776c46fe27</td>\n",
       "    </tr>\n",
       "    <tr>\n",
       "      <th>27</th>\n",
       "      <td>6</td>\n",
       "      <td>7</td>\n",
       "      <td>0</td>\n",
       "      <td>9190182c9e71676154a2ea776c46fe27</td>\n",
       "    </tr>\n",
       "    <tr>\n",
       "      <th>28</th>\n",
       "      <td>0</td>\n",
       "      <td>1</td>\n",
       "      <td>0</td>\n",
       "      <td>9190182c9e71676154a2ea776c46fe27</td>\n",
       "    </tr>\n",
       "    <tr>\n",
       "      <th>29</th>\n",
       "      <td>4</td>\n",
       "      <td>5</td>\n",
       "      <td>1</td>\n",
       "      <td>9190182c9e71676154a2ea776c46fe27</td>\n",
       "    </tr>\n",
       "    <tr>\n",
       "      <th>...</th>\n",
       "      <td>...</td>\n",
       "      <td>...</td>\n",
       "      <td>...</td>\n",
       "      <td>...</td>\n",
       "    </tr>\n",
       "    <tr>\n",
       "      <th>407</th>\n",
       "      <td>3</td>\n",
       "      <td>7</td>\n",
       "      <td>0</td>\n",
       "      <td>ace85b2755bb60ee3bd7268317ab0e62</td>\n",
       "    </tr>\n",
       "    <tr>\n",
       "      <th>408</th>\n",
       "      <td>6</td>\n",
       "      <td>8</td>\n",
       "      <td>1</td>\n",
       "      <td>ace85b2755bb60ee3bd7268317ab0e62</td>\n",
       "    </tr>\n",
       "    <tr>\n",
       "      <th>409</th>\n",
       "      <td>1</td>\n",
       "      <td>6</td>\n",
       "      <td>0</td>\n",
       "      <td>ace85b2755bb60ee3bd7268317ab0e62</td>\n",
       "    </tr>\n",
       "    <tr>\n",
       "      <th>410</th>\n",
       "      <td>0</td>\n",
       "      <td>1</td>\n",
       "      <td>0</td>\n",
       "      <td>ace85b2755bb60ee3bd7268317ab0e62</td>\n",
       "    </tr>\n",
       "    <tr>\n",
       "      <th>411</th>\n",
       "      <td>5</td>\n",
       "      <td>7</td>\n",
       "      <td>1</td>\n",
       "      <td>ace85b2755bb60ee3bd7268317ab0e62</td>\n",
       "    </tr>\n",
       "    <tr>\n",
       "      <th>412</th>\n",
       "      <td>5</td>\n",
       "      <td>9</td>\n",
       "      <td>0</td>\n",
       "      <td>ace85b2755bb60ee3bd7268317ab0e62</td>\n",
       "    </tr>\n",
       "    <tr>\n",
       "      <th>413</th>\n",
       "      <td>0</td>\n",
       "      <td>4</td>\n",
       "      <td>0</td>\n",
       "      <td>ace85b2755bb60ee3bd7268317ab0e62</td>\n",
       "    </tr>\n",
       "    <tr>\n",
       "      <th>414</th>\n",
       "      <td>3</td>\n",
       "      <td>9</td>\n",
       "      <td>0</td>\n",
       "      <td>ace85b2755bb60ee3bd7268317ab0e62</td>\n",
       "    </tr>\n",
       "    <tr>\n",
       "      <th>415</th>\n",
       "      <td>0</td>\n",
       "      <td>4</td>\n",
       "      <td>0</td>\n",
       "      <td>ace85b2755bb60ee3bd7268317ab0e62</td>\n",
       "    </tr>\n",
       "    <tr>\n",
       "      <th>416</th>\n",
       "      <td>0</td>\n",
       "      <td>3</td>\n",
       "      <td>0</td>\n",
       "      <td>ace85b2755bb60ee3bd7268317ab0e62</td>\n",
       "    </tr>\n",
       "    <tr>\n",
       "      <th>417</th>\n",
       "      <td>3</td>\n",
       "      <td>6</td>\n",
       "      <td>0</td>\n",
       "      <td>ace85b2755bb60ee3bd7268317ab0e62</td>\n",
       "    </tr>\n",
       "    <tr>\n",
       "      <th>418</th>\n",
       "      <td>3</td>\n",
       "      <td>9</td>\n",
       "      <td>0</td>\n",
       "      <td>ace85b2755bb60ee3bd7268317ab0e62</td>\n",
       "    </tr>\n",
       "    <tr>\n",
       "      <th>419</th>\n",
       "      <td>2</td>\n",
       "      <td>5</td>\n",
       "      <td>1</td>\n",
       "      <td>ace85b2755bb60ee3bd7268317ab0e62</td>\n",
       "    </tr>\n",
       "    <tr>\n",
       "      <th>420</th>\n",
       "      <td>3</td>\n",
       "      <td>8</td>\n",
       "      <td>0</td>\n",
       "      <td>ace85b2755bb60ee3bd7268317ab0e62</td>\n",
       "    </tr>\n",
       "    <tr>\n",
       "      <th>421</th>\n",
       "      <td>1</td>\n",
       "      <td>5</td>\n",
       "      <td>1</td>\n",
       "      <td>ace85b2755bb60ee3bd7268317ab0e62</td>\n",
       "    </tr>\n",
       "    <tr>\n",
       "      <th>422</th>\n",
       "      <td>5</td>\n",
       "      <td>6</td>\n",
       "      <td>0</td>\n",
       "      <td>ace85b2755bb60ee3bd7268317ab0e62</td>\n",
       "    </tr>\n",
       "    <tr>\n",
       "      <th>423</th>\n",
       "      <td>4</td>\n",
       "      <td>6</td>\n",
       "      <td>1</td>\n",
       "      <td>ace85b2755bb60ee3bd7268317ab0e62</td>\n",
       "    </tr>\n",
       "    <tr>\n",
       "      <th>424</th>\n",
       "      <td>1</td>\n",
       "      <td>7</td>\n",
       "      <td>0</td>\n",
       "      <td>ace85b2755bb60ee3bd7268317ab0e62</td>\n",
       "    </tr>\n",
       "    <tr>\n",
       "      <th>425</th>\n",
       "      <td>0</td>\n",
       "      <td>5</td>\n",
       "      <td>1</td>\n",
       "      <td>ace85b2755bb60ee3bd7268317ab0e62</td>\n",
       "    </tr>\n",
       "    <tr>\n",
       "      <th>426</th>\n",
       "      <td>4</td>\n",
       "      <td>8</td>\n",
       "      <td>1</td>\n",
       "      <td>ace85b2755bb60ee3bd7268317ab0e62</td>\n",
       "    </tr>\n",
       "    <tr>\n",
       "      <th>427</th>\n",
       "      <td>3</td>\n",
       "      <td>9</td>\n",
       "      <td>0</td>\n",
       "      <td>ace85b2755bb60ee3bd7268317ab0e62</td>\n",
       "    </tr>\n",
       "    <tr>\n",
       "      <th>428</th>\n",
       "      <td>3</td>\n",
       "      <td>6</td>\n",
       "      <td>0</td>\n",
       "      <td>ace85b2755bb60ee3bd7268317ab0e62</td>\n",
       "    </tr>\n",
       "    <tr>\n",
       "      <th>429</th>\n",
       "      <td>6</td>\n",
       "      <td>9</td>\n",
       "      <td>0</td>\n",
       "      <td>ace85b2755bb60ee3bd7268317ab0e62</td>\n",
       "    </tr>\n",
       "    <tr>\n",
       "      <th>430</th>\n",
       "      <td>0</td>\n",
       "      <td>8</td>\n",
       "      <td>1</td>\n",
       "      <td>ace85b2755bb60ee3bd7268317ab0e62</td>\n",
       "    </tr>\n",
       "    <tr>\n",
       "      <th>431</th>\n",
       "      <td>5</td>\n",
       "      <td>6</td>\n",
       "      <td>0</td>\n",
       "      <td>ace85b2755bb60ee3bd7268317ab0e62</td>\n",
       "    </tr>\n",
       "    <tr>\n",
       "      <th>432</th>\n",
       "      <td>1</td>\n",
       "      <td>3</td>\n",
       "      <td>1</td>\n",
       "      <td>ace85b2755bb60ee3bd7268317ab0e62</td>\n",
       "    </tr>\n",
       "    <tr>\n",
       "      <th>433</th>\n",
       "      <td>7</td>\n",
       "      <td>8</td>\n",
       "      <td>0</td>\n",
       "      <td>ace85b2755bb60ee3bd7268317ab0e62</td>\n",
       "    </tr>\n",
       "    <tr>\n",
       "      <th>434</th>\n",
       "      <td>2</td>\n",
       "      <td>5</td>\n",
       "      <td>1</td>\n",
       "      <td>ace85b2755bb60ee3bd7268317ab0e62</td>\n",
       "    </tr>\n",
       "    <tr>\n",
       "      <th>435</th>\n",
       "      <td>1</td>\n",
       "      <td>7</td>\n",
       "      <td>0</td>\n",
       "      <td>ace85b2755bb60ee3bd7268317ab0e62</td>\n",
       "    </tr>\n",
       "    <tr>\n",
       "      <th>436</th>\n",
       "      <td>2</td>\n",
       "      <td>9</td>\n",
       "      <td>0</td>\n",
       "      <td>ace85b2755bb60ee3bd7268317ab0e62</td>\n",
       "    </tr>\n",
       "  </tbody>\n",
       "</table>\n",
       "<p>437 rows × 4 columns</p>\n",
       "</div>"
      ],
      "text/plain": [
       "     0  1  2                                 3\n",
       "0    2  3  0  ed3a85e9bde09ca42fb6e212c579694d\n",
       "1    1  4  0  ed3a85e9bde09ca42fb6e212c579694d\n",
       "2    3  8  1  ed3a85e9bde09ca42fb6e212c579694d\n",
       "3    0  1  0  ed3a85e9bde09ca42fb6e212c579694d\n",
       "4    1  4  0  ed3a85e9bde09ca42fb6e212c579694d\n",
       "5    7  8  1  ed3a85e9bde09ca42fb6e212c579694d\n",
       "6    0  4  0  ed3a85e9bde09ca42fb6e212c579694d\n",
       "7    1  8  1  ed3a85e9bde09ca42fb6e212c579694d\n",
       "8    0  6  0  ed3a85e9bde09ca42fb6e212c579694d\n",
       "9    2  6  0  ed3a85e9bde09ca42fb6e212c579694d\n",
       "10   5  7  0  ed3a85e9bde09ca42fb6e212c579694d\n",
       "11   1  9  1  ed3a85e9bde09ca42fb6e212c579694d\n",
       "12   2  6  0  ed3a85e9bde09ca42fb6e212c579694d\n",
       "13   8  9  1  ed3a85e9bde09ca42fb6e212c579694d\n",
       "14   1  4  0  ed3a85e9bde09ca42fb6e212c579694d\n",
       "15   4  7  1  9190182c9e71676154a2ea776c46fe27\n",
       "16   1  9  1  9190182c9e71676154a2ea776c46fe27\n",
       "17   0  4  0  9190182c9e71676154a2ea776c46fe27\n",
       "18   8  9  1  9190182c9e71676154a2ea776c46fe27\n",
       "19   4  8  1  9190182c9e71676154a2ea776c46fe27\n",
       "20   0  8  0  9190182c9e71676154a2ea776c46fe27\n",
       "21   3  4  0  9190182c9e71676154a2ea776c46fe27\n",
       "22   0  8  0  9190182c9e71676154a2ea776c46fe27\n",
       "23   1  2  0  9190182c9e71676154a2ea776c46fe27\n",
       "24   2  9  1  9190182c9e71676154a2ea776c46fe27\n",
       "25   1  8  1  9190182c9e71676154a2ea776c46fe27\n",
       "26   0  8  0  9190182c9e71676154a2ea776c46fe27\n",
       "27   6  7  0  9190182c9e71676154a2ea776c46fe27\n",
       "28   0  1  0  9190182c9e71676154a2ea776c46fe27\n",
       "29   4  5  1  9190182c9e71676154a2ea776c46fe27\n",
       "..  .. .. ..                               ...\n",
       "407  3  7  0  ace85b2755bb60ee3bd7268317ab0e62\n",
       "408  6  8  1  ace85b2755bb60ee3bd7268317ab0e62\n",
       "409  1  6  0  ace85b2755bb60ee3bd7268317ab0e62\n",
       "410  0  1  0  ace85b2755bb60ee3bd7268317ab0e62\n",
       "411  5  7  1  ace85b2755bb60ee3bd7268317ab0e62\n",
       "412  5  9  0  ace85b2755bb60ee3bd7268317ab0e62\n",
       "413  0  4  0  ace85b2755bb60ee3bd7268317ab0e62\n",
       "414  3  9  0  ace85b2755bb60ee3bd7268317ab0e62\n",
       "415  0  4  0  ace85b2755bb60ee3bd7268317ab0e62\n",
       "416  0  3  0  ace85b2755bb60ee3bd7268317ab0e62\n",
       "417  3  6  0  ace85b2755bb60ee3bd7268317ab0e62\n",
       "418  3  9  0  ace85b2755bb60ee3bd7268317ab0e62\n",
       "419  2  5  1  ace85b2755bb60ee3bd7268317ab0e62\n",
       "420  3  8  0  ace85b2755bb60ee3bd7268317ab0e62\n",
       "421  1  5  1  ace85b2755bb60ee3bd7268317ab0e62\n",
       "422  5  6  0  ace85b2755bb60ee3bd7268317ab0e62\n",
       "423  4  6  1  ace85b2755bb60ee3bd7268317ab0e62\n",
       "424  1  7  0  ace85b2755bb60ee3bd7268317ab0e62\n",
       "425  0  5  1  ace85b2755bb60ee3bd7268317ab0e62\n",
       "426  4  8  1  ace85b2755bb60ee3bd7268317ab0e62\n",
       "427  3  9  0  ace85b2755bb60ee3bd7268317ab0e62\n",
       "428  3  6  0  ace85b2755bb60ee3bd7268317ab0e62\n",
       "429  6  9  0  ace85b2755bb60ee3bd7268317ab0e62\n",
       "430  0  8  1  ace85b2755bb60ee3bd7268317ab0e62\n",
       "431  5  6  0  ace85b2755bb60ee3bd7268317ab0e62\n",
       "432  1  3  1  ace85b2755bb60ee3bd7268317ab0e62\n",
       "433  7  8  0  ace85b2755bb60ee3bd7268317ab0e62\n",
       "434  2  5  1  ace85b2755bb60ee3bd7268317ab0e62\n",
       "435  1  7  0  ace85b2755bb60ee3bd7268317ab0e62\n",
       "436  2  9  0  ace85b2755bb60ee3bd7268317ab0e62\n",
       "\n",
       "[437 rows x 4 columns]"
      ]
     },
     "execution_count": 24,
     "metadata": {},
     "output_type": "execute_result"
    }
   ],
   "source": [
    "data[['smallIndex', 'bigIndex', 'value', 'userId']].to_csv('dat.csv', index=False, header=False)\n",
    "pd.read_csv('dat.csv', header=None)"
   ]
  },
  {
   "cell_type": "code",
   "execution_count": null,
   "metadata": {
    "collapsed": true
   },
   "outputs": [],
   "source": []
  },
  {
   "cell_type": "code",
   "execution_count": null,
   "metadata": {
    "collapsed": true
   },
   "outputs": [],
   "source": []
  }
 ],
 "metadata": {
  "kernelspec": {
   "display_name": "Python 2",
   "language": "python",
   "name": "python2"
  },
  "language_info": {
   "codemirror_mode": {
    "name": "ipython",
    "version": 2
   },
   "file_extension": ".py",
   "mimetype": "text/x-python",
   "name": "python",
   "nbconvert_exporter": "python",
   "pygments_lexer": "ipython2",
   "version": "2.7.12"
  }
 },
 "nbformat": 4,
 "nbformat_minor": 0
}
