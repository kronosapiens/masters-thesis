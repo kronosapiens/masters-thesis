{
 "cells": [
  {
   "cell_type": "markdown",
   "metadata": {},
   "source": [
    "# Analysis of survey 2565 (Beer survey)"
   ]
  },
  {
   "cell_type": "code",
   "execution_count": 1,
   "metadata": {
    "collapsed": false
   },
   "outputs": [],
   "source": [
    "import matplotlib\n",
    "import pandas as pd\n",
    "\n",
    "pd.options.display.max_columns = 50\n",
    "\n",
    "%matplotlib inline"
   ]
  },
  {
   "cell_type": "code",
   "execution_count": 2,
   "metadata": {
    "collapsed": false
   },
   "outputs": [],
   "source": [
    "ideas = pd.read_csv('wikisurvey_4446_ideas_2016-12-20T14-24-48Z.csv')\n",
    "votes = pd.read_csv('wikisurvey_4446_votes_2016-12-20T14-24-51Z.csv')"
   ]
  },
  {
   "cell_type": "code",
   "execution_count": 3,
   "metadata": {
    "collapsed": false
   },
   "outputs": [
    {
     "data": {
      "text/html": [
       "<div>\n",
       "<table border=\"1\" class=\"dataframe\">\n",
       "  <thead>\n",
       "    <tr style=\"text-align: right;\">\n",
       "      <th></th>\n",
       "      <th>Wikisurvey ID</th>\n",
       "      <th>Idea ID</th>\n",
       "      <th>Idea Text</th>\n",
       "      <th>Wins</th>\n",
       "      <th>Losses</th>\n",
       "      <th>Times involved in Cant Decide</th>\n",
       "      <th>Score</th>\n",
       "      <th>User Submitted</th>\n",
       "      <th>Session ID</th>\n",
       "      <th>Created at</th>\n",
       "      <th>Last Activity</th>\n",
       "      <th>Active</th>\n",
       "      <th>Appearances on Left</th>\n",
       "      <th>Appearances on Right</th>\n",
       "      <th>Info</th>\n",
       "    </tr>\n",
       "  </thead>\n",
       "  <tbody>\n",
       "    <tr>\n",
       "      <th>0</th>\n",
       "      <td>4446</td>\n",
       "      <td>302537</td>\n",
       "      <td>Old Fashioned</td>\n",
       "      <td>28</td>\n",
       "      <td>12</td>\n",
       "      <td>6</td>\n",
       "      <td>69.0476</td>\n",
       "      <td>False</td>\n",
       "      <td>2976495</td>\n",
       "      <td>2014-01-26 21:31:17 UTC</td>\n",
       "      <td>2014-02-15 18:34:06 UTC</td>\n",
       "      <td>True</td>\n",
       "      <td>24</td>\n",
       "      <td>26</td>\n",
       "      <td>NaN</td>\n",
       "    </tr>\n",
       "  </tbody>\n",
       "</table>\n",
       "</div>"
      ],
      "text/plain": [
       "   Wikisurvey ID  Idea ID      Idea Text  Wins  Losses  \\\n",
       "0           4446   302537  Old Fashioned    28      12   \n",
       "\n",
       "   Times involved in Cant Decide    Score User Submitted  Session ID  \\\n",
       "0                              6  69.0476          False     2976495   \n",
       "\n",
       "                Created at            Last Activity Active  \\\n",
       "0  2014-01-26 21:31:17 UTC  2014-02-15 18:34:06 UTC   True   \n",
       "\n",
       "   Appearances on Left  Appearances on Right  Info  \n",
       "0                   24                    26   NaN  "
      ]
     },
     "execution_count": 3,
     "metadata": {},
     "output_type": "execute_result"
    }
   ],
   "source": [
    "ideas.head(1)"
   ]
  },
  {
   "cell_type": "code",
   "execution_count": 4,
   "metadata": {
    "collapsed": false
   },
   "outputs": [
    {
     "data": {
      "text/plain": [
       "21"
      ]
     },
     "execution_count": 4,
     "metadata": {},
     "output_type": "execute_result"
    }
   ],
   "source": [
    "len(ideas)"
   ]
  },
  {
   "cell_type": "code",
   "execution_count": 5,
   "metadata": {
    "collapsed": false
   },
   "outputs": [
    {
     "data": {
      "text/plain": [
       "340"
      ]
     },
     "execution_count": 5,
     "metadata": {},
     "output_type": "execute_result"
    }
   ],
   "source": [
    "len(votes)"
   ]
  },
  {
   "cell_type": "code",
   "execution_count": 6,
   "metadata": {
    "collapsed": false
   },
   "outputs": [
    {
     "data": {
      "text/html": [
       "<div>\n",
       "<table border=\"1\" class=\"dataframe\">\n",
       "  <thead>\n",
       "    <tr style=\"text-align: right;\">\n",
       "      <th></th>\n",
       "      <th>Vote ID</th>\n",
       "      <th>Session ID</th>\n",
       "      <th>Wikisurvey ID</th>\n",
       "      <th>Winner ID</th>\n",
       "      <th>Winner Text</th>\n",
       "      <th>Loser ID</th>\n",
       "      <th>Loser Text</th>\n",
       "      <th>Prompt ID</th>\n",
       "      <th>Appearance ID</th>\n",
       "      <th>Left Choice ID</th>\n",
       "      <th>Right Choice ID</th>\n",
       "      <th>Created at</th>\n",
       "      <th>Updated at</th>\n",
       "      <th>Response Time (s)</th>\n",
       "      <th>Missing Response Time Explanation</th>\n",
       "      <th>Valid</th>\n",
       "      <th>Hashed IP Address</th>\n",
       "      <th>URL Alias</th>\n",
       "      <th>User Agent</th>\n",
       "      <th>Referrer</th>\n",
       "      <th>Widget</th>\n",
       "      <th>Info</th>\n",
       "    </tr>\n",
       "  </thead>\n",
       "  <tbody>\n",
       "    <tr>\n",
       "      <th>0</th>\n",
       "      <td>5808522</td>\n",
       "      <td>2976495</td>\n",
       "      <td>4446</td>\n",
       "      <td>302541</td>\n",
       "      <td>White Russian</td>\n",
       "      <td>302525</td>\n",
       "      <td>Manhattan</td>\n",
       "      <td>16062529</td>\n",
       "      <td>9708971</td>\n",
       "      <td>302525</td>\n",
       "      <td>302541</td>\n",
       "      <td>2014-01-26 21:31:24 UTC</td>\n",
       "      <td>2014-01-26 21:31:24 UTC</td>\n",
       "      <td>4.262</td>\n",
       "      <td>NaN</td>\n",
       "      <td>True</td>\n",
       "      <td>eea76a93a91feaed66e55cae0db062f6</td>\n",
       "      <td>cocktailparty</td>\n",
       "      <td>Mozilla/5.0 (Macintosh; Intel Mac OS X 10_9_1)...</td>\n",
       "      <td>http://www.allourideas.org/questions/new</td>\n",
       "      <td>False</td>\n",
       "      <td>NaN</td>\n",
       "    </tr>\n",
       "  </tbody>\n",
       "</table>\n",
       "</div>"
      ],
      "text/plain": [
       "   Vote ID  Session ID  Wikisurvey ID  Winner ID    Winner Text  Loser ID  \\\n",
       "0  5808522     2976495           4446     302541  White Russian    302525   \n",
       "\n",
       "  Loser Text  Prompt ID  Appearance ID  Left Choice ID  Right Choice ID  \\\n",
       "0  Manhattan   16062529        9708971          302525           302541   \n",
       "\n",
       "                Created at               Updated at  Response Time (s)  \\\n",
       "0  2014-01-26 21:31:24 UTC  2014-01-26 21:31:24 UTC              4.262   \n",
       "\n",
       "   Missing Response Time Explanation Valid                 Hashed IP Address  \\\n",
       "0                                NaN  True  eea76a93a91feaed66e55cae0db062f6   \n",
       "\n",
       "       URL Alias                                         User Agent  \\\n",
       "0  cocktailparty  Mozilla/5.0 (Macintosh; Intel Mac OS X 10_9_1)...   \n",
       "\n",
       "                                   Referrer Widget  Info  \n",
       "0  http://www.allourideas.org/questions/new  False   NaN  "
      ]
     },
     "execution_count": 6,
     "metadata": {},
     "output_type": "execute_result"
    }
   ],
   "source": [
    "votes.head(1)"
   ]
  },
  {
   "cell_type": "code",
   "execution_count": 7,
   "metadata": {
    "collapsed": false
   },
   "outputs": [
    {
     "data": {
      "text/plain": [
       "15"
      ]
     },
     "execution_count": 7,
     "metadata": {},
     "output_type": "execute_result"
    }
   ],
   "source": [
    "len(votes['Session ID'].unique())"
   ]
  },
  {
   "cell_type": "code",
   "execution_count": 8,
   "metadata": {
    "collapsed": false
   },
   "outputs": [
    {
     "data": {
      "text/plain": [
       "14"
      ]
     },
     "execution_count": 8,
     "metadata": {},
     "output_type": "execute_result"
    }
   ],
   "source": [
    "len(votes['Hashed IP Address'].unique())"
   ]
  },
  {
   "cell_type": "code",
   "execution_count": 9,
   "metadata": {
    "collapsed": false
   },
   "outputs": [
    {
     "data": {
      "text/plain": [
       "21"
      ]
     },
     "execution_count": 9,
     "metadata": {},
     "output_type": "execute_result"
    }
   ],
   "source": [
    "len(votes['Winner ID'].unique())"
   ]
  },
  {
   "cell_type": "code",
   "execution_count": 10,
   "metadata": {
    "collapsed": false
   },
   "outputs": [
    {
     "data": {
      "text/plain": [
       "21"
      ]
     },
     "execution_count": 10,
     "metadata": {},
     "output_type": "execute_result"
    }
   ],
   "source": [
    "len(votes['Loser ID'].unique())"
   ]
  },
  {
   "cell_type": "code",
   "execution_count": 11,
   "metadata": {
    "collapsed": false
   },
   "outputs": [
    {
     "data": {
      "text/plain": [
       "Hashed IP Address\n",
       "08406b2274867a1d7e9cfb5b2eae4e2e    21\n",
       "0862499c2755b5eab5ff6450f5a1c617    14\n",
       "0b399f4647cc6033c52253c7b0c30d0e    23\n",
       "10ca03a8397ae98064d8ec46c17db225    38\n",
       "2fee1a141bb26bdea34a826aafa9e650    20\n",
       "3353d55a036a4b492651b72ecf773aa8     1\n",
       "412bcd2e5797ff8eab86a1e22d7413a6    16\n",
       "5c7f193a6a9d6daf5ca813997b9857c6    40\n",
       "6e457e148554b344d0f1c0a27c924954    28\n",
       "8c42c4a80d575312b4c8a36d1089297e    20\n",
       "9ce518e0e75c5ba57c718b3c0959b401    59\n",
       "a8a8b75428d1aaa44a5a872385f96e25    37\n",
       "d7547d9f6289ea169c4d0fa3a800ec19    13\n",
       "eea76a93a91feaed66e55cae0db062f6    10\n",
       "Name: Vote ID, dtype: int64"
      ]
     },
     "execution_count": 11,
     "metadata": {},
     "output_type": "execute_result"
    }
   ],
   "source": [
    "votes.groupby('Hashed IP Address').count()['Vote ID']"
   ]
  },
  {
   "cell_type": "code",
   "execution_count": 16,
   "metadata": {
    "collapsed": false
   },
   "outputs": [
    {
     "data": {
      "text/plain": [
       "<matplotlib.axes._subplots.AxesSubplot at 0x10a6ca210>"
      ]
     },
     "execution_count": 16,
     "metadata": {},
     "output_type": "execute_result"
    },
    {
     "data": {
      "image/png": "[encoded data removed]",
      "text/plain": [
       "<matplotlib.figure.Figure at 0x107ef8910>"
      ]
     },
     "metadata": {},
     "output_type": "display_data"
    }
   ],
   "source": [
    "votes.groupby('Hashed IP Address').count()['Vote ID'].hist()"
   ]
  },
  {
   "cell_type": "code",
   "execution_count": 12,
   "metadata": {
    "collapsed": false
   },
   "outputs": [
    {
     "data": {
      "text/plain": [
       "Session ID\n",
       "2976495    10\n",
       "2993310    26\n",
       "2993347    14\n",
       "2993373    59\n",
       "2993417    37\n",
       "2993438    28\n",
       "2993607    20\n",
       "2996442    38\n",
       "2997537    14\n",
       "3017883    16\n",
       "3020486    20\n",
       "3043415    23\n",
       "3065022     1\n",
       "3067669    21\n",
       "3070905    13\n",
       "Name: Vote ID, dtype: int64"
      ]
     },
     "execution_count": 12,
     "metadata": {},
     "output_type": "execute_result"
    }
   ],
   "source": [
    "votes.groupby('Session ID').count()['Vote ID']"
   ]
  },
  {
   "cell_type": "code",
   "execution_count": 17,
   "metadata": {
    "collapsed": false
   },
   "outputs": [
    {
     "data": {
      "text/plain": [
       "<matplotlib.axes._subplots.AxesSubplot at 0x10a7c26d0>"
      ]
     },
     "execution_count": 17,
     "metadata": {},
     "output_type": "execute_result"
    },
    {
     "data": {
      "image/png": "[encoded data removed]",
      "text/plain": [
       "<matplotlib.figure.Figure at 0x107ef8d10>"
      ]
     },
     "metadata": {},
     "output_type": "display_data"
    }
   ],
   "source": [
    "votes.groupby('Session ID').count()['Vote ID'].hist()"
   ]
  },
  {
   "cell_type": "code",
   "execution_count": 18,
   "metadata": {
    "collapsed": false
   },
   "outputs": [
    {
     "data": {
      "text/html": [
       "<div>\n",
       "<table border=\"1\" class=\"dataframe\">\n",
       "  <thead>\n",
       "    <tr style=\"text-align: right;\">\n",
       "      <th></th>\n",
       "      <th>Winner ID</th>\n",
       "      <th>Loser ID</th>\n",
       "      <th>Hashed IP Address</th>\n",
       "    </tr>\n",
       "  </thead>\n",
       "  <tbody>\n",
       "    <tr>\n",
       "      <th>0</th>\n",
       "      <td>302541</td>\n",
       "      <td>302525</td>\n",
       "      <td>eea76a93a91feaed66e55cae0db062f6</td>\n",
       "    </tr>\n",
       "    <tr>\n",
       "      <th>1</th>\n",
       "      <td>302530</td>\n",
       "      <td>302538</td>\n",
       "      <td>eea76a93a91feaed66e55cae0db062f6</td>\n",
       "    </tr>\n",
       "    <tr>\n",
       "      <th>2</th>\n",
       "      <td>302535</td>\n",
       "      <td>302529</td>\n",
       "      <td>eea76a93a91feaed66e55cae0db062f6</td>\n",
       "    </tr>\n",
       "    <tr>\n",
       "      <th>3</th>\n",
       "      <td>302535</td>\n",
       "      <td>302536</td>\n",
       "      <td>eea76a93a91feaed66e55cae0db062f6</td>\n",
       "    </tr>\n",
       "    <tr>\n",
       "      <th>4</th>\n",
       "      <td>302537</td>\n",
       "      <td>302541</td>\n",
       "      <td>eea76a93a91feaed66e55cae0db062f6</td>\n",
       "    </tr>\n",
       "  </tbody>\n",
       "</table>\n",
       "</div>"
      ],
      "text/plain": [
       "   Winner ID  Loser ID                 Hashed IP Address\n",
       "0     302541    302525  eea76a93a91feaed66e55cae0db062f6\n",
       "1     302530    302538  eea76a93a91feaed66e55cae0db062f6\n",
       "2     302535    302529  eea76a93a91feaed66e55cae0db062f6\n",
       "3     302535    302536  eea76a93a91feaed66e55cae0db062f6\n",
       "4     302537    302541  eea76a93a91feaed66e55cae0db062f6"
      ]
     },
     "execution_count": 18,
     "metadata": {},
     "output_type": "execute_result"
    }
   ],
   "source": [
    "data = votes[['Winner ID', 'Loser ID', 'Hashed IP Address']].copy()\n",
    "data.head()"
   ]
  },
  {
   "cell_type": "code",
   "execution_count": 19,
   "metadata": {
    "collapsed": false
   },
   "outputs": [
    {
     "data": {
      "text/html": [
       "<div>\n",
       "<table border=\"1\" class=\"dataframe\">\n",
       "  <thead>\n",
       "    <tr style=\"text-align: right;\">\n",
       "      <th></th>\n",
       "      <th>Winner ID</th>\n",
       "      <th>Loser ID</th>\n",
       "      <th>Hashed IP Address</th>\n",
       "      <th>value</th>\n",
       "    </tr>\n",
       "  </thead>\n",
       "  <tbody>\n",
       "    <tr>\n",
       "      <th>0</th>\n",
       "      <td>302541</td>\n",
       "      <td>302525</td>\n",
       "      <td>eea76a93a91feaed66e55cae0db062f6</td>\n",
       "      <td>1</td>\n",
       "    </tr>\n",
       "    <tr>\n",
       "      <th>1</th>\n",
       "      <td>302530</td>\n",
       "      <td>302538</td>\n",
       "      <td>eea76a93a91feaed66e55cae0db062f6</td>\n",
       "      <td>0</td>\n",
       "    </tr>\n",
       "    <tr>\n",
       "      <th>2</th>\n",
       "      <td>302535</td>\n",
       "      <td>302529</td>\n",
       "      <td>eea76a93a91feaed66e55cae0db062f6</td>\n",
       "      <td>1</td>\n",
       "    </tr>\n",
       "    <tr>\n",
       "      <th>3</th>\n",
       "      <td>302535</td>\n",
       "      <td>302536</td>\n",
       "      <td>eea76a93a91feaed66e55cae0db062f6</td>\n",
       "      <td>0</td>\n",
       "    </tr>\n",
       "    <tr>\n",
       "      <th>4</th>\n",
       "      <td>302537</td>\n",
       "      <td>302541</td>\n",
       "      <td>eea76a93a91feaed66e55cae0db062f6</td>\n",
       "      <td>0</td>\n",
       "    </tr>\n",
       "  </tbody>\n",
       "</table>\n",
       "</div>"
      ],
      "text/plain": [
       "   Winner ID  Loser ID                 Hashed IP Address  value\n",
       "0     302541    302525  eea76a93a91feaed66e55cae0db062f6      1\n",
       "1     302530    302538  eea76a93a91feaed66e55cae0db062f6      0\n",
       "2     302535    302529  eea76a93a91feaed66e55cae0db062f6      1\n",
       "3     302535    302536  eea76a93a91feaed66e55cae0db062f6      0\n",
       "4     302537    302541  eea76a93a91feaed66e55cae0db062f6      0"
      ]
     },
     "execution_count": 19,
     "metadata": {},
     "output_type": "execute_result"
    }
   ],
   "source": [
    "data['value'] = (data['Winner ID'] > data['Loser ID']).apply(int)\n",
    "data.head()"
   ]
  },
  {
   "cell_type": "code",
   "execution_count": 20,
   "metadata": {
    "collapsed": false
   },
   "outputs": [
    {
     "data": {
      "text/html": [
       "<div>\n",
       "<table border=\"1\" class=\"dataframe\">\n",
       "  <thead>\n",
       "    <tr style=\"text-align: right;\">\n",
       "      <th></th>\n",
       "      <th>Winner ID</th>\n",
       "      <th>Loser ID</th>\n",
       "      <th>Hashed IP Address</th>\n",
       "      <th>value</th>\n",
       "      <th>bigIndex</th>\n",
       "      <th>smallIndex</th>\n",
       "    </tr>\n",
       "  </thead>\n",
       "  <tbody>\n",
       "    <tr>\n",
       "      <th>0</th>\n",
       "      <td>302541</td>\n",
       "      <td>302525</td>\n",
       "      <td>eea76a93a91feaed66e55cae0db062f6</td>\n",
       "      <td>1</td>\n",
       "      <td>302541</td>\n",
       "      <td>302525</td>\n",
       "    </tr>\n",
       "    <tr>\n",
       "      <th>1</th>\n",
       "      <td>302530</td>\n",
       "      <td>302538</td>\n",
       "      <td>eea76a93a91feaed66e55cae0db062f6</td>\n",
       "      <td>0</td>\n",
       "      <td>302538</td>\n",
       "      <td>302530</td>\n",
       "    </tr>\n",
       "    <tr>\n",
       "      <th>2</th>\n",
       "      <td>302535</td>\n",
       "      <td>302529</td>\n",
       "      <td>eea76a93a91feaed66e55cae0db062f6</td>\n",
       "      <td>1</td>\n",
       "      <td>302535</td>\n",
       "      <td>302529</td>\n",
       "    </tr>\n",
       "    <tr>\n",
       "      <th>3</th>\n",
       "      <td>302535</td>\n",
       "      <td>302536</td>\n",
       "      <td>eea76a93a91feaed66e55cae0db062f6</td>\n",
       "      <td>0</td>\n",
       "      <td>302536</td>\n",
       "      <td>302535</td>\n",
       "    </tr>\n",
       "    <tr>\n",
       "      <th>4</th>\n",
       "      <td>302537</td>\n",
       "      <td>302541</td>\n",
       "      <td>eea76a93a91feaed66e55cae0db062f6</td>\n",
       "      <td>0</td>\n",
       "      <td>302541</td>\n",
       "      <td>302537</td>\n",
       "    </tr>\n",
       "  </tbody>\n",
       "</table>\n",
       "</div>"
      ],
      "text/plain": [
       "   Winner ID  Loser ID                 Hashed IP Address  value  bigIndex  \\\n",
       "0     302541    302525  eea76a93a91feaed66e55cae0db062f6      1    302541   \n",
       "1     302530    302538  eea76a93a91feaed66e55cae0db062f6      0    302538   \n",
       "2     302535    302529  eea76a93a91feaed66e55cae0db062f6      1    302535   \n",
       "3     302535    302536  eea76a93a91feaed66e55cae0db062f6      0    302536   \n",
       "4     302537    302541  eea76a93a91feaed66e55cae0db062f6      0    302541   \n",
       "\n",
       "   smallIndex  \n",
       "0      302525  \n",
       "1      302530  \n",
       "2      302529  \n",
       "3      302535  \n",
       "4      302537  "
      ]
     },
     "execution_count": 20,
     "metadata": {},
     "output_type": "execute_result"
    }
   ],
   "source": [
    "data['bigIndex'] = data[['Winner ID', 'Loser ID']].apply(max, axis=1)\n",
    "data['smallIndex'] = data[['Winner ID', 'Loser ID']].apply(min, axis=1)\n",
    "data.head()"
   ]
  },
  {
   "cell_type": "code",
   "execution_count": 21,
   "metadata": {
    "collapsed": false
   },
   "outputs": [],
   "source": [
    "data['userId'] = data['Hashed IP Address']"
   ]
  },
  {
   "cell_type": "code",
   "execution_count": null,
   "metadata": {
    "collapsed": false
   },
   "outputs": [],
   "source": [
    "item_map = {}\n",
    "for i, item_id in enumerate(ideas['Idea ID'].sort_values()): \n",
    "    item_map[item_id] = i\n",
    "    \n",
    "text_map = {}\n",
    "id_to_text = ideas.set_index('Idea ID')['Idea Text']\n",
    "for i, item_id in enumerate(ideas['Idea ID']):\n",
    "    text_map[i] = id_to_text[item_id]"
   ]
  },
  {
   "cell_type": "code",
   "execution_count": null,
   "metadata": {
    "collapsed": false
   },
   "outputs": [],
   "source": [
    "pd.DataFrame.from_dict(item_map, orient='index').to_csv('item_map.csv', header=False)"
   ]
  },
  {
   "cell_type": "code",
   "execution_count": null,
   "metadata": {
    "collapsed": false
   },
   "outputs": [],
   "source": [
    "pd.DataFrame.from_dict(text_map, orient='index').to_csv('text_map.csv', header=False)"
   ]
  },
  {
   "cell_type": "code",
   "execution_count": null,
   "metadata": {
    "collapsed": false
   },
   "outputs": [],
   "source": [
    "for item in item_map:\n",
    "    data.loc[data['smallIndex'] == item, 'smallIndex'] = item_map[item]\n",
    "    data.loc[data['bigIndex'] == item, 'bigIndex'] = item_map[item]"
   ]
  },
  {
   "cell_type": "code",
   "execution_count": null,
   "metadata": {
    "collapsed": false
   },
   "outputs": [],
   "source": [
    "data.head()"
   ]
  },
  {
   "cell_type": "code",
   "execution_count": null,
   "metadata": {
    "collapsed": false
   },
   "outputs": [],
   "source": [
    "data[['smallIndex', 'bigIndex', 'value', 'userId']].to_csv('dat.csv', index=False, header=False)\n",
    "pd.read_csv('dat.csv', header=None)"
   ]
  }
 ],
 "metadata": {
  "kernelspec": {
   "display_name": "Python 2",
   "language": "python",
   "name": "python2"
  },
  "language_info": {
   "codemirror_mode": {
    "name": "ipython",
    "version": 2
   },
   "file_extension": ".py",
   "mimetype": "text/x-python",
   "name": "python",
   "nbconvert_exporter": "python",
   "pygments_lexer": "ipython2",
   "version": "2.7.12"
  }
 },
 "nbformat": 4,
 "nbformat_minor": 0
}
